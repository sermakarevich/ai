{
 "cells": [
  {
   "cell_type": "markdown",
   "metadata": {},
   "source": [
    "# Agent Architectures: Key Concepts in LangGraph\n",
    "\n",
    "The article discusses various agentic concepts in LangGraph, summarized below:\n",
    "\n",
    "## Router\n",
    "- **Description**: An architecture where an LLM selects a single step from predefined options.\n",
    "- **Summary**: Exhibits limited control by focusing on a specific decision.\n",
    "\n",
    "  - **Structured Output**: Guides the LLM to produce responses in a specific format for reliable interpretation and action.\n",
    "\n",
    "## Tool Calling Agent\n",
    "- **Description**: Allows the LLM to make multiple decisions and utilize various tools to accomplish tasks.\n",
    "- **Summary**: Provides more complex control for task execution.\n",
    "\n",
    "  - **Tool Calling**: Enables the LLM to select and use different tools as needed.\n",
    "  - **Memory**: Retains information from previous interactions to inform future decisions.\n",
    "  - **Planning**: Formulates a sequence of actions to achieve a specific goal.\n",
    "  - **ReAct Implementation**: Combines reasoning and acting by integrating tool use and decision-making.\n",
    "\n",
    "## Custom Agent Architectures\n",
    "- **Description**: Tailored agent designs incorporating specific features for unique application requirements.\n",
    "- **Summary**: Offers flexibility in creating specialized workflows.\n",
    "\n",
    "  - **Human-in-the-Loop**: Integrates human feedback into the agent's decision-making process to enhance performance.\n",
    "  - **Parallelization**: Performs multiple tasks simultaneously to improve efficiency.\n",
    "  - **Subgraphs**: Uses smaller, interconnected graphs within the main graph to manage complex workflows.\n",
    "  - **Reflection**: Assesses its own performance and makes adjustments to improve over time.\n",
    "\n",
    "## Summary\n",
    "These concepts provide varying levels of control and flexibility in designing LLM-driven applications."
   ]
  },
  {
   "cell_type": "markdown",
   "metadata": {},
   "source": []
  }
 ],
 "metadata": {
  "language_info": {
   "name": "python"
  }
 },
 "nbformat": 4,
 "nbformat_minor": 2
}
