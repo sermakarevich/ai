{
 "cells": [
  {
   "cell_type": "markdown",
   "metadata": {},
   "source": [
    "LangGraph is a framework for modelling agent workflows as graphs, using **nodes** (Python functions that perform computations), **edges** (Python functions that determine the next node to execute), and a **state** (a shared data structure representing the application's current snapshot).\n",
    "\n",
    "Here's a breakdown of key LangGraph concepts:\n",
    "\n",
    "**Core Components:**\n",
    "\n",
    "*   **State**: A shared data structure, typically a `TypedDict` or Pydantic `BaseModel`, that holds the current state of the application and is passed between nodes.\n",
    "    *   The state's schema is the input schema to all nodes and edges in the graph.\n",
    "    *   The state is updated by reducer functions associated with each key in the state. If no reducer is specified, updates to a key override previous values.\n",
    "    *   The `Annotated` type can specify reducer functions for state keys.\n",
    "    *   State can also have multiple schemas that include private state channels for internal node communication, and input/output schemas that are subsets of an overall schema.\n",
    "    *   Nodes can write to any state channel defined in the graph state, even if not included in the input schema, and can declare additional state channels if the schema is defined.\n",
    "*   **Nodes**: Python functions that contain the logic of the agents and receive the current state as input, perform actions, and return an updated state.\n",
    "    *   Nodes can be synchronous or asynchronous.\n",
    "    *   The first positional argument of a node is the state, and the second (optional) argument is a \"config\".\n",
    "    *   Nodes can be added with or without a specified name. If no name is given, it defaults to the function name.\n",
    "    *   The `START` node represents the user input to the graph, and the `END` node represents a terminal node.\n",
    "*   **Edges**: Python functions that determine which node to execute next based on the current state.\n",
    "    *   Edges can be conditional branches or fixed transitions.\n",
    "    *   A node can have multiple outgoing edges, in which case all destination nodes will be executed in parallel in the next superstep.\n",
    "    *   Normal edges go directly from one node to the next, while conditional edges use a function to determine the next node.\n",
    "    *   The `START` node is used to define the entry point to a graph, and conditional entry points can be used to start at different nodes based on logic.\n",
    "\n",
    "**Graph Execution:**\n",
    "\n",
    "*   LangGraph uses message passing, where nodes send messages along edges to other nodes, which then execute their functions. This process occurs in discrete \"super-steps\".\n",
    "*   A super-step is an iteration over the graph nodes. Nodes that run in parallel are part of the same super-step, while nodes that run sequentially are in separate super-steps.\n",
    "*   Nodes begin in an inactive state and become active when they receive a new message on an incoming edge. Active nodes run their function and respond with updates.\n",
    "*   The graph terminates when all nodes are inactive and no messages are in transit.\n",
    "\n",
    "**State Management and Updates:**\n",
    "\n",
    "*   **Reducers** determine how updates from nodes are applied to the state. Each key in the state has its reducer function.\n",
    "    *   The default reducer overrides the existing value with the update.\n",
    "    *   The `Annotated` type is used to specify custom reducer functions, such as `operator.add` to append to a list.\n",
    "    *   The `add_messages` reducer is used to handle lists of messages, keeping track of message IDs and overwriting existing messages if updated.\n",
    "    *   Messages are deserialized into LangChain `Message` objects using `add_messages`.\n",
    "*  `MessagesState` is a prebuilt state that includes a list of `AnyMessage` objects and uses the `add_messages` reducer.\n",
    "\n",
    "**Additional Features:**\n",
    "\n",
    "*   **Compilation:** Graphs must be compiled before they can be used. Compilation involves basic checks on the graph structure and allows specification of runtime arguments.\n",
    "*   **Send**: The `Send` object allows for dynamic creation of edges and different state versions, which is useful in map-reduce patterns.\n",
    "*   **Command**: The `Command` object can be returned from a node function to combine state updates and control flow.\n",
    "    *   `Command` should be used when state updates and routing to another node are required in the same node. Use conditional edges for conditional routing without state updates.\n",
    "    *   When using `Command`, type annotations with the list of node names for routing are necessary.\n",
    "    *   `Command` is also used to update graph state from within tools.\n",
    "*   **Persistence:** LangGraph provides built-in persistence for an agent's state using checkpointers which saves snapshots of the graph state at each superstep, allowing the graph to be resumed at any time.\n",
    "*   **Threads:** Threads represent individual sessions or conversations with the graph.\n",
    "*   **Storage:** LangGraph provides built-in document storage using the `BaseStore` interface, which enables cross-thread persistence for features such as knowledge bases.\n",
    "*   **Graph Migrations:** LangGraph handles migrations of graph definitions, supporting most topology changes and state modifications while using a checkpointer.\n",
    "*   **Configuration:** Parts of a graph can be marked as configurable to enable switching between models or system prompts. Configuration is passed via the `configurable` key in the config dictionary and accessed in nodes.\n",
    "    *   A recursion limit sets the maximum number of super-steps the graph can execute, which can be set via the `recursion_limit` config key.\n",
    "*   **Interrupt:** The `interrupt` function pauses the graph at specific points to collect user input and allow manual decisions before resuming.  Resuming the graph is done with the `Command` object by setting the `resume` key to the value returned by interrupt.\n",
    "*   **Breakpoints**: Breakpoints pause graph execution and enable step-by-step debugging using the persistence layer. Breakpoints can also be used in human-in-the-loop workflows.\n",
    "*   **Subgraphs:** Subgraphs are graphs used as nodes in other graphs, enabling encapsulation and reuse of nodes.\n",
    "    *   Subgraphs can be added as a compiled subgraph or a function that invokes the subgraph.\n",
    "    *   If the parent graph and subgraph share state keys, you can use the compiled subgraph directly. Otherwise, invoke the subgraph using a function.\n",
    "*   **Visualization**: LangGraph includes built-in ways to visualize graphs.\n",
    "*  **Streaming**: LangGraph supports streaming updates from graph nodes, including streaming tokens from LLM calls.\n"
   ]
  },
  {
   "cell_type": "code",
   "execution_count": 8,
   "metadata": {},
   "outputs": [
    {
     "data": {
      "text/plain": [
       "{'graph_output': 'My name is Lance'}"
      ]
     },
     "execution_count": 8,
     "metadata": {},
     "output_type": "execute_result"
    }
   ],
   "source": [
    "from typing import TypedDict\n",
    "from langgraph.graph import StateGraph, START, END\n",
    "\n",
    "class InputState(TypedDict):\n",
    "    user_input: str\n",
    "\n",
    "class OutputState(TypedDict):\n",
    "    graph_output: str\n",
    "\n",
    "class OverallState(TypedDict):\n",
    "    foo: str\n",
    "    user_input: str\n",
    "    graph_output: str\n",
    "\n",
    "class PrivateState(TypedDict):\n",
    "    bar: str\n",
    "\n",
    "def node_1(state: InputState) -> OverallState:\n",
    "    # Write to OverallState\n",
    "    return {\"foo\": state[\"user_input\"] + \" name\"}\n",
    "\n",
    "def node_2(state: OverallState) -> PrivateState:\n",
    "    # Read from OverallState, write to PrivateState\n",
    "    return {\"bar\": state[\"foo\"] + \" is\"}\n",
    "\n",
    "def node_3(state: PrivateState) -> OutputState:\n",
    "    # Read from PrivateState, write to OutputState\n",
    "    return {\"graph_output\": state[\"bar\"] + \" Lance\"}\n",
    "\n",
    "builder = StateGraph(OverallState,input=InputState,output=OutputState)\n",
    "builder.add_node(\"node_1\", node_1)\n",
    "builder.add_node(\"node_2\", node_2)\n",
    "builder.add_node(\"node_3\", node_3)\n",
    "builder.add_edge(START, \"node_1\")\n",
    "builder.add_edge(\"node_1\", \"node_2\")\n",
    "builder.add_edge(\"node_2\", \"node_3\")\n",
    "builder.add_edge(\"node_3\", END)\n",
    "\n",
    "graph = builder.compile()\n",
    "graph.invoke({\"user_input\":\"My\"})\n",
    "{'graph_output': 'My name is Lance'}"
   ]
  },
  {
   "cell_type": "code",
   "execution_count": 6,
   "metadata": {},
   "outputs": [
    {
     "name": "stdout",
     "output_type": "stream",
     "text": [
      "+-----------+  \n",
      "| __start__ |  \n",
      "+-----------+  \n",
      "      *        \n",
      "      *        \n",
      "      *        \n",
      "  +--------+   \n",
      "  | node_1 |   \n",
      "  +--------+   \n",
      "      *        \n",
      "      *        \n",
      "      *        \n",
      "  +--------+   \n",
      "  | node_2 |   \n",
      "  +--------+   \n",
      "      *        \n",
      "      *        \n",
      "      *        \n",
      "  +--------+   \n",
      "  | node_3 |   \n",
      "  +--------+   \n",
      "      *        \n",
      "      *        \n",
      "      *        \n",
      " +---------+   \n",
      " | __end__ |   \n",
      " +---------+   \n"
     ]
    }
   ],
   "source": [
    "from IPython.display import Image\n",
    "\n",
    "print(graph.get_graph().draw_ascii())"
   ]
  },
  {
   "cell_type": "code",
   "execution_count": 9,
   "metadata": {},
   "outputs": [],
   "source": [
    "from typing import Annotated\n",
    "from typing_extensions import TypedDict\n",
    "from operator import add\n",
    "\n",
    "class State(TypedDict):\n",
    "    foo: int\n",
    "    bar: Annotated[list[str], add]"
   ]
  },
  {
   "cell_type": "code",
   "execution_count": 26,
   "metadata": {},
   "outputs": [],
   "source": [
    "from langgraph.graph import MessagesState\n",
    "\n",
    "class State(MessagesState):\n",
    "    documents: list[str]"
   ]
  },
  {
   "cell_type": "code",
   "execution_count": 30,
   "metadata": {},
   "outputs": [],
   "source": [
    "x = State(documents=[\"a\",\"b\"], messages=[\"c\",\"d\"])"
   ]
  },
  {
   "cell_type": "code",
   "execution_count": 31,
   "metadata": {},
   "outputs": [
    {
     "data": {
      "text/plain": [
       "{'documents': ['a', 'b'], 'messages': ['c', 'd']}"
      ]
     },
     "execution_count": 31,
     "metadata": {},
     "output_type": "execute_result"
    }
   ],
   "source": [
    "x"
   ]
  },
  {
   "cell_type": "code",
   "execution_count": 1,
   "metadata": {},
   "outputs": [],
   "source": [
    "from langgraph.types import Send\n"
   ]
  },
  {
   "cell_type": "code",
   "execution_count": 4,
   "metadata": {},
   "outputs": [
    {
     "data": {
      "text/plain": [
       "{'subjects': ['cats', 'dogs', 'pinguins', 'birds', 'dead', 'alive'],\n",
       " 'jokes': ['Joke about cats',\n",
       "  'Joke about dogs',\n",
       "  'Joke about pinguins',\n",
       "  'Joke about birds',\n",
       "  'Joke about dead',\n",
       "  'Joke about alive']}"
      ]
     },
     "execution_count": 4,
     "metadata": {},
     "output_type": "execute_result"
    }
   ],
   "source": [
    "from typing import TypedDict\n",
    "from typing import Annotated\n",
    "import operator\n",
    "from langgraph.types import Send\n",
    "from langgraph.graph import END, START\n",
    "from langgraph.graph import StateGraph\n",
    "\n",
    "class OverallState(TypedDict):\n",
    "    subjects: list[str]\n",
    "    jokes: Annotated[list[str], operator.add]\n",
    "\n",
    "\n",
    "def continue_to_jokes(state: OverallState):\n",
    "    return [Send(\"generate_joke\", {\"subject\": s}) for s in state['subjects']]\n",
    "\n",
    "\n",
    "builder = StateGraph(OverallState)\n",
    "builder.add_node(\"generate_joke\", lambda state: {\"jokes\": [f\"Joke about {state['subject']}\"]})\n",
    "builder.add_conditional_edges(START, continue_to_jokes)\n",
    "builder.add_edge(\"generate_joke\", END)\n",
    "graph = builder.compile()\n",
    "\n",
    "# Invoking with two subjects results in a generated joke for each\n",
    "graph.invoke({\"subjects\": [\"cats\", \"dogs\", \"pinguins\", \"birds\", \"dead\", \"alive\"]})\n"
   ]
  },
  {
   "cell_type": "code",
   "execution_count": 5,
   "metadata": {},
   "outputs": [
    {
     "name": "stdout",
     "output_type": "stream",
     "text": [
      "               +-----------+        \n",
      "               | __start__ |        \n",
      "               +-----------+        \n",
      "              ...          ...      \n",
      "             .                .     \n",
      "           ..                  ...  \n",
      "+---------------+                 . \n",
      "| generate_joke |              ...  \n",
      "+---------------+             .     \n",
      "              ***          ...      \n",
      "                 *        .         \n",
      "                  **    ..          \n",
      "                +---------+         \n",
      "                | __end__ |         \n",
      "                +---------+         \n"
     ]
    }
   ],
   "source": [
    "print(graph.get_graph().draw_ascii())"
   ]
  },
  {
   "cell_type": "code",
   "execution_count": null,
   "metadata": {},
   "outputs": [],
   "source": [
    "def my_node(state: State) -> Command[Literal[\"my_other_node\"]]:\n",
    "    return Command(\n",
    "        # state update\n",
    "        update={\"foo\": \"bar\"},\n",
    "        # control flow\n",
    "        goto=\"my_other_node\"\n",
    "    )"
   ]
  },
  {
   "cell_type": "code",
   "execution_count": 2,
   "metadata": {},
   "outputs": [],
   "source": [
    "import requests\n",
    "from bs4 import BeautifulSoup"
   ]
  },
  {
   "cell_type": "code",
   "execution_count": 5,
   "metadata": {},
   "outputs": [
    {
     "name": "stdout",
     "output_type": "stream",
     "text": [
      "/\n",
      "/\n",
      "https://www.youtube.com/about/\n",
      "https://www.youtube.com/about/press/\n",
      "https://www.youtube.com/about/copyright/\n",
      "/t/contact_us/\n",
      "https://www.youtube.com/creators/\n",
      "https://www.youtube.com/ads/\n",
      "https://developers.google.com/youtube\n",
      "/t/terms\n",
      "/t/privacy\n",
      "https://www.youtube.com/about/policies/\n",
      "https://www.youtube.com/howyoutubeworks?utm_campaign=ytgen&utm_source=ythp&utm_medium=LeftNav&utm_content=txt&u=https%3A%2F%2Fwww.youtube.com%2Fhowyoutubeworks%3Futm_source%3Dythp%26utm_medium%3DLeftNav%26utm_campaign%3Dytgen\n",
      "/new\n"
     ]
    }
   ],
   "source": [
    "\n",
    "# URL of the webpage you want to download\n",
    "url = \"https://www.youtube.com/playlist?list=PLfaIDFEXuae16n2TWUkKq5PgJ0w6Pkwtg\"\n",
    "\n",
    "# Step 1: Download the HTML page\n",
    "response = requests.get(url)\n",
    "\n",
    "# Check if the request was successful\n",
    "if response.status_code == 200:\n",
    "    html_content = response.text\n",
    "    \n",
    "    # Step 2: Parse the HTML content\n",
    "    soup = BeautifulSoup(html_content, 'html.parser')\n",
    "    \n",
    "    # Step 3: Extract all links\n",
    "    links = [a['href'] for a in soup.find_all('a', href=True)]\n",
    "    \n",
    "    # Display the links\n",
    "    for link in links:\n",
    "        print(link)\n",
    "else:\n",
    "    print(f\"Failed to retrieve the webpage. Status code: {response.status_code}\")"
   ]
  },
  {
   "cell_type": "code",
   "execution_count": null,
   "metadata": {},
   "outputs": [],
   "source": [
    "from langchain import hub"
   ]
  }
 ],
 "metadata": {
  "kernelspec": {
   "display_name": "langgraph",
   "language": "python",
   "name": "python3"
  },
  "language_info": {
   "codemirror_mode": {
    "name": "ipython",
    "version": 3
   },
   "file_extension": ".py",
   "mimetype": "text/x-python",
   "name": "python",
   "nbconvert_exporter": "python",
   "pygments_lexer": "ipython3",
   "version": "3.11.11"
  }
 },
 "nbformat": 4,
 "nbformat_minor": 2
}
