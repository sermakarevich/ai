{
 "cells": [
  {
   "cell_type": "markdown",
   "metadata": {},
   "source": []
  },
  {
   "cell_type": "code",
   "execution_count": 1,
   "metadata": {},
   "outputs": [],
   "source": [
    "from typing import Annotated\n",
    "\n",
    "from typing_extensions import TypedDict\n",
    "\n",
    "from langgraph.graph import StateGraph, START, END\n",
    "from langgraph.graph.message import add_messages\n",
    "\n",
    "\n",
    "class State(TypedDict):\n",
    "    # Messages have the type \"list\". The `add_messages` function\n",
    "    # in the annotation defines how this state key should be updated\n",
    "    # (in this case, it appends messages to the list, rather than overwriting them)\n",
    "    messages: Annotated[list, add_messages]\n",
    "\n",
    "\n",
    "graph_builder = StateGraph(State)"
   ]
  },
  {
   "cell_type": "code",
   "execution_count": 2,
   "metadata": {},
   "outputs": [
    {
     "data": {
      "text/plain": [
       "<langgraph.graph.state.StateGraph at 0x7bb07d218410>"
      ]
     },
     "execution_count": 2,
     "metadata": {},
     "output_type": "execute_result"
    }
   ],
   "source": [
    "from langchain_ollama import ChatOllama\n",
    "\n",
    "llm = ChatOllama(model=\"llama3.1\")\n",
    "\n",
    "\n",
    "def chatbot(state: State):\n",
    "    return {\"messages\": [llm.invoke(state[\"messages\"])]}\n",
    "\n",
    "\n",
    "# The first argument is the unique node name\n",
    "# The second argument is the function or object that will be called whenever\n",
    "# the node is used.\n",
    "graph_builder.add_node(\"chatbot\", chatbot)"
   ]
  },
  {
   "cell_type": "code",
   "execution_count": 3,
   "metadata": {},
   "outputs": [
    {
     "data": {
      "text/plain": [
       "<langgraph.graph.state.StateGraph at 0x7bb07d218410>"
      ]
     },
     "execution_count": 3,
     "metadata": {},
     "output_type": "execute_result"
    }
   ],
   "source": [
    "graph_builder.add_edge(START, \"chatbot\")"
   ]
  },
  {
   "cell_type": "code",
   "execution_count": 4,
   "metadata": {},
   "outputs": [
    {
     "data": {
      "text/plain": [
       "<langgraph.graph.state.StateGraph at 0x7bb07d218410>"
      ]
     },
     "execution_count": 4,
     "metadata": {},
     "output_type": "execute_result"
    }
   ],
   "source": [
    "graph_builder.add_edge(\"chatbot\", END)"
   ]
  },
  {
   "cell_type": "code",
   "execution_count": 6,
   "metadata": {},
   "outputs": [
    {
     "data": {
      "text/plain": [
       "{('__start__', 'chatbot'), ('chatbot', '__end__')}"
      ]
     },
     "execution_count": 6,
     "metadata": {},
     "output_type": "execute_result"
    }
   ],
   "source": [
    "graph_builder.edges"
   ]
  },
  {
   "cell_type": "code",
   "execution_count": 7,
   "metadata": {},
   "outputs": [],
   "source": [
    "graph = graph_builder.compile()"
   ]
  },
  {
   "cell_type": "code",
   "execution_count": 8,
   "metadata": {},
   "outputs": [
    {
     "data": {
      "image/png": "[encoded data removed]",
      "text/plain": [
       "<IPython.core.display.Image object>"
      ]
     },
     "metadata": {},
     "output_type": "display_data"
    }
   ],
   "source": [
    "from IPython.display import Image, display\n",
    "\n",
    "try:\n",
    "    display(Image(graph.get_graph().draw_mermaid_png()))\n",
    "except Exception:\n",
    "    # This requires some extra dependencies and is optional\n",
    "    pass"
   ]
  },
  {
   "cell_type": "code",
   "execution_count": 11,
   "metadata": {},
   "outputs": [
    {
     "name": "stdout",
     "output_type": "stream",
     "text": [
      "+-----------+  \n",
      "| __start__ |  \n",
      "+-----------+  \n",
      "      *        \n",
      "      *        \n",
      "      *        \n",
      " +---------+   \n",
      " | chatbot |   \n",
      " +---------+   \n",
      "      *        \n",
      "      *        \n",
      "      *        \n",
      " +---------+   \n",
      " | __end__ |   \n",
      " +---------+   \n"
     ]
    }
   ],
   "source": [
    "graph.get_graph().print_ascii()"
   ]
  },
  {
   "cell_type": "code",
   "execution_count": 12,
   "metadata": {},
   "outputs": [
    {
     "name": "stdout",
     "output_type": "stream",
     "text": [
      "Assistant: LangGraph is an artificial intelligence tool that was developed by Microsoft. It allows users to visualize language in a network graph, revealing the relationships between words and their meanings based on linguistic patterns found in text data. The technology can identify synonyms, antonyms, hyponyms (a word or phrase that is more specific than another), hypernyms (a word or phrase that encompasses other concepts) and so forth, providing a visual representation of language structures.\n",
      "\n",
      "LangGraph operates by analyzing large datasets to understand the way words are used together in sentences. It then maps these connections into an interactive graph, where users can explore different linguistic relationships between terms. This not only aids understanding of complex linguistic patterns but also offers insights into how language is used and interpreted in various contexts.\n",
      "\n",
      "The development of LangGraph highlights advances in artificial intelligence, natural language processing (NLP), and the ability to model and visualize complex systems like languages. The tool has potential applications in linguistics research, education, content analysis, and other fields where understanding linguistic relationships can be beneficial.\n",
      "\n",
      "Microsoft has been at the forefront of several AI breakthroughs, including the development of tools that enable deep learning models to understand and generate human-like text.\n",
      "Assistant: I'm an artificial intelligence model known as Llama. Llama stands for \"Large Language Model Meta AI.\"\n",
      "Assistant: I'm an artificial intelligence model known as Llama. Llama stands for \"Large Language Model Meta AI.\"\n",
      "Goodbye!\n"
     ]
    }
   ],
   "source": [
    "def stream_graph_updates(user_input: str):\n",
    "    for event in graph.stream({\"messages\": [(\"user\", user_input)]}):\n",
    "        for value in event.values():\n",
    "            print(\"Assistant:\", value[\"messages\"][-1].content)\n",
    "\n",
    "\n",
    "while True:\n",
    "    try:\n",
    "        user_input = input(\"User: \")\n",
    "        if user_input.lower() in [\"quit\", \"exit\", \"q\"]:\n",
    "            print(\"Goodbye!\")\n",
    "            break\n",
    "\n",
    "        stream_graph_updates(user_input)\n",
    "    except:\n",
    "        # fallback if input() is not available\n",
    "        user_input = \"What do you know about LangGraph?\"\n",
    "        print(\"User: \" + user_input)\n",
    "        stream_graph_updates(user_input)\n",
    "        break"
   ]
  },
  {
   "cell_type": "code",
   "execution_count": 13,
   "metadata": {},
   "outputs": [
    {
     "data": {
      "text/plain": [
       "[{'url': 'https://langchain-ai.github.io/langgraph/concepts/low_level/',\n",
       "  'content': 'Nodes¶ In LangGraph, nodes are typically python functions (sync or async) where the first positional argument is the state, and (optionally), the second positional argument is a \"config\", containing optional configurable parameters (such as a thread_id). Similar to NetworkX, you add these nodes to a graph using the add_node method:'},\n",
       " {'url': 'https://medium.com/@cplog/introduction-to-langgraph-a-beginners-guide-14f9be027141',\n",
       "  'content': 'Nodes: Nodes are the building blocks of your LangGraph. Each node represents a function or a computation step. You define nodes to perform specific tasks, such as processing input, making'}]"
      ]
     },
     "execution_count": 13,
     "metadata": {},
     "output_type": "execute_result"
    }
   ],
   "source": [
    "from langchain_community.tools.tavily_search import TavilySearchResults\n",
    "\n",
    "tool = TavilySearchResults(max_results=2)\n",
    "tools = [tool]\n",
    "tool.invoke(\"What's a 'node' in LangGraph?\")"
   ]
  },
  {
   "cell_type": "code",
   "execution_count": 14,
   "metadata": {},
   "outputs": [
    {
     "data": {
      "text/plain": [
       "<langgraph.graph.state.StateGraph at 0x7bb065771650>"
      ]
     },
     "execution_count": 14,
     "metadata": {},
     "output_type": "execute_result"
    }
   ],
   "source": [
    "from typing import Annotated\n",
    "\n",
    "from langchain_ollama import ChatOllama\n",
    "from typing_extensions import TypedDict\n",
    "\n",
    "from langgraph.graph import StateGraph, START, END\n",
    "from langgraph.graph.message import add_messages\n",
    "\n",
    "\n",
    "class State(TypedDict):\n",
    "    messages: Annotated[list, add_messages]\n",
    "\n",
    "\n",
    "graph_builder = StateGraph(State)\n",
    "\n",
    "\n",
    "llm = ChatOllama(model=\"llama3.1\")\n",
    "# Modification: tell the LLM which tools it can call\n",
    "llm_with_tools = llm.bind_tools(tools)\n",
    "\n",
    "\n",
    "def chatbot(state: State):\n",
    "    return {\"messages\": [llm_with_tools.invoke(state[\"messages\"])]}\n",
    "\n",
    "\n",
    "graph_builder.add_node(\"chatbot\", chatbot)"
   ]
  },
  {
   "cell_type": "code",
   "execution_count": 15,
   "metadata": {},
   "outputs": [
    {
     "data": {
      "text/plain": [
       "{'tavily_search_results_json': TavilySearchResults(max_results=2, api_wrapper=TavilySearchAPIWrapper(tavily_api_key=SecretStr('**********')))}"
      ]
     },
     "execution_count": 15,
     "metadata": {},
     "output_type": "execute_result"
    }
   ],
   "source": [
    "{tool.name: tool for tool in tools}\n"
   ]
  },
  {
   "cell_type": "code",
   "execution_count": 16,
   "metadata": {},
   "outputs": [
    {
     "data": {
      "text/plain": [
       "<langgraph.graph.state.StateGraph at 0x7bb065771650>"
      ]
     },
     "execution_count": 16,
     "metadata": {},
     "output_type": "execute_result"
    }
   ],
   "source": [
    "import json\n",
    "\n",
    "from langchain_core.messages import ToolMessage\n",
    "\n",
    "\n",
    "class BasicToolNode:\n",
    "    \"\"\"A node that runs the tools requested in the last AIMessage.\"\"\"\n",
    "\n",
    "    def __init__(self, tools: list) -> None:\n",
    "        self.tools_by_name = {tool.name: tool for tool in tools}\n",
    "\n",
    "    def __call__(self, inputs: dict):\n",
    "        if messages := inputs.get(\"messages\", []):\n",
    "            message = messages[-1]\n",
    "        else:\n",
    "            raise ValueError(\"No message found in input\")\n",
    "        outputs = []\n",
    "        for tool_call in message.tool_calls:\n",
    "            tool_result = self.tools_by_name[tool_call[\"name\"]].invoke(\n",
    "                tool_call[\"args\"]\n",
    "            )\n",
    "            outputs.append(\n",
    "                ToolMessage(\n",
    "                    content=json.dumps(tool_result),\n",
    "                    name=tool_call[\"name\"],\n",
    "                    tool_call_id=tool_call[\"id\"],\n",
    "                )\n",
    "            )\n",
    "        return {\"messages\": outputs}\n",
    "\n",
    "\n",
    "tool_node = BasicToolNode(tools=[tool])\n",
    "graph_builder.add_node(\"tools\", tool_node)"
   ]
  },
  {
   "cell_type": "code",
   "execution_count": 17,
   "metadata": {},
   "outputs": [],
   "source": [
    "def route_tools(\n",
    "    state: State,\n",
    "):\n",
    "    \"\"\"\n",
    "    Use in the conditional_edge to route to the ToolNode if the last message\n",
    "    has tool calls. Otherwise, route to the end.\n",
    "    \"\"\"\n",
    "    if isinstance(state, list):\n",
    "        ai_message = state[-1]\n",
    "    elif messages := state.get(\"messages\", []):\n",
    "        ai_message = messages[-1]\n",
    "    else:\n",
    "        raise ValueError(f\"No messages found in input state to tool_edge: {state}\")\n",
    "    if hasattr(ai_message, \"tool_calls\") and len(ai_message.tool_calls) > 0:\n",
    "        return \"tools\"\n",
    "    return END\n",
    "\n",
    "\n",
    "# The `tools_condition` function returns \"tools\" if the chatbot asks to use a tool, and \"END\" if\n",
    "# it is fine directly responding. This conditional routing defines the main agent loop.\n",
    "graph_builder.add_conditional_edges(\n",
    "    \"chatbot\",\n",
    "    route_tools,\n",
    "    # The following dictionary lets you tell the graph to interpret the condition's outputs as a specific node\n",
    "    # It defaults to the identity function, but if you\n",
    "    # want to use a node named something else apart from \"tools\",\n",
    "    # You can update the value of the dictionary to something else\n",
    "    # e.g., \"tools\": \"my_tools\"\n",
    "    {\"tools\": \"tools\", END: END},\n",
    ")\n",
    "# Any time a tool is called, we return to the chatbot to decide the next step\n",
    "graph_builder.add_edge(\"tools\", \"chatbot\")\n",
    "graph_builder.add_edge(START, \"chatbot\")\n",
    "graph = graph_builder.compile()"
   ]
  },
  {
   "cell_type": "code",
   "execution_count": 18,
   "metadata": {},
   "outputs": [
    {
     "name": "stdout",
     "output_type": "stream",
     "text": [
      "        +-----------+         \n",
      "        | __start__ |         \n",
      "        +-----------+         \n",
      "              *               \n",
      "              *               \n",
      "              *               \n",
      "        +---------+           \n",
      "        | chatbot |           \n",
      "        +---------+           \n",
      "         *         .          \n",
      "       **           ..        \n",
      "      *               .       \n",
      "+-------+         +---------+ \n",
      "| tools |         | __end__ | \n",
      "+-------+         +---------+ \n"
     ]
    }
   ],
   "source": [
    "graph.get_graph().print_ascii()"
   ]
  },
  {
   "cell_type": "code",
   "execution_count": 19,
   "metadata": {},
   "outputs": [
    {
     "data": {
      "image/png": "[encoded data removed]",
      "text/plain": [
       "<IPython.core.display.Image object>"
      ]
     },
     "execution_count": 19,
     "metadata": {},
     "output_type": "execute_result"
    }
   ],
   "source": [
    "Image(graph.get_graph().draw_mermaid_png())"
   ]
  },
  {
   "cell_type": "code",
   "execution_count": 20,
   "metadata": {},
   "outputs": [
    {
     "name": "stdout",
     "output_type": "stream",
     "text": [
      "Assistant: \n",
      "Assistant: [{\"url\": \"https://www.langchain.com/langgraph\", \"content\": \"LangGraph is a framework for building and scaling agentic applications with LangChain Platform. It supports diverse control flows, human-agent collaboration, streaming, and deployment options for complex tasks.\"}, {\"url\": \"https://www.datacamp.com/tutorial/langgraph-tutorial\", \"content\": \"LangGraph is a library within the LangChain ecosystem that simplifies the development of complex, multi-agent large language model (LLM) applications. Learn how to use LangGraph to create stateful, flexible, and scalable systems with nodes, edges, and state management.\"}]\n",
      "Assistant: Based on the search results, LangGraph is a framework for building and scaling agentic applications with the LangChain Platform. It supports diverse control flows, human-agent collaboration, streaming, and deployment options for complex tasks.\n",
      "\n",
      "Additionally, LangGraph is also a library within the LangChain ecosystem that simplifies the development of complex, multi-agent large language model (LLM) applications. It enables users to create stateful, flexible, and scalable systems with nodes, edges, and state management.\n",
      "\n",
      "Therefore, if you are looking to build agentic applications or simplify the development of complex LLM applications, LangGraph might be a useful tool for you to explore.\n",
      "Goodbye!\n"
     ]
    }
   ],
   "source": [
    "while True:\n",
    "    try:\n",
    "        user_input = input(\"User: \")\n",
    "        if user_input.lower() in [\"quit\", \"exit\", \"q\"]:\n",
    "            print(\"Goodbye!\")\n",
    "            break\n",
    "\n",
    "        stream_graph_updates(user_input)\n",
    "    except:\n",
    "        # fallback if input() is not available\n",
    "        user_input = \"What do you know about LangGraph?\"\n",
    "        print(\"User: \" + user_input)\n",
    "        stream_graph_updates(user_input)\n",
    "        break"
   ]
  },
  {
   "cell_type": "code",
   "execution_count": null,
   "metadata": {},
   "outputs": [],
   "source": [
    "from langgraph.prebuilt import ToolNode, tools_condition"
   ]
  },
  {
   "cell_type": "code",
   "execution_count": 76,
   "metadata": {},
   "outputs": [],
   "source": [
    "from langgraph.checkpoint.memory import MemorySaver\n",
    "\n",
    "memory = MemorySaver()"
   ]
  },
  {
   "cell_type": "code",
   "execution_count": 77,
   "metadata": {},
   "outputs": [
    {
     "data": {
      "text/plain": [
       "<langgraph.graph.state.StateGraph at 0x7bb0580cf610>"
      ]
     },
     "execution_count": 77,
     "metadata": {},
     "output_type": "execute_result"
    }
   ],
   "source": [
    "from typing import Annotated\n",
    "\n",
    "from langchain_ollama import ChatOllama\n",
    "from langchain_community.tools.tavily_search import TavilySearchResults\n",
    "from langchain_core.messages import BaseMessage\n",
    "from typing_extensions import TypedDict\n",
    "\n",
    "from langgraph.graph import StateGraph, START, END\n",
    "from langgraph.graph.message import add_messages\n",
    "from langgraph.prebuilt import ToolNode, tools_condition\n",
    "\n",
    "\n",
    "class State(TypedDict):\n",
    "    messages: Annotated[list, add_messages]\n",
    "\n",
    "\n",
    "graph_builder = StateGraph(State)\n",
    "\n",
    "\n",
    "tool = TavilySearchResults(max_results=2)\n",
    "tools = [tool]\n",
    "llm = ChatOllama(model=\"granite3.1-dense:8b\")\n",
    "llm_with_tools = llm.bind_tools(tools)\n",
    "\n",
    "\n",
    "def chatbot(state: State):\n",
    "    return {\"messages\": [llm_with_tools.invoke(state[\"messages\"])]}\n",
    "\n",
    "\n",
    "graph_builder.add_node(\"chatbot\", chatbot)\n",
    "\n",
    "tool_node = ToolNode(tools=[tool])\n",
    "graph_builder.add_node(\"tools\", tool_node)\n",
    "\n",
    "graph_builder.add_conditional_edges(\n",
    "    \"chatbot\",\n",
    "    tools_condition,\n",
    ")\n",
    "# Any time a tool is called, we return to the chatbot to decide the next step\n",
    "graph_builder.add_edge(\"tools\", \"chatbot\")\n",
    "graph_builder.add_edge(START, \"chatbot\")"
   ]
  },
  {
   "cell_type": "code",
   "execution_count": 78,
   "metadata": {},
   "outputs": [],
   "source": [
    "graph = graph_builder.compile(checkpointer=memory)"
   ]
  },
  {
   "cell_type": "code",
   "execution_count": 79,
   "metadata": {},
   "outputs": [
    {
     "data": {
      "image/png": "[encoded data removed]",
      "text/plain": [
       "<IPython.core.display.Image object>"
      ]
     },
     "execution_count": 79,
     "metadata": {},
     "output_type": "execute_result"
    }
   ],
   "source": [
    "Image(graph.get_graph().draw_mermaid_png())"
   ]
  },
  {
   "cell_type": "code",
   "execution_count": 80,
   "metadata": {},
   "outputs": [],
   "source": [
    "config = {\"configurable\": {\"thread_id\": \"2\"}}"
   ]
  },
  {
   "cell_type": "code",
   "execution_count": 81,
   "metadata": {},
   "outputs": [
    {
     "name": "stdout",
     "output_type": "stream",
     "text": [
      "================================\u001b[1m Human Message \u001b[0m=================================\n",
      "\n",
      "Hi there! My name is Will.\n",
      "==================================\u001b[1m Ai Message \u001b[0m==================================\n",
      "\n",
      "Hello Will, it's nice to meet you. How can I assist you today?\n"
     ]
    }
   ],
   "source": [
    "user_input = \"Hi there! My name is Will.\"\n",
    "\n",
    "# The config is the **second positional argument** to stream() or invoke()!\n",
    "events = graph.stream(\n",
    "    {\"messages\": [(\"user\", user_input)]}, config, stream_mode=\"values\"\n",
    ")\n",
    "for event in events:\n",
    "    event[\"messages\"][-1].pretty_print()"
   ]
  },
  {
   "cell_type": "code",
   "execution_count": 82,
   "metadata": {},
   "outputs": [
    {
     "name": "stdout",
     "output_type": "stream",
     "text": [
      "================================\u001b[1m Human Message \u001b[0m=================================\n",
      "\n",
      "Remember my name?\n",
      "==================================\u001b[1m Ai Message \u001b[0m==================================\n",
      "\n",
      "Of course, I'm here to assist you and remember your preferences for the duration of our conversation. You're Will, right?\n",
      "\n",
      "Now, regarding your initial request, I'm designed to provide information based on a search query. If you have any questions or topics you'd like to know more about, feel free to ask!\n"
     ]
    }
   ],
   "source": [
    "user_input = \"Remember my name?\"\n",
    "\n",
    "# The config is the **second positional argument** to stream() or invoke()!\n",
    "events = graph.stream(\n",
    "    {\"messages\": [(\"user\", user_input)]}, config, stream_mode=\"values\"\n",
    ")\n",
    "for event in events:\n",
    "    event[\"messages\"][-1].pretty_print()"
   ]
  },
  {
   "cell_type": "code",
   "execution_count": 83,
   "metadata": {},
   "outputs": [
    {
     "name": "stdout",
     "output_type": "stream",
     "text": [
      "================================\u001b[1m Human Message \u001b[0m=================================\n",
      "\n",
      "Remember my name?\n",
      "==================================\u001b[1m Ai Message \u001b[0m==================================\n",
      "\n",
      "<tool_call>[{\"arguments\":{\"query\": \"Who are you?\"},\"selector\": \"$..name\"}]\n"
     ]
    }
   ],
   "source": [
    "events = graph.stream(\n",
    "    {\"messages\": [(\"user\", user_input)]},\n",
    "    {\"configurable\": {\"thread_id\": \"3\"}},\n",
    "    stream_mode=\"values\",\n",
    ")\n",
    "for event in events:\n",
    "    event[\"messages\"][-1].pretty_print()"
   ]
  },
  {
   "cell_type": "code",
   "execution_count": 84,
   "metadata": {},
   "outputs": [
    {
     "data": {
      "text/plain": [
       "StateSnapshot(values={'messages': [HumanMessage(content='Hi there! My name is Will.', additional_kwargs={}, response_metadata={}, id='0ab26c3b-2094-4a86-8b48-b9bd46ef4b74'), AIMessage(content=\"Hello Will, it's nice to meet you. How can I assist you today?\", additional_kwargs={}, response_metadata={'model': 'granite3.1-dense:8b', 'created_at': '2024-12-26T18:24:38.3126755Z', 'done': True, 'done_reason': 'stop', 'total_duration': 164514858, 'load_duration': 5040211, 'prompt_eval_count': 133, 'prompt_eval_duration': 14000000, 'eval_count': 18, 'eval_duration': 144000000, 'message': {'role': 'assistant', 'content': \"Hello Will, it's nice to meet you. How can I assist you today?\", 'images': None, 'tool_calls': None}}, id='run-4f4d3990-693b-47d7-91f5-7364e5cc29fa-0', usage_metadata={'input_tokens': 133, 'output_tokens': 18, 'total_tokens': 151}), HumanMessage(content='Remember my name?', additional_kwargs={}, response_metadata={}, id='2381556c-19b8-4e50-ab91-7db496e5f8cd'), AIMessage(content=\"Of course, I'm here to assist you and remember your preferences for the duration of our conversation. You're Will, right?\\n\\nNow, regarding your initial request, I'm designed to provide information based on a search query. If you have any questions or topics you'd like to know more about, feel free to ask!\", additional_kwargs={}, response_metadata={'model': 'granite3.1-dense:8b', 'created_at': '2024-12-26T18:24:39.613749047Z', 'done': True, 'done_reason': 'stop', 'total_duration': 554027656, 'load_duration': 8548605, 'prompt_eval_count': 164, 'prompt_eval_duration': 6000000, 'eval_count': 68, 'eval_duration': 534000000, 'message': {'role': 'assistant', 'content': \"Of course, I'm here to assist you and remember your preferences for the duration of our conversation. You're Will, right?\\n\\nNow, regarding your initial request, I'm designed to provide information based on a search query. If you have any questions or topics you'd like to know more about, feel free to ask!\", 'images': None, 'tool_calls': None}}, id='run-31a3293d-8146-4cd5-9ac2-f68241206482-0', usage_metadata={'input_tokens': 164, 'output_tokens': 68, 'total_tokens': 232})]}, next=(), config={'configurable': {'thread_id': '2', 'checkpoint_ns': '', 'checkpoint_id': '1efc3b6a-b3d2-668e-8004-38525943ba98'}}, metadata={'source': 'loop', 'writes': {'chatbot': {'messages': [AIMessage(content=\"Of course, I'm here to assist you and remember your preferences for the duration of our conversation. You're Will, right?\\n\\nNow, regarding your initial request, I'm designed to provide information based on a search query. If you have any questions or topics you'd like to know more about, feel free to ask!\", additional_kwargs={}, response_metadata={'model': 'granite3.1-dense:8b', 'created_at': '2024-12-26T18:24:39.613749047Z', 'done': True, 'done_reason': 'stop', 'total_duration': 554027656, 'load_duration': 8548605, 'prompt_eval_count': 164, 'prompt_eval_duration': 6000000, 'eval_count': 68, 'eval_duration': 534000000, 'message': {'role': 'assistant', 'content': \"Of course, I'm here to assist you and remember your preferences for the duration of our conversation. You're Will, right?\\n\\nNow, regarding your initial request, I'm designed to provide information based on a search query. If you have any questions or topics you'd like to know more about, feel free to ask!\", 'images': None, 'tool_calls': None}}, id='run-31a3293d-8146-4cd5-9ac2-f68241206482-0', usage_metadata={'input_tokens': 164, 'output_tokens': 68, 'total_tokens': 232})]}}, 'thread_id': '2', 'step': 4, 'parents': {}}, created_at='2024-12-26T18:24:39.615024+00:00', parent_config={'configurable': {'thread_id': '2', 'checkpoint_ns': '', 'checkpoint_id': '1efc3b6a-ae7f-6a33-8003-eeedb1cca1e8'}}, tasks=())"
      ]
     },
     "execution_count": 84,
     "metadata": {},
     "output_type": "execute_result"
    }
   ],
   "source": [
    "snapshot = graph.get_state(config)\n",
    "snapshot"
   ]
  },
  {
   "cell_type": "code",
   "execution_count": 85,
   "metadata": {},
   "outputs": [
    {
     "data": {
      "text/plain": [
       "{'messages': [HumanMessage(content='Hi there! My name is Will.', additional_kwargs={}, response_metadata={}, id='0ab26c3b-2094-4a86-8b48-b9bd46ef4b74'),\n",
       "  AIMessage(content=\"Hello Will, it's nice to meet you. How can I assist you today?\", additional_kwargs={}, response_metadata={'model': 'granite3.1-dense:8b', 'created_at': '2024-12-26T18:24:38.3126755Z', 'done': True, 'done_reason': 'stop', 'total_duration': 164514858, 'load_duration': 5040211, 'prompt_eval_count': 133, 'prompt_eval_duration': 14000000, 'eval_count': 18, 'eval_duration': 144000000, 'message': {'role': 'assistant', 'content': \"Hello Will, it's nice to meet you. How can I assist you today?\", 'images': None, 'tool_calls': None}}, id='run-4f4d3990-693b-47d7-91f5-7364e5cc29fa-0', usage_metadata={'input_tokens': 133, 'output_tokens': 18, 'total_tokens': 151}),\n",
       "  HumanMessage(content='Remember my name?', additional_kwargs={}, response_metadata={}, id='2381556c-19b8-4e50-ab91-7db496e5f8cd'),\n",
       "  AIMessage(content=\"Of course, I'm here to assist you and remember your preferences for the duration of our conversation. You're Will, right?\\n\\nNow, regarding your initial request, I'm designed to provide information based on a search query. If you have any questions or topics you'd like to know more about, feel free to ask!\", additional_kwargs={}, response_metadata={'model': 'granite3.1-dense:8b', 'created_at': '2024-12-26T18:24:39.613749047Z', 'done': True, 'done_reason': 'stop', 'total_duration': 554027656, 'load_duration': 8548605, 'prompt_eval_count': 164, 'prompt_eval_duration': 6000000, 'eval_count': 68, 'eval_duration': 534000000, 'message': {'role': 'assistant', 'content': \"Of course, I'm here to assist you and remember your preferences for the duration of our conversation. You're Will, right?\\n\\nNow, regarding your initial request, I'm designed to provide information based on a search query. If you have any questions or topics you'd like to know more about, feel free to ask!\", 'images': None, 'tool_calls': None}}, id='run-31a3293d-8146-4cd5-9ac2-f68241206482-0', usage_metadata={'input_tokens': 164, 'output_tokens': 68, 'total_tokens': 232})]}"
      ]
     },
     "execution_count": 85,
     "metadata": {},
     "output_type": "execute_result"
    }
   ],
   "source": [
    "snapshot.values"
   ]
  },
  {
   "cell_type": "code",
   "execution_count": 86,
   "metadata": {},
   "outputs": [
    {
     "data": {
      "text/plain": [
       "()"
      ]
     },
     "execution_count": 86,
     "metadata": {},
     "output_type": "execute_result"
    }
   ],
   "source": [
    "snapshot.next "
   ]
  },
  {
   "cell_type": "code",
   "execution_count": 87,
   "metadata": {},
   "outputs": [
    {
     "data": {
      "text/plain": [
       "<langgraph.graph.state.StateGraph at 0x7bb0580ce1d0>"
      ]
     },
     "execution_count": 87,
     "metadata": {},
     "output_type": "execute_result"
    }
   ],
   "source": [
    "from typing import Annotated\n",
    "\n",
    "from langchain_ollama import ChatOllama\n",
    "from langchain_community.tools.tavily_search import TavilySearchResults\n",
    "from typing_extensions import TypedDict\n",
    "\n",
    "from langgraph.checkpoint.memory import MemorySaver\n",
    "from langgraph.graph import StateGraph, START\n",
    "from langgraph.graph.message import add_messages\n",
    "from langgraph.prebuilt import ToolNode, tools_condition\n",
    "\n",
    "memory = MemorySaver()\n",
    "\n",
    "\n",
    "class State(TypedDict):\n",
    "    messages: Annotated[list, add_messages]\n",
    "\n",
    "\n",
    "graph_builder = StateGraph(State)\n",
    "\n",
    "\n",
    "tool = TavilySearchResults(max_results=2)\n",
    "tools = [tool]\n",
    "llm = ChatOllama(model=\"llama3.1\")\n",
    "llm_with_tools = llm.bind_tools(tools)\n",
    "\n",
    "\n",
    "def chatbot(state: State):\n",
    "    return {\"messages\": [llm_with_tools.invoke(state[\"messages\"])]}\n",
    "\n",
    "\n",
    "graph_builder.add_node(\"chatbot\", chatbot)\n",
    "\n",
    "tool_node = ToolNode(tools=[tool])\n",
    "graph_builder.add_node(\"tools\", tool_node)\n",
    "\n",
    "graph_builder.add_conditional_edges(\n",
    "    \"chatbot\",\n",
    "    tools_condition,\n",
    ")\n",
    "graph_builder.add_edge(\"tools\", \"chatbot\")\n",
    "graph_builder.add_edge(START, \"chatbot\")"
   ]
  },
  {
   "cell_type": "code",
   "execution_count": 88,
   "metadata": {},
   "outputs": [],
   "source": [
    "graph = graph_builder.compile(\n",
    "    checkpointer=memory,\n",
    "    # This is new!\n",
    "    interrupt_before=[\"tools\"],\n",
    "    # Note: can also interrupt __after__ tools, if desired.\n",
    "    interrupt_after=[\"tools\"]\n",
    ")"
   ]
  },
  {
   "cell_type": "code",
   "execution_count": 89,
   "metadata": {},
   "outputs": [
    {
     "name": "stdout",
     "output_type": "stream",
     "text": [
      "================================\u001b[1m Human Message \u001b[0m=================================\n",
      "\n",
      "I'm learning LangGraph. Could you do some research on it for me?\n",
      "==================================\u001b[1m Ai Message \u001b[0m==================================\n",
      "Tool Calls:\n",
      "  tavily_search_results_json (b3a10127-b2dd-41cf-b327-729af5e6e5e1)\n",
      " Call ID: b3a10127-b2dd-41cf-b327-729af5e6e5e1\n",
      "  Args:\n",
      "    query: LangGraph\n"
     ]
    }
   ],
   "source": [
    "user_input = \"I'm learning LangGraph. Could you do some research on it for me?\"\n",
    "config = {\"configurable\": {\"thread_id\": \"1\"}}\n",
    "# The config is the **second positional argument** to stream() or invoke()!\n",
    "events = graph.stream(\n",
    "    {\"messages\": [(\"user\", user_input)]}, config, stream_mode=\"values\"\n",
    ")\n",
    "for event in events:\n",
    "    if \"messages\" in event:\n",
    "        event[\"messages\"][-1].pretty_print()"
   ]
  },
  {
   "cell_type": "code",
   "execution_count": 90,
   "metadata": {},
   "outputs": [
    {
     "data": {
      "text/plain": [
       "('tools',)"
      ]
     },
     "execution_count": 90,
     "metadata": {},
     "output_type": "execute_result"
    }
   ],
   "source": [
    "snapshot = graph.get_state(config)\n",
    "snapshot.next"
   ]
  },
  {
   "cell_type": "code",
   "execution_count": 94,
   "metadata": {},
   "outputs": [
    {
     "data": {
      "text/plain": [
       "StateSnapshot(values={'messages': [HumanMessage(content=\"I'm learning LangGraph. Could you do some research on it for me?\", additional_kwargs={}, response_metadata={}, id='7d81673d-8a47-42b3-a735-809bcbed9fe6'), AIMessage(content='', additional_kwargs={}, response_metadata={'model': 'llama3.1', 'created_at': '2024-12-26T18:36:57.421493759Z', 'done': True, 'done_reason': 'stop', 'total_duration': 1575881927, 'load_duration': 1338302018, 'prompt_eval_count': 204, 'prompt_eval_duration': 75000000, 'eval_count': 22, 'eval_duration': 161000000, 'message': {'role': 'assistant', 'content': '', 'images': None, 'tool_calls': None}}, id='run-e4fbec44-fe58-4d98-98a5-081f6f136458-0', tool_calls=[{'name': 'tavily_search_results_json', 'args': {'query': 'LangGraph'}, 'id': 'b3a10127-b2dd-41cf-b327-729af5e6e5e1', 'type': 'tool_call'}], usage_metadata={'input_tokens': 204, 'output_tokens': 22, 'total_tokens': 226})]}, next=('tools',), config={'configurable': {'thread_id': '1', 'checkpoint_ns': '', 'checkpoint_id': '1efc3b86-3019-63a4-8001-c2789161d0d0'}}, metadata={'source': 'loop', 'writes': {'chatbot': {'messages': [AIMessage(content='', additional_kwargs={}, response_metadata={'model': 'llama3.1', 'created_at': '2024-12-26T18:36:57.421493759Z', 'done': True, 'done_reason': 'stop', 'total_duration': 1575881927, 'load_duration': 1338302018, 'prompt_eval_count': 204, 'prompt_eval_duration': 75000000, 'eval_count': 22, 'eval_duration': 161000000, 'message': {'role': 'assistant', 'content': '', 'images': None, 'tool_calls': None}}, id='run-e4fbec44-fe58-4d98-98a5-081f6f136458-0', tool_calls=[{'name': 'tavily_search_results_json', 'args': {'query': 'LangGraph'}, 'id': 'b3a10127-b2dd-41cf-b327-729af5e6e5e1', 'type': 'tool_call'}], usage_metadata={'input_tokens': 204, 'output_tokens': 22, 'total_tokens': 226})]}}, 'thread_id': '1', 'step': 1, 'parents': {}}, created_at='2024-12-26T18:36:57.422107+00:00', parent_config={'configurable': {'thread_id': '1', 'checkpoint_ns': '', 'checkpoint_id': '1efc3b86-210b-63b7-8000-fc49a299cb79'}}, tasks=(PregelTask(id='615aa300-b333-5d5a-6594-c7b5173feae4', name='tools', path=('__pregel_pull', 'tools'), error=None, interrupts=(), state=None, result=None),))"
      ]
     },
     "execution_count": 94,
     "metadata": {},
     "output_type": "execute_result"
    }
   ],
   "source": [
    "snapshot"
   ]
  },
  {
   "cell_type": "code",
   "execution_count": 91,
   "metadata": {},
   "outputs": [
    {
     "data": {
      "text/plain": [
       "[{'name': 'tavily_search_results_json',\n",
       "  'args': {'query': 'LangGraph'},\n",
       "  'id': 'b3a10127-b2dd-41cf-b327-729af5e6e5e1',\n",
       "  'type': 'tool_call'}]"
      ]
     },
     "execution_count": 91,
     "metadata": {},
     "output_type": "execute_result"
    }
   ],
   "source": [
    "existing_message = snapshot.values[\"messages\"][-1]\n",
    "existing_message.tool_calls"
   ]
  },
  {
   "cell_type": "code",
   "execution_count": 92,
   "metadata": {},
   "outputs": [
    {
     "name": "stdout",
     "output_type": "stream",
     "text": [
      "==================================\u001b[1m Ai Message \u001b[0m==================================\n",
      "Tool Calls:\n",
      "  tavily_search_results_json (b3a10127-b2dd-41cf-b327-729af5e6e5e1)\n",
      " Call ID: b3a10127-b2dd-41cf-b327-729af5e6e5e1\n",
      "  Args:\n",
      "    query: LangGraph\n",
      "=================================\u001b[1m Tool Message \u001b[0m=================================\n",
      "Name: tavily_search_results_json\n",
      "\n",
      "[{\"url\": \"https://www.langchain.com/langgraph\", \"content\": \"LangGraph is a framework for building and scaling agentic applications with LangChain Platform. It supports diverse control flows, human-agent collaboration, streaming, and deployment options for complex tasks.\"}, {\"url\": \"https://www.datacamp.com/tutorial/langgraph-tutorial\", \"content\": \"LangGraph is a library within the LangChain ecosystem that simplifies the development of complex, multi-agent large language model (LLM) applications. Learn how to use LangGraph to create stateful, flexible, and scalable systems with nodes, edges, and state management.\"}]\n"
     ]
    }
   ],
   "source": [
    "# `None` will append nothing new to the current state, letting it resume as if it had never been interrupted\n",
    "events = graph.stream(None, config, stream_mode=\"values\")\n",
    "for event in events:\n",
    "    if \"messages\" in event:\n",
    "        event[\"messages\"][-1].pretty_print()"
   ]
  },
  {
   "cell_type": "code",
   "execution_count": 93,
   "metadata": {},
   "outputs": [
    {
     "name": "stdout",
     "output_type": "stream",
     "text": [
      "=================================\u001b[1m Tool Message \u001b[0m=================================\n",
      "Name: tavily_search_results_json\n",
      "\n",
      "[{\"url\": \"https://www.langchain.com/langgraph\", \"content\": \"LangGraph is a framework for building and scaling agentic applications with LangChain Platform. It supports diverse control flows, human-agent collaboration, streaming, and deployment options for complex tasks.\"}, {\"url\": \"https://www.datacamp.com/tutorial/langgraph-tutorial\", \"content\": \"LangGraph is a library within the LangChain ecosystem that simplifies the development of complex, multi-agent large language model (LLM) applications. Learn how to use LangGraph to create stateful, flexible, and scalable systems with nodes, edges, and state management.\"}]\n",
      "==================================\u001b[1m Ai Message \u001b[0m==================================\n",
      "\n",
      "Based on my research, it appears that LangGraph is a framework for building and scaling agentic applications using the LangChain Platform. It supports diverse control flows, human-agent collaboration, streaming, and deployment options for complex tasks.\n",
      "\n",
      "LangGraph also has a library within the LangChain ecosystem that simplifies the development of complex, multi-agent large language model (LLM) applications. This library allows users to create stateful, flexible, and scalable systems with nodes, edges, and state management.\n",
      "\n",
      "If you're learning LangGraph, I would recommend checking out the official documentation on the LangChain website as well as online tutorials such as the one provided by DataCamp. These resources should give you a good starting point for understanding how to use LangGraph effectively.\n"
     ]
    }
   ],
   "source": [
    "# `None` will append nothing new to the current state, letting it resume as if it had never been interrupted\n",
    "events = graph.stream(None, config, stream_mode=\"values\")\n",
    "for event in events:\n",
    "    if \"messages\" in event:\n",
    "        event[\"messages\"][-1].pretty_print()"
   ]
  },
  {
   "cell_type": "code",
   "execution_count": 95,
   "metadata": {},
   "outputs": [],
   "source": [
    "from typing import Annotated\n",
    "\n",
    "from langchain_ollama import ChatOllama\n",
    "from langchain_community.tools.tavily_search import TavilySearchResults\n",
    "from typing_extensions import TypedDict\n",
    "\n",
    "from langgraph.checkpoint.memory import MemorySaver\n",
    "from langgraph.graph import StateGraph, START\n",
    "from langgraph.graph.message import add_messages\n",
    "from langgraph.prebuilt import ToolNode, tools_condition\n",
    "\n",
    "\n",
    "class State(TypedDict):\n",
    "    messages: Annotated[list, add_messages]\n",
    "\n",
    "\n",
    "graph_builder = StateGraph(State)\n",
    "\n",
    "\n",
    "tool = TavilySearchResults(max_results=2)\n",
    "tools = [tool]\n",
    "llm = ChatOllama(model=\"llama3.1\")\n",
    "llm_with_tools = llm.bind_tools(tools)\n",
    "\n",
    "\n",
    "def chatbot(state: State):\n",
    "    return {\"messages\": [llm_with_tools.invoke(state[\"messages\"])]}\n",
    "\n",
    "\n",
    "graph_builder.add_node(\"chatbot\", chatbot)\n",
    "\n",
    "tool_node = ToolNode(tools=[tool])\n",
    "graph_builder.add_node(\"tools\", tool_node)\n",
    "\n",
    "graph_builder.add_conditional_edges(\n",
    "    \"chatbot\",\n",
    "    tools_condition,\n",
    ")\n",
    "graph_builder.add_edge(\"tools\", \"chatbot\")\n",
    "graph_builder.add_edge(START, \"chatbot\")\n",
    "memory = MemorySaver()\n",
    "graph = graph_builder.compile(\n",
    "    checkpointer=memory,\n",
    "    # This is new!\n",
    "    interrupt_before=[\"tools\"],\n",
    "    # Note: can also interrupt **after** actions, if desired.\n",
    "    # interrupt_after=[\"tools\"]\n",
    ")"
   ]
  },
  {
   "cell_type": "code",
   "execution_count": null,
   "metadata": {},
   "outputs": [],
   "source": [
    "\n",
    "user_input = \"I'm learning LangGraph. Could you do some research on it for me?\"\n",
    "config = {\"configurable\": {\"thread_id\": \"1\"}}\n",
    "# The config is the **second positional argument** to stream() or invoke()!\n",
    "events = graph.stream({\"messages\": [(\"user\", user_input)]}, config)\n",
    "for event in events:\n",
    "    if \"messages\" in event:\n",
    "        event[\"messages\"][-1].pretty_print()"
   ]
  },
  {
   "cell_type": "code",
   "execution_count": 96,
   "metadata": {},
   "outputs": [
    {
     "name": "stdout",
     "output_type": "stream",
     "text": [
      "==================================\u001b[1m Ai Message \u001b[0m==================================\n",
      "Tool Calls:\n",
      "  tavily_search_results_json (ec0f2099-0275-493e-800a-fb0944d8e384)\n",
      " Call ID: ec0f2099-0275-493e-800a-fb0944d8e384\n",
      "  Args:\n",
      "    query: LangGraph\n"
     ]
    }
   ],
   "source": [
    "snapshot = graph.get_state(config)\n",
    "existing_message = snapshot.values[\"messages\"][-1]\n",
    "existing_message.pretty_print()"
   ]
  },
  {
   "cell_type": "code",
   "execution_count": 97,
   "metadata": {},
   "outputs": [
    {
     "data": {
      "text/plain": [
       "[{'name': 'tavily_search_results_json',\n",
       "  'args': {'query': 'LangGraph'},\n",
       "  'id': 'ec0f2099-0275-493e-800a-fb0944d8e384',\n",
       "  'type': 'tool_call'}]"
      ]
     },
     "execution_count": 97,
     "metadata": {},
     "output_type": "execute_result"
    }
   ],
   "source": [
    "existing_message.tool_calls"
   ]
  },
  {
   "cell_type": "code",
   "execution_count": 98,
   "metadata": {},
   "outputs": [
    {
     "name": "stdout",
     "output_type": "stream",
     "text": [
      "==================================\u001b[1m Ai Message \u001b[0m==================================\n",
      "\n",
      "LangGraph is a library for building stateful, multi-actor applications with LLMs.\n",
      "\n",
      "\n",
      "Last 2 messages;\n",
      "[ToolMessage(content='LangGraph is a library for building stateful, multi-actor applications with LLMs.', id='a0b5e97f-1fc7-490b-a2ff-c6a19da4163e', tool_call_id='ec0f2099-0275-493e-800a-fb0944d8e384'), AIMessage(content='LangGraph is a library for building stateful, multi-actor applications with LLMs.', additional_kwargs={}, response_metadata={}, id='1485e925-4ab1-489a-9c34-7a0d4b7d5b13')]\n"
     ]
    }
   ],
   "source": [
    "from langchain_core.messages import AIMessage, ToolMessage\n",
    "\n",
    "answer = (\n",
    "    \"LangGraph is a library for building stateful, multi-actor applications with LLMs.\"\n",
    ")\n",
    "new_messages = [\n",
    "    # The LLM API expects some ToolMessage to match its tool call. We'll satisfy that here.\n",
    "    ToolMessage(content=answer, tool_call_id=existing_message.tool_calls[0][\"id\"]),\n",
    "    # And then directly \"put words in the LLM's mouth\" by populating its response.\n",
    "    AIMessage(content=answer),\n",
    "]\n",
    "\n",
    "new_messages[-1].pretty_print()\n",
    "graph.update_state(\n",
    "    # Which state to update\n",
    "    config,\n",
    "    # The updated values to provide. The messages in our `State` are \"append-only\", meaning this will be appended\n",
    "    # to the existing state. We will review how to update existing messages in the next section!\n",
    "    {\"messages\": new_messages},\n",
    ")\n",
    "\n",
    "print(\"\\n\\nLast 2 messages;\")\n",
    "print(graph.get_state(config).values[\"messages\"][-3:])"
   ]
  },
  {
   "cell_type": "code",
   "execution_count": 100,
   "metadata": {},
   "outputs": [
    {
     "name": "stdout",
     "output_type": "stream",
     "text": [
      "[HumanMessage(content=\"I'm learning LangGraph. Could you do some research on it for me?\", additional_kwargs={}, response_metadata={}, id='4be945cb-41b9-40e7-a60a-5eb26b801121'), AIMessage(content='', additional_kwargs={}, response_metadata={'model': 'llama3.1', 'created_at': '2024-12-26T18:47:56.157256598Z', 'done': True, 'done_reason': 'stop', 'total_duration': 1544720014, 'load_duration': 1308023497, 'prompt_eval_count': 204, 'prompt_eval_duration': 71000000, 'eval_count': 22, 'eval_duration': 163000000, 'message': {'role': 'assistant', 'content': '', 'images': None, 'tool_calls': None}}, id='run-ca454ad1-bcea-41e5-97e3-6a896f31e6ab-0', tool_calls=[{'name': 'tavily_search_results_json', 'args': {'query': 'LangGraph'}, 'id': 'ec0f2099-0275-493e-800a-fb0944d8e384', 'type': 'tool_call'}], usage_metadata={'input_tokens': 204, 'output_tokens': 22, 'total_tokens': 226}), ToolMessage(content='LangGraph is a library for building stateful, multi-actor applications with LLMs.', id='a0b5e97f-1fc7-490b-a2ff-c6a19da4163e', tool_call_id='ec0f2099-0275-493e-800a-fb0944d8e384'), AIMessage(content='LangGraph is a library for building stateful, multi-actor applications with LLMs.', additional_kwargs={}, response_metadata={}, id='1485e925-4ab1-489a-9c34-7a0d4b7d5b13')]\n"
     ]
    }
   ],
   "source": [
    "print(graph.get_state(config).values[\"messages\"])"
   ]
  },
  {
   "cell_type": "code",
   "execution_count": 102,
   "metadata": {},
   "outputs": [
    {
     "data": {
      "text/plain": [
       "{'messages': [HumanMessage(content=\"I'm learning LangGraph. Could you do some research on it for me?\", additional_kwargs={}, response_metadata={}, id='4be945cb-41b9-40e7-a60a-5eb26b801121'),\n",
       "  AIMessage(content='', additional_kwargs={}, response_metadata={'model': 'llama3.1', 'created_at': '2024-12-26T18:47:56.157256598Z', 'done': True, 'done_reason': 'stop', 'total_duration': 1544720014, 'load_duration': 1308023497, 'prompt_eval_count': 204, 'prompt_eval_duration': 71000000, 'eval_count': 22, 'eval_duration': 163000000, 'message': {'role': 'assistant', 'content': '', 'images': None, 'tool_calls': None}}, id='run-ca454ad1-bcea-41e5-97e3-6a896f31e6ab-0', tool_calls=[{'name': 'tavily_search_results_json', 'args': {'query': 'LangGraph'}, 'id': 'ec0f2099-0275-493e-800a-fb0944d8e384', 'type': 'tool_call'}], usage_metadata={'input_tokens': 204, 'output_tokens': 22, 'total_tokens': 226}),\n",
       "  ToolMessage(content='LangGraph is a library for building stateful, multi-actor applications with LLMs.', id='a0b5e97f-1fc7-490b-a2ff-c6a19da4163e', tool_call_id='ec0f2099-0275-493e-800a-fb0944d8e384'),\n",
       "  AIMessage(content='LangGraph is a library for building stateful, multi-actor applications with LLMs.', additional_kwargs={}, response_metadata={}, id='1485e925-4ab1-489a-9c34-7a0d4b7d5b13')]}"
      ]
     },
     "execution_count": 102,
     "metadata": {},
     "output_type": "execute_result"
    }
   ],
   "source": [
    "graph.get_state(config).values"
   ]
  },
  {
   "cell_type": "code",
   "execution_count": 103,
   "metadata": {},
   "outputs": [
    {
     "data": {
      "image/png": "[encoded data removed]",
      "text/plain": [
       "<IPython.core.display.Image object>"
      ]
     },
     "execution_count": 103,
     "metadata": {},
     "output_type": "execute_result"
    }
   ],
   "source": [
    "Image(graph.get_graph().draw_mermaid_png())"
   ]
  },
  {
   "cell_type": "code",
   "execution_count": 104,
   "metadata": {},
   "outputs": [
    {
     "name": "stdout",
     "output_type": "stream",
     "text": [
      "[AIMessage(content='', additional_kwargs={}, response_metadata={'model': 'llama3.1', 'created_at': '2024-12-26T18:47:56.157256598Z', 'done': True, 'done_reason': 'stop', 'total_duration': 1544720014, 'load_duration': 1308023497, 'prompt_eval_count': 204, 'prompt_eval_duration': 71000000, 'eval_count': 22, 'eval_duration': 163000000, 'message': {'role': 'assistant', 'content': '', 'images': None, 'tool_calls': None}}, id='run-ca454ad1-bcea-41e5-97e3-6a896f31e6ab-0', tool_calls=[{'name': 'tavily_search_results_json', 'args': {'query': 'LangGraph'}, 'id': 'ec0f2099-0275-493e-800a-fb0944d8e384', 'type': 'tool_call'}], usage_metadata={'input_tokens': 204, 'output_tokens': 22, 'total_tokens': 226}), ToolMessage(content='LangGraph is a library for building stateful, multi-actor applications with LLMs.', id='a0b5e97f-1fc7-490b-a2ff-c6a19da4163e', tool_call_id='ec0f2099-0275-493e-800a-fb0944d8e384'), AIMessage(content='LangGraph is a library for building stateful, multi-actor applications with LLMs.', additional_kwargs={}, response_metadata={}, id='1485e925-4ab1-489a-9c34-7a0d4b7d5b13')]\n",
      "()\n"
     ]
    }
   ],
   "source": [
    "snapshot = graph.get_state(config)\n",
    "print(snapshot.values[\"messages\"][-3:])\n",
    "print(snapshot.next)"
   ]
  },
  {
   "cell_type": "code",
   "execution_count": 105,
   "metadata": {},
   "outputs": [
    {
     "name": "stdout",
     "output_type": "stream",
     "text": [
      "================================\u001b[1m Human Message \u001b[0m=================================\n",
      "\n",
      "I'm learning LangGraph. Could you do some research on it for me?\n",
      "==================================\u001b[1m Ai Message \u001b[0m==================================\n",
      "Tool Calls:\n",
      "  tavily_search_results_json (46d6f0d1-a7d0-4117-8981-178b7cc45acd)\n",
      " Call ID: 46d6f0d1-a7d0-4117-8981-178b7cc45acd\n",
      "  Args:\n",
      "    query: LangGraph\n"
     ]
    }
   ],
   "source": [
    "user_input = \"I'm learning LangGraph. Could you do some research on it for me?\"\n",
    "config = {\"configurable\": {\"thread_id\": \"2\"}}  # we'll use thread_id = 2 here\n",
    "events = graph.stream(\n",
    "    {\"messages\": [(\"user\", user_input)]}, config, stream_mode=\"values\"\n",
    ")\n",
    "for event in events:\n",
    "    if \"messages\" in event:\n",
    "        event[\"messages\"][-1].pretty_print()"
   ]
  },
  {
   "cell_type": "code",
   "execution_count": 106,
   "metadata": {},
   "outputs": [
    {
     "name": "stdout",
     "output_type": "stream",
     "text": [
      "Original\n",
      "Message ID run-c6f3784d-3a64-42b1-b9bf-40d66835f52c-0\n",
      "{'name': 'tavily_search_results_json', 'args': {'query': 'LangGraph'}, 'id': '46d6f0d1-a7d0-4117-8981-178b7cc45acd', 'type': 'tool_call'}\n",
      "Updated\n",
      "{'name': 'tavily_search_results_json', 'args': {'query': 'LangGraph human-in-the-loop workflow'}, 'id': '46d6f0d1-a7d0-4117-8981-178b7cc45acd', 'type': 'tool_call'}\n",
      "Message ID run-c6f3784d-3a64-42b1-b9bf-40d66835f52c-0\n",
      "\n",
      "\n",
      "Tool calls\n"
     ]
    },
    {
     "data": {
      "text/plain": [
       "[{'name': 'tavily_search_results_json',\n",
       "  'args': {'query': 'LangGraph human-in-the-loop workflow'},\n",
       "  'id': '46d6f0d1-a7d0-4117-8981-178b7cc45acd',\n",
       "  'type': 'tool_call'}]"
      ]
     },
     "execution_count": 106,
     "metadata": {},
     "output_type": "execute_result"
    }
   ],
   "source": [
    "from langchain_core.messages import AIMessage\n",
    "\n",
    "snapshot = graph.get_state(config)\n",
    "existing_message = snapshot.values[\"messages\"][-1]\n",
    "print(\"Original\")\n",
    "print(\"Message ID\", existing_message.id)\n",
    "print(existing_message.tool_calls[0])\n",
    "new_tool_call = existing_message.tool_calls[0].copy()\n",
    "new_tool_call[\"args\"][\"query\"] = \"LangGraph human-in-the-loop workflow\"\n",
    "new_message = AIMessage(\n",
    "    content=existing_message.content,\n",
    "    tool_calls=[new_tool_call],\n",
    "    # Important! The ID is how LangGraph knows to REPLACE the message in the state rather than APPEND this messages\n",
    "    id=existing_message.id,\n",
    ")\n",
    "\n",
    "print(\"Updated\")\n",
    "print(new_message.tool_calls[0])\n",
    "print(\"Message ID\", new_message.id)\n",
    "graph.update_state(config, {\"messages\": [new_message]})\n",
    "\n",
    "print(\"\\n\\nTool calls\")\n",
    "graph.get_state(config).values[\"messages\"][-1].tool_calls"
   ]
  },
  {
   "cell_type": "code",
   "execution_count": 109,
   "metadata": {},
   "outputs": [
    {
     "data": {
      "text/plain": [
       "{'configurable': {'thread_id': '2'}}"
      ]
     },
     "execution_count": 109,
     "metadata": {},
     "output_type": "execute_result"
    }
   ],
   "source": [
    "config"
   ]
  },
  {
   "cell_type": "code",
   "execution_count": 107,
   "metadata": {},
   "outputs": [
    {
     "name": "stdout",
     "output_type": "stream",
     "text": [
      "==================================\u001b[1m Ai Message \u001b[0m==================================\n",
      "Tool Calls:\n",
      "  tavily_search_results_json (46d6f0d1-a7d0-4117-8981-178b7cc45acd)\n",
      " Call ID: 46d6f0d1-a7d0-4117-8981-178b7cc45acd\n",
      "  Args:\n",
      "    query: LangGraph human-in-the-loop workflow\n",
      "=================================\u001b[1m Tool Message \u001b[0m=================================\n",
      "Name: tavily_search_results_json\n",
      "\n",
      "[{\"url\": \"https://medium.com/@kbdhunga/beginners-guide-to-langgraph-breakpoints-human-in-the-loop-part-4-adc68d3f47bc\", \"content\": \"Beginner’s Guide to LangGraph: Breakpoints & Human in the Loop— Part 4 | by Kamal Dhungana | Aug, 2024 | Medium Beginner’s Guide to LangGraph: Breakpoints & Human in the Loop— Part 4 In LangGraph, a breakpoint is a mechanism that allows the execution of a graph to pause at a specific node, enabling human intervention or approval before proceeding. Human-in-the-Loop (HIL): Breakpoints facilitate HIL interactions, allowing users to review and approve actions taken by the system. Error Handling: Breakpoints can help in managing errors or unexpected outcomes by allowing users to intervene before the graph continues execution. Data scientist with a passion for AI, Regularly blogging about LLM and OpenAI's innovations,Sharing insights for AI community growth\"}, {\"url\": \"https://langchain-ai.github.io/langgraph/concepts/v0-human-in-the-loop/\", \"content\": \"[](https://langchain-ai.github.io/langgraph/concepts/v0-human-in-the-loop/#__codelineno-2-1)# Attempt to continue the graph execution with no change to state after we hit the dynamic breakpoint  [](https://langchain-ai.github.io/langgraph/concepts/v0-human-in-the-loop/#__codelineno-5-1)# Compile our graph with a checkpointer and a breakpoint before the step to approve [](https://langchain-ai.github.io/langgraph/concepts/v0-human-in-the-loop/#__codelineno-6-1)# Compile our graph with a checkpointer and a breakpoint before the step to review [](https://langchain-ai.github.io/langgraph/concepts/v0-human-in-the-loop/#__codelineno-7-1)# Compile our graph with a checkpointer and a breakpoint before the step to to collect human input [](https://langchain-ai.github.io/langgraph/concepts/v0-human-in-the-loop/#__codelineno-7-9)graph.update_state(thread, {\\\"user_input\\\": user_input}, as_node=\\\"human_input\\\") [](https://langchain-ai.github.io/langgraph/concepts/v0-human-in-the-loop/#__codelineno-7-11)# Continue the graph execution from the checkpoint created by the human_input node [](https://langchain-ai.github.io/langgraph/concepts/v0-human-in-the-loop/#__codelineno-8-1)# Compile our graph with a checkpointer and a breakpoint before the step to to review the tool call from the LLM  [](https://langchain-ai.github.io/langgraph/concepts/v0-human-in-the-loop/#__codelineno-8-9)graph.update_state(thread, {\\\"tool_call\\\": \\\"updated tool call\\\"}, as_node=\\\"human_review\\\") [](https://langchain-ai.github.io/langgraph/concepts/v0-human-in-the-loop/#__codelineno-8-11)# Otherwise, approve the tool call and proceed with the graph execution with no edits \"}]\n",
      "==================================\u001b[1m Ai Message \u001b[0m==================================\n",
      "\n",
      "Based on the search results for LangGraph human-in-the-loop workflow, it appears that LangGraph is a graph-based framework designed to facilitate human-in-the-loop (HIL) interactions. Here are some key points I found:\n",
      "\n",
      "1. **Breakpoints**: LangGraph allows the execution of a graph to pause at specific nodes called breakpoints, enabling human intervention or approval before proceeding.\n",
      "2. **Human-in-the-Loop (HIL)**: Breakpoints facilitate HIL interactions, allowing users to review and approve actions taken by the system.\n",
      "3. **Error Handling**: Breakpoints can help in managing errors or unexpected outcomes by allowing users to intervene before the graph continues execution.\n",
      "\n",
      "To get started with LangGraph, you may want to check out the official documentation and tutorials provided on their website. Additionally, you can explore the medium article I found, which provides a beginner's guide to LangGraph and its human-in-the-loop features.\n",
      "\n",
      "If you have any specific questions or need further assistance, feel free to ask!\n"
     ]
    }
   ],
   "source": [
    "events = graph.stream(None, config, stream_mode=\"values\")\n",
    "for event in events:\n",
    "    if \"messages\" in event:\n",
    "        event[\"messages\"][-1].pretty_print()"
   ]
  },
  {
   "cell_type": "code",
   "execution_count": 110,
   "metadata": {},
   "outputs": [
    {
     "name": "stdout",
     "output_type": "stream",
     "text": [
      "================================\u001b[1m Human Message \u001b[0m=================================\n",
      "\n",
      "Remember what I'm learning about?\n",
      "==================================\u001b[1m Ai Message \u001b[0m==================================\n",
      "Tool Calls:\n",
      "  tavily_search_results_json (b6217636-5d85-40e0-b210-d8ad23b48131)\n",
      " Call ID: b6217636-5d85-40e0-b210-d8ad23b48131\n",
      "  Args:\n",
      "    query: LangGraph\n"
     ]
    }
   ],
   "source": [
    "events = graph.stream(\n",
    "    {\n",
    "        \"messages\": (\n",
    "            \"user\",\n",
    "            \"Remember what I'm learning about?\",\n",
    "        )\n",
    "    },\n",
    "    config,\n",
    "    stream_mode=\"values\",\n",
    ")\n",
    "for event in events:\n",
    "    if \"messages\" in event:\n",
    "        event[\"messages\"][-1].pretty_print()\n",
    "    else:\n",
    "        print(event)"
   ]
  },
  {
   "cell_type": "code",
   "execution_count": 112,
   "metadata": {},
   "outputs": [],
   "source": [
    "from typing import Annotated\n",
    "\n",
    "from langchain_ollama import ChatOllama\n",
    "from langchain_community.tools.tavily_search import TavilySearchResults\n",
    "from typing_extensions import TypedDict\n",
    "\n",
    "from langgraph.checkpoint.memory import MemorySaver\n",
    "from langgraph.graph import StateGraph, START\n",
    "from langgraph.graph.message import add_messages\n",
    "from langgraph.prebuilt import ToolNode, tools_condition\n",
    "\n",
    "\n",
    "class State(TypedDict):\n",
    "    messages: Annotated[list, add_messages]\n",
    "    # This flag is new\n",
    "    ask_human: bool"
   ]
  },
  {
   "cell_type": "code",
   "execution_count": 113,
   "metadata": {},
   "outputs": [],
   "source": [
    "from pydantic import BaseModel\n",
    "\n",
    "\n",
    "class RequestAssistance(BaseModel):\n",
    "    \"\"\"Escalate the conversation to an expert. Use this if you are unable to assist directly or if the user requires support beyond your permissions.\n",
    "\n",
    "    To use this function, relay the user's 'request' so the expert can provide the right guidance.\n",
    "    \"\"\"\n",
    "\n",
    "    request: str"
   ]
  },
  {
   "cell_type": "code",
   "execution_count": 115,
   "metadata": {},
   "outputs": [
    {
     "data": {
      "text/plain": [
       "'RequestAssistance'"
      ]
     },
     "execution_count": 115,
     "metadata": {},
     "output_type": "execute_result"
    }
   ],
   "source": [
    " RequestAssistance.__name__"
   ]
  },
  {
   "cell_type": "code",
   "execution_count": 114,
   "metadata": {},
   "outputs": [],
   "source": [
    "tool = TavilySearchResults(max_results=2)\n",
    "tools = [tool]\n",
    "llm = ChatOllama(model=\"llama3.1\")\n",
    "# We can bind the llm to a tool definition, a pydantic model, or a json schema\n",
    "llm_with_tools = llm.bind_tools(tools + [RequestAssistance])\n",
    "\n",
    "\n",
    "def chatbot(state: State):\n",
    "    response = llm_with_tools.invoke(state[\"messages\"])\n",
    "    ask_human = False\n",
    "    if (\n",
    "        response.tool_calls\n",
    "        and response.tool_calls[0][\"name\"] == RequestAssistance.__name__\n",
    "    ):\n",
    "        ask_human = True\n",
    "    return {\"messages\": [response], \"ask_human\": ask_human}"
   ]
  },
  {
   "cell_type": "code",
   "execution_count": 121,
   "metadata": {},
   "outputs": [
    {
     "data": {
      "text/plain": [
       "<langgraph.graph.state.StateGraph at 0x7bb04c17c790>"
      ]
     },
     "execution_count": 121,
     "metadata": {},
     "output_type": "execute_result"
    }
   ],
   "source": [
    "graph_builder = StateGraph(State)\n",
    "\n",
    "graph_builder.add_node(\"chatbot\", chatbot)\n",
    "graph_builder.add_node(\"tools\", ToolNode(tools=[tool]))"
   ]
  },
  {
   "cell_type": "code",
   "execution_count": 122,
   "metadata": {},
   "outputs": [
    {
     "data": {
      "text/plain": [
       "<langgraph.graph.state.StateGraph at 0x7bb04c17c790>"
      ]
     },
     "execution_count": 122,
     "metadata": {},
     "output_type": "execute_result"
    }
   ],
   "source": [
    "from langchain_core.messages import AIMessage, ToolMessage\n",
    "\n",
    "\n",
    "def create_response(response: str, ai_message: AIMessage):\n",
    "    return ToolMessage(\n",
    "        content=response,\n",
    "        tool_call_id=ai_message.tool_calls[0][\"id\"],\n",
    "    )\n",
    "\n",
    "\n",
    "def human_node(state: State):\n",
    "    new_messages = []\n",
    "    if not isinstance(state[\"messages\"][-1], ToolMessage):\n",
    "        # Typically, the user will have updated the state during the interrupt.\n",
    "        # If they choose not to, we will include a placeholder ToolMessage to\n",
    "        # let the LLM continue.\n",
    "        new_messages.append(\n",
    "            create_response(\"No response from human.\", state[\"messages\"][-1])\n",
    "        )\n",
    "    return {\n",
    "        # Append the new messages\n",
    "        \"messages\": new_messages,\n",
    "        # Unset the flag\n",
    "        \"ask_human\": False,\n",
    "    }\n",
    "\n",
    "\n",
    "graph_builder.add_node(\"human\", human_node)"
   ]
  },
  {
   "cell_type": "code",
   "execution_count": 123,
   "metadata": {},
   "outputs": [
    {
     "data": {
      "text/plain": [
       "<langgraph.graph.state.StateGraph at 0x7bb04c17c790>"
      ]
     },
     "execution_count": 123,
     "metadata": {},
     "output_type": "execute_result"
    }
   ],
   "source": [
    "def select_next_node(state: State):\n",
    "    if state[\"ask_human\"]:\n",
    "        return \"human\"\n",
    "    # Otherwise, we can route as before\n",
    "    return tools_condition(state)\n",
    "\n",
    "\n",
    "graph_builder.add_conditional_edges(\n",
    "    \"chatbot\",\n",
    "    select_next_node,\n",
    "    {\"human\": \"human\", \"tools\": \"tools\", END: END},\n",
    ")"
   ]
  },
  {
   "cell_type": "code",
   "execution_count": 124,
   "metadata": {},
   "outputs": [],
   "source": [
    "# The rest is the same\n",
    "graph_builder.add_edge(\"tools\", \"chatbot\")\n",
    "graph_builder.add_edge(\"human\", \"chatbot\")\n",
    "graph_builder.add_edge(START, \"chatbot\")\n",
    "memory = MemorySaver()\n",
    "graph = graph_builder.compile(\n",
    "    checkpointer=memory,\n",
    "    # We interrupt before 'human' here instead.\n",
    "    interrupt_before=[\"human\"],\n",
    ")"
   ]
  },
  {
   "cell_type": "code",
   "execution_count": 125,
   "metadata": {},
   "outputs": [
    {
     "data": {
      "image/png": "[encoded data removed]",
      "text/plain": [
       "<IPython.core.display.Image object>"
      ]
     },
     "execution_count": 125,
     "metadata": {},
     "output_type": "execute_result"
    }
   ],
   "source": [
    "Image(graph.get_graph().draw_mermaid_png())"
   ]
  },
  {
   "cell_type": "code",
   "execution_count": 126,
   "metadata": {},
   "outputs": [
    {
     "name": "stdout",
     "output_type": "stream",
     "text": [
      "================================\u001b[1m Human Message \u001b[0m=================================\n",
      "\n",
      "I need some expert guidance for building this AI agent. Could you request assistance for me?\n",
      "==================================\u001b[1m Ai Message \u001b[0m==================================\n",
      "Tool Calls:\n",
      "  RequestAssistance (ae8a3826-de1a-4be1-92b4-f03ee202d20f)\n",
      " Call ID: ae8a3826-de1a-4be1-92b4-f03ee202d20f\n",
      "  Args:\n",
      "    request: Expert guidance is required for building an AI agent\n"
     ]
    }
   ],
   "source": [
    "user_input = \"I need some expert guidance for building this AI agent. Could you request assistance for me?\"\n",
    "config = {\"configurable\": {\"thread_id\": \"1\"}}\n",
    "# The config is the **second positional argument** to stream() or invoke()!\n",
    "events = graph.stream(\n",
    "    {\"messages\": [(\"user\", user_input)]}, config, stream_mode=\"values\"\n",
    ")\n",
    "for event in events:\n",
    "    if \"messages\" in event:\n",
    "        event[\"messages\"][-1].pretty_print()"
   ]
  },
  {
   "cell_type": "code",
   "execution_count": 127,
   "metadata": {},
   "outputs": [
    {
     "data": {
      "text/plain": [
       "('human',)"
      ]
     },
     "execution_count": 127,
     "metadata": {},
     "output_type": "execute_result"
    }
   ],
   "source": [
    "snapshot = graph.get_state(config)\n",
    "snapshot.next"
   ]
  },
  {
   "cell_type": "code",
   "execution_count": 128,
   "metadata": {},
   "outputs": [
    {
     "data": {
      "text/plain": [
       "{'configurable': {'thread_id': '1',\n",
       "  'checkpoint_ns': '',\n",
       "  'checkpoint_id': '1efc3bfd-b4a0-6575-8002-f9494f1a4ff8'}}"
      ]
     },
     "execution_count": 128,
     "metadata": {},
     "output_type": "execute_result"
    }
   ],
   "source": [
    "ai_message = snapshot.values[\"messages\"][-1]\n",
    "human_response = (\n",
    "    \"We, the experts are here to help! We'd recommend you check out LangGraph to build your agent.\"\n",
    "    \" It's much more reliable and extensible than simple autonomous agents.\"\n",
    ")\n",
    "tool_message = create_response(human_response, ai_message)\n",
    "graph.update_state(config, {\"messages\": [tool_message]})"
   ]
  },
  {
   "cell_type": "code",
   "execution_count": 129,
   "metadata": {},
   "outputs": [
    {
     "data": {
      "text/plain": [
       "[HumanMessage(content='I need some expert guidance for building this AI agent. Could you request assistance for me?', additional_kwargs={}, response_metadata={}, id='d9d9a224-0efb-43c2-83f3-c556c2490a3a'),\n",
       " AIMessage(content='', additional_kwargs={}, response_metadata={'model': 'llama3.1', 'created_at': '2024-12-26T19:26:58.835467184Z', 'done': True, 'done_reason': 'stop', 'total_duration': 1581115963, 'load_duration': 1307345597, 'prompt_eval_count': 295, 'prompt_eval_duration': 81000000, 'eval_count': 26, 'eval_duration': 190000000, 'message': {'role': 'assistant', 'content': '', 'images': None, 'tool_calls': None}}, id='run-1de5c67e-4e9e-4e91-8667-fddd7571ebf5-0', tool_calls=[{'name': 'RequestAssistance', 'args': {'request': 'Expert guidance is required for building an AI agent'}, 'id': 'ae8a3826-de1a-4be1-92b4-f03ee202d20f', 'type': 'tool_call'}], usage_metadata={'input_tokens': 295, 'output_tokens': 26, 'total_tokens': 321}),\n",
       " ToolMessage(content=\"We, the experts are here to help! We'd recommend you check out LangGraph to build your agent. It's much more reliable and extensible than simple autonomous agents.\", id='3fe65046-5c5a-47a7-8727-f6fa412e14d3', tool_call_id='ae8a3826-de1a-4be1-92b4-f03ee202d20f')]"
      ]
     },
     "execution_count": 129,
     "metadata": {},
     "output_type": "execute_result"
    }
   ],
   "source": [
    "graph.get_state(config).values[\"messages\"]"
   ]
  },
  {
   "cell_type": "code",
   "execution_count": 130,
   "metadata": {},
   "outputs": [
    {
     "name": "stdout",
     "output_type": "stream",
     "text": [
      "=================================\u001b[1m Tool Message \u001b[0m=================================\n",
      "\n",
      "We, the experts are here to help! We'd recommend you check out LangGraph to build your agent. It's much more reliable and extensible than simple autonomous agents.\n",
      "=================================\u001b[1m Tool Message \u001b[0m=================================\n",
      "\n",
      "We, the experts are here to help! We'd recommend you check out LangGraph to build your agent. It's much more reliable and extensible than simple autonomous agents.\n",
      "==================================\u001b[1m Ai Message \u001b[0m==================================\n",
      "\n",
      "That's helpful information. I'll make sure to pass it on to you.\n",
      "\n",
      "Also, we have a knowledge base with tutorials on AI development. You might find this useful for your project: https://www.tutorialspoint.com/artificial_intelligence/index.htm\n",
      "\n",
      "Would you like me to request any additional assistance?\n"
     ]
    }
   ],
   "source": [
    "events = graph.stream(None, config, stream_mode=\"values\")\n",
    "for event in events:\n",
    "    if \"messages\" in event:\n",
    "        event[\"messages\"][-1].pretty_print()"
   ]
  },
  {
   "cell_type": "code",
   "execution_count": 134,
   "metadata": {},
   "outputs": [],
   "source": [
    "from typing import Annotated\n",
    "\n",
    "from langchain_ollama import ChatOllama\n",
    "from langchain_community.tools.tavily_search import TavilySearchResults\n",
    "from langchain_core.messages import AIMessage, ToolMessage\n",
    "\n",
    "# NOTE: you must use langchain-core >= 0.3 with Pydantic v2\n",
    "from pydantic import BaseModel\n",
    "from typing_extensions import TypedDict\n",
    "\n",
    "from langgraph.checkpoint.memory import MemorySaver\n",
    "from langgraph.graph import StateGraph, START\n",
    "from langgraph.graph.message import add_messages\n",
    "from langgraph.prebuilt import ToolNode, tools_condition\n",
    "\n",
    "\n",
    "class State(TypedDict):\n",
    "    messages: Annotated[list, add_messages]\n",
    "    # This flag is new\n",
    "    ask_human: bool\n",
    "\n",
    "\n",
    "class RequestAssistance(BaseModel):\n",
    "    \"\"\"Escalate the conversation to an expert. Use this if you are unable to assist directly or if the user requires support beyond your permissions.\n",
    "\n",
    "    To use this function, relay the user's 'request' so the expert can provide the right guidance.\n",
    "    \"\"\"\n",
    "\n",
    "    request: str\n",
    "\n",
    "\n",
    "tool = TavilySearchResults(max_results=2)\n",
    "tools = [tool]\n",
    "llm = ChatOllama(model=\"llama3.1\")\n",
    "# We can bind the llm to a tool definition, a pydantic model, or a json schema\n",
    "llm_with_tools = llm.bind_tools(tools + [RequestAssistance])\n",
    "\n",
    "\n",
    "def chatbot(state: State):\n",
    "    response = llm_with_tools.invoke(state[\"messages\"])\n",
    "    ask_human = False\n",
    "    if (\n",
    "        response.tool_calls\n",
    "        and response.tool_calls[0][\"name\"] == RequestAssistance.__name__\n",
    "    ):\n",
    "        ask_human = True\n",
    "    return {\"messages\": [response], \"ask_human\": ask_human}\n",
    "\n",
    "\n",
    "graph_builder = StateGraph(State)\n",
    "\n",
    "graph_builder.add_node(\"chatbot\", chatbot)\n",
    "graph_builder.add_node(\"tools\", ToolNode(tools=[tool]))\n",
    "\n",
    "\n",
    "def create_response(response: str, ai_message: AIMessage):\n",
    "    return ToolMessage(\n",
    "        content=response,\n",
    "        tool_call_id=ai_message.tool_calls[0][\"id\"],\n",
    "    )\n",
    "\n",
    "\n",
    "def human_node(state: State):\n",
    "    new_messages = []\n",
    "    if not isinstance(state[\"messages\"][-1], ToolMessage):\n",
    "        # Typically, the user will have updated the state during the interrupt.\n",
    "        # If they choose not to, we will include a placeholder ToolMessage to\n",
    "        # let the LLM continue.\n",
    "        new_messages.append(\n",
    "            create_response(\"No response from human.\", state[\"messages\"][-1])\n",
    "        )\n",
    "    return {\n",
    "        # Append the new messages\n",
    "        \"messages\": new_messages,\n",
    "        # Unset the flag\n",
    "        \"ask_human\": False,\n",
    "    }\n",
    "\n",
    "\n",
    "graph_builder.add_node(\"human\", human_node)\n",
    "\n",
    "\n",
    "def select_next_node(state: State):\n",
    "    if state[\"ask_human\"]:\n",
    "        return \"human\"\n",
    "    # Otherwise, we can route as before\n",
    "    return tools_condition(state)\n",
    "\n",
    "\n",
    "graph_builder.add_conditional_edges(\n",
    "    \"chatbot\",\n",
    "    select_next_node,\n",
    "    {\"human\": \"human\", \"tools\": \"tools\", END: END},\n",
    ")\n",
    "graph_builder.add_edge(\"tools\", \"chatbot\")\n",
    "graph_builder.add_edge(\"human\", \"chatbot\")\n",
    "graph_builder.add_edge(START, \"chatbot\")\n",
    "memory = MemorySaver()\n",
    "graph = graph_builder.compile(\n",
    "    checkpointer=memory,\n",
    "    interrupt_before=[\"human\"],\n",
    ")"
   ]
  },
  {
   "cell_type": "code",
   "execution_count": 135,
   "metadata": {},
   "outputs": [
    {
     "data": {
      "image/png": "[encoded data removed]",
      "text/plain": [
       "<IPython.core.display.Image object>"
      ]
     },
     "execution_count": 135,
     "metadata": {},
     "output_type": "execute_result"
    }
   ],
   "source": [
    "Image(graph.get_graph().draw_mermaid_png())"
   ]
  },
  {
   "cell_type": "code",
   "execution_count": 136,
   "metadata": {},
   "outputs": [
    {
     "name": "stdout",
     "output_type": "stream",
     "text": [
      "================================\u001b[1m Human Message \u001b[0m=================================\n",
      "\n",
      "I'm learning LangGraph. Could you do some research on it for me?\n",
      "==================================\u001b[1m Ai Message \u001b[0m==================================\n",
      "Tool Calls:\n",
      "  tavily_search_results_json (72b91089-8c32-408d-9b97-420ab2337a25)\n",
      " Call ID: 72b91089-8c32-408d-9b97-420ab2337a25\n",
      "  Args:\n",
      "    query: LangGraph\n",
      "=================================\u001b[1m Tool Message \u001b[0m=================================\n",
      "Name: tavily_search_results_json\n",
      "\n",
      "[{\"url\": \"https://www.langchain.com/langgraph\", \"content\": \"LangGraph is a framework for building and scaling agentic applications with LangChain Platform. It supports diverse control flows, human-agent collaboration, streaming, and deployment options for complex tasks.\"}, {\"url\": \"https://www.datacamp.com/tutorial/langgraph-tutorial\", \"content\": \"LangGraph is a library within the LangChain ecosystem that simplifies the development of complex, multi-agent large language model (LLM) applications. Learn how to use LangGraph to create stateful, flexible, and scalable systems with nodes, edges, and state management.\"}]\n",
      "==================================\u001b[1m Ai Message \u001b[0m==================================\n",
      "\n",
      "Based on my research using the tool call response, it appears that LangGraph is a framework for building and scaling agentic applications with the LangChain Platform. It supports diverse control flows, human-agent collaboration, streaming, and deployment options for complex tasks.\n",
      "\n",
      "Additionally, LangGraph is also a library within the LangChain ecosystem that simplifies the development of complex, multi-agent large language model (LLM) applications. It allows users to create stateful, flexible, and scalable systems with nodes, edges, and state management.\n",
      "\n",
      "If you would like more information or have specific questions about using LangGraph, feel free to ask!\n"
     ]
    }
   ],
   "source": [
    "config = {\"configurable\": {\"thread_id\": \"1\"}}\n",
    "events = graph.stream(\n",
    "    {\n",
    "        \"messages\": [\n",
    "            (\"user\", \"I'm learning LangGraph. Could you do some research on it for me?\")\n",
    "        ]\n",
    "    },\n",
    "    config,\n",
    "    stream_mode=\"values\",\n",
    ")\n",
    "for event in events:\n",
    "    if \"messages\" in event:\n",
    "        event[\"messages\"][-1].pretty_print()"
   ]
  },
  {
   "cell_type": "code",
   "execution_count": 137,
   "metadata": {},
   "outputs": [
    {
     "name": "stdout",
     "output_type": "stream",
     "text": [
      "================================\u001b[1m Human Message \u001b[0m=================================\n",
      "\n",
      "Ya that's helpful. Maybe I'll build an autonomous agent with it!\n",
      "==================================\u001b[1m Ai Message \u001b[0m==================================\n",
      "Tool Calls:\n",
      "  tavily_search_results_json (6db96730-b881-43aa-9a29-be1aac329082)\n",
      " Call ID: 6db96730-b881-43aa-9a29-be1aac329082\n",
      "  Args:\n",
      "    query: building an autonomous agent with LangGraph\n",
      "=================================\u001b[1m Tool Message \u001b[0m=================================\n",
      "Name: tavily_search_results_json\n",
      "\n",
      "[{\"url\": \"https://blog.futuresmart.ai/langgraph-agent-with-rag-and-nl2sql\", \"content\": \"In this blog post, we will walk you through the process of creating a custom AI agent with three powerful tools: Web Search, Retrieval-Augmented Generation (RAG), and Natural Language to SQL (NL2SQL), all integrated within the LangGraph framework. This guide is designed to provide you with a practical, step-by-step approach to building a fully functional AI agent capable of performing complex tasks such as retrieving real-time data from the web, generating responses based on retrieved information from the knowledge base, and translating natural language queries into SQL database queries. By following this tutorial, you've built an AI agent capable of performing diverse tasks such as retrieving real-time data, answering questions based on document-based knowledge, and executing SQL queries directly from natural language commands.\"}, {\"url\": \"https://medium.com/@Shrishml/a-primer-on-ai-agents-with-langgraph-understand-all-about-it-0534345190dc\", \"content\": \"This design highlights LangGraph's ability to build adaptable agents that can iteratively plan and execute tasks. ... Task-driven Autonomous Agent Utilizing GPT-4, Pinecone, and LangChain for\"}]\n",
      "==================================\u001b[1m Ai Message \u001b[0m==================================\n",
      "\n",
      "Based on my research using the tool call response, it appears that building an autonomous agent with LangGraph is a feasible task. \n",
      "\n",
      "One example of how to do this can be seen in a blog post where an author integrates three powerful tools within the LangGraph framework: Web Search, Retrieval-Augmented Generation (RAG), and Natural Language to SQL (NL2SQL). This guide provides a step-by-step approach to building a fully functional AI agent capable of performing complex tasks such as retrieving real-time data from the web, generating responses based on retrieved information from the knowledge base, and translating natural language queries into SQL database queries.\n",
      "\n",
      "Another example is given in a Medium article where LangGraph's ability to build adaptable agents that can iteratively plan and execute tasks is highlighted. \n",
      "\n",
      "These examples demonstrate how LangGraph can be used to create autonomous agents that are capable of performing diverse tasks and adapting to new situations.\n"
     ]
    }
   ],
   "source": [
    "events = graph.stream(\n",
    "    {\n",
    "        \"messages\": [\n",
    "            (\"user\", \"Ya that's helpful. Maybe I'll build an autonomous agent with it!\")\n",
    "        ]\n",
    "    },\n",
    "    config,\n",
    "    stream_mode=\"values\",\n",
    ")\n",
    "for event in events:\n",
    "    if \"messages\" in event:\n",
    "        event[\"messages\"][-1].pretty_print()"
   ]
  },
  {
   "cell_type": "code",
   "execution_count": 138,
   "metadata": {},
   "outputs": [
    {
     "name": "stdout",
     "output_type": "stream",
     "text": [
      "Num Messages:  8 Next:  ()\n",
      "--------------------------------------------------------------------------------\n",
      "Num Messages:  7 Next:  ('chatbot',)\n",
      "--------------------------------------------------------------------------------\n",
      "Num Messages:  6 Next:  ('tools',)\n",
      "--------------------------------------------------------------------------------\n",
      "Num Messages:  5 Next:  ('chatbot',)\n",
      "--------------------------------------------------------------------------------\n",
      "Num Messages:  4 Next:  ('__start__',)\n",
      "--------------------------------------------------------------------------------\n",
      "Num Messages:  4 Next:  ()\n",
      "--------------------------------------------------------------------------------\n",
      "Num Messages:  3 Next:  ('chatbot',)\n",
      "--------------------------------------------------------------------------------\n",
      "Num Messages:  2 Next:  ('tools',)\n",
      "--------------------------------------------------------------------------------\n",
      "Num Messages:  1 Next:  ('chatbot',)\n",
      "--------------------------------------------------------------------------------\n",
      "Num Messages:  0 Next:  ('__start__',)\n",
      "--------------------------------------------------------------------------------\n"
     ]
    }
   ],
   "source": [
    "to_replay = None\n",
    "for state in graph.get_state_history(config):\n",
    "    print(\"Num Messages: \", len(state.values[\"messages\"]), \"Next: \", state.next)\n",
    "    print(\"-\" * 80)\n",
    "    if len(state.values[\"messages\"]) == 6:\n",
    "        # We are somewhat arbitrarily selecting a specific state based on the number of chat messages in the state.\n",
    "        to_replay = state"
   ]
  },
  {
   "cell_type": "code",
   "execution_count": 140,
   "metadata": {},
   "outputs": [
    {
     "data": {
      "text/plain": [
       "[StateSnapshot(values={'messages': [HumanMessage(content=\"I'm learning LangGraph. Could you do some research on it for me?\", additional_kwargs={}, response_metadata={}, id='aed4823d-5a2d-41cf-8f7e-603938b4db17'), AIMessage(content='', additional_kwargs={}, response_metadata={'model': 'llama3.1', 'created_at': '2024-12-26T20:12:34.999707563Z', 'done': True, 'done_reason': 'stop', 'total_duration': 1576525740, 'load_duration': 1329386328, 'prompt_eval_count': 293, 'prompt_eval_duration': 85000000, 'eval_count': 22, 'eval_duration': 160000000, 'message': {'role': 'assistant', 'content': '', 'images': None, 'tool_calls': None}}, id='run-8fd437f0-f8f8-486b-bc26-e860e7887c9e-0', tool_calls=[{'name': 'tavily_search_results_json', 'args': {'query': 'LangGraph'}, 'id': '72b91089-8c32-408d-9b97-420ab2337a25', 'type': 'tool_call'}], usage_metadata={'input_tokens': 293, 'output_tokens': 22, 'total_tokens': 315}), ToolMessage(content='[{\"url\": \"https://www.langchain.com/langgraph\", \"content\": \"LangGraph is a framework for building and scaling agentic applications with LangChain Platform. It supports diverse control flows, human-agent collaboration, streaming, and deployment options for complex tasks.\"}, {\"url\": \"https://www.datacamp.com/tutorial/langgraph-tutorial\", \"content\": \"LangGraph is a library within the LangChain ecosystem that simplifies the development of complex, multi-agent large language model (LLM) applications. Learn how to use LangGraph to create stateful, flexible, and scalable systems with nodes, edges, and state management.\"}]', name='tavily_search_results_json', id='d4c2c6c8-354e-45c7-8191-ec4702c354bc', tool_call_id='72b91089-8c32-408d-9b97-420ab2337a25', artifact={'query': 'LangGraph', 'follow_up_questions': None, 'answer': None, 'images': [], 'results': [{'title': 'LangGraph - LangChain', 'url': 'https://www.langchain.com/langgraph', 'content': 'LangGraph is a framework for building and scaling agentic applications with LangChain Platform. It supports diverse control flows, human-agent collaboration, streaming, and deployment options for complex tasks.', 'score': 0.9284155, 'raw_content': None}, {'title': 'LangGraph Tutorial: What Is LangGraph and How to Use It?', 'url': 'https://www.datacamp.com/tutorial/langgraph-tutorial', 'content': 'LangGraph is a library within the LangChain ecosystem that simplifies the development of complex, multi-agent large language model (LLM) applications. Learn how to use LangGraph to create stateful, flexible, and scalable systems with nodes, edges, and state management.', 'score': 0.9255605, 'raw_content': None}], 'response_time': 1.57}), AIMessage(content='Based on my research using the tool call response, it appears that LangGraph is a framework for building and scaling agentic applications with the LangChain Platform. It supports diverse control flows, human-agent collaboration, streaming, and deployment options for complex tasks.\\n\\nAdditionally, LangGraph is also a library within the LangChain ecosystem that simplifies the development of complex, multi-agent large language model (LLM) applications. It allows users to create stateful, flexible, and scalable systems with nodes, edges, and state management.\\n\\nIf you would like more information or have specific questions about using LangGraph, feel free to ask!', additional_kwargs={}, response_metadata={'model': 'llama3.1', 'created_at': '2024-12-26T20:12:38.591405667Z', 'done': True, 'done_reason': 'stop', 'total_duration': 1291181772, 'load_duration': 29791739, 'prompt_eval_count': 234, 'prompt_eval_duration': 8000000, 'eval_count': 125, 'eval_duration': 941000000, 'message': {'role': 'assistant', 'content': 'Based on my research using the tool call response, it appears that LangGraph is a framework for building and scaling agentic applications with the LangChain Platform. It supports diverse control flows, human-agent collaboration, streaming, and deployment options for complex tasks.\\n\\nAdditionally, LangGraph is also a library within the LangChain ecosystem that simplifies the development of complex, multi-agent large language model (LLM) applications. It allows users to create stateful, flexible, and scalable systems with nodes, edges, and state management.\\n\\nIf you would like more information or have specific questions about using LangGraph, feel free to ask!', 'images': None, 'tool_calls': None}}, id='run-782b9567-134d-4ca2-b2e3-96710334a259-0', usage_metadata={'input_tokens': 234, 'output_tokens': 125, 'total_tokens': 359}), HumanMessage(content=\"Ya that's helpful. Maybe I'll build an autonomous agent with it!\", additional_kwargs={}, response_metadata={}, id='9340d181-146a-4503-97c2-889f89419b60'), AIMessage(content='', additional_kwargs={}, response_metadata={'model': 'llama3.1', 'created_at': '2024-12-26T20:13:09.33323679Z', 'done': True, 'done_reason': 'stop', 'total_duration': 258834916, 'load_duration': 13967123, 'prompt_eval_count': 603, 'prompt_eval_duration': 17000000, 'eval_count': 27, 'eval_duration': 224000000, 'message': {'role': 'assistant', 'content': '', 'images': None, 'tool_calls': None}}, id='run-850f1025-150b-437b-9287-d3f3bbaf2118-0', tool_calls=[{'name': 'tavily_search_results_json', 'args': {'query': 'building an autonomous agent with LangGraph'}, 'id': '6db96730-b881-43aa-9a29-be1aac329082', 'type': 'tool_call'}], usage_metadata={'input_tokens': 603, 'output_tokens': 27, 'total_tokens': 630}), ToolMessage(content='[{\"url\": \"https://blog.futuresmart.ai/langgraph-agent-with-rag-and-nl2sql\", \"content\": \"In this blog post, we will walk you through the process of creating a custom AI agent with three powerful tools: Web Search, Retrieval-Augmented Generation (RAG), and Natural Language to SQL (NL2SQL), all integrated within the LangGraph framework. This guide is designed to provide you with a practical, step-by-step approach to building a fully functional AI agent capable of performing complex tasks such as retrieving real-time data from the web, generating responses based on retrieved information from the knowledge base, and translating natural language queries into SQL database queries. By following this tutorial, you\\'ve built an AI agent capable of performing diverse tasks such as retrieving real-time data, answering questions based on document-based knowledge, and executing SQL queries directly from natural language commands.\"}, {\"url\": \"https://medium.com/@Shrishml/a-primer-on-ai-agents-with-langgraph-understand-all-about-it-0534345190dc\", \"content\": \"This design highlights LangGraph\\'s ability to build adaptable agents that can iteratively plan and execute tasks. ... Task-driven Autonomous Agent Utilizing GPT-4, Pinecone, and LangChain for\"}]', name='tavily_search_results_json', id='27ec7452-1171-4d60-845b-aa2a7f2d1548', tool_call_id='6db96730-b881-43aa-9a29-be1aac329082', artifact={'query': 'building an autonomous agent with LangGraph', 'follow_up_questions': None, 'answer': None, 'images': [], 'results': [{'title': 'Build AI Agents Using LangGraph with RAG, NL2SQL, Web Search', 'url': 'https://blog.futuresmart.ai/langgraph-agent-with-rag-and-nl2sql', 'content': \"In this blog post, we will walk you through the process of creating a custom AI agent with three powerful tools: Web Search, Retrieval-Augmented Generation (RAG), and Natural Language to SQL (NL2SQL), all integrated within the LangGraph framework. This guide is designed to provide you with a practical, step-by-step approach to building a fully functional AI agent capable of performing complex tasks such as retrieving real-time data from the web, generating responses based on retrieved information from the knowledge base, and translating natural language queries into SQL database queries. By following this tutorial, you've built an AI agent capable of performing diverse tasks such as retrieving real-time data, answering questions based on document-based knowledge, and executing SQL queries directly from natural language commands.\", 'score': 0.8358192, 'raw_content': None}, {'title': 'A primer on AI Agents with LangGraph, understand all about it', 'url': 'https://medium.com/@Shrishml/a-primer-on-ai-agents-with-langgraph-understand-all-about-it-0534345190dc', 'content': \"This design highlights LangGraph's ability to build adaptable agents that can iteratively plan and execute tasks. ... Task-driven Autonomous Agent Utilizing GPT-4, Pinecone, and LangChain for\", 'score': 0.8156003, 'raw_content': None}], 'response_time': 2.14}), AIMessage(content=\"Based on my research using the tool call response, it appears that building an autonomous agent with LangGraph is a feasible task. \\n\\nOne example of how to do this can be seen in a blog post where an author integrates three powerful tools within the LangGraph framework: Web Search, Retrieval-Augmented Generation (RAG), and Natural Language to SQL (NL2SQL). This guide provides a step-by-step approach to building a fully functional AI agent capable of performing complex tasks such as retrieving real-time data from the web, generating responses based on retrieved information from the knowledge base, and translating natural language queries into SQL database queries.\\n\\nAnother example is given in a Medium article where LangGraph's ability to build adaptable agents that can iteratively plan and execute tasks is highlighted. \\n\\nThese examples demonstrate how LangGraph can be used to create autonomous agents that are capable of performing diverse tasks and adapting to new situations.\", additional_kwargs={}, response_metadata={'model': 'llama3.1', 'created_at': '2024-12-26T20:13:13.59495096Z', 'done': True, 'done_reason': 'stop', 'total_duration': 1454702000, 'load_duration': 14867078, 'prompt_eval_count': 680, 'prompt_eval_duration': 14000000, 'eval_count': 182, 'eval_duration': 1418000000, 'message': {'role': 'assistant', 'content': \"Based on my research using the tool call response, it appears that building an autonomous agent with LangGraph is a feasible task. \\n\\nOne example of how to do this can be seen in a blog post where an author integrates three powerful tools within the LangGraph framework: Web Search, Retrieval-Augmented Generation (RAG), and Natural Language to SQL (NL2SQL). This guide provides a step-by-step approach to building a fully functional AI agent capable of performing complex tasks such as retrieving real-time data from the web, generating responses based on retrieved information from the knowledge base, and translating natural language queries into SQL database queries.\\n\\nAnother example is given in a Medium article where LangGraph's ability to build adaptable agents that can iteratively plan and execute tasks is highlighted. \\n\\nThese examples demonstrate how LangGraph can be used to create autonomous agents that are capable of performing diverse tasks and adapting to new situations.\", 'images': None, 'tool_calls': None}}, id='run-055bdd6e-ad69-431b-aca5-3adc7c231ae8-0', usage_metadata={'input_tokens': 680, 'output_tokens': 182, 'total_tokens': 862})], 'ask_human': False}, next=(), config={'configurable': {'thread_id': '1', 'checkpoint_ns': '', 'checkpoint_id': '1efc3c5d-5dfc-65b5-8008-f9b92d17c6e6'}}, metadata={'source': 'loop', 'writes': {'chatbot': {'messages': [AIMessage(content=\"Based on my research using the tool call response, it appears that building an autonomous agent with LangGraph is a feasible task. \\n\\nOne example of how to do this can be seen in a blog post where an author integrates three powerful tools within the LangGraph framework: Web Search, Retrieval-Augmented Generation (RAG), and Natural Language to SQL (NL2SQL). This guide provides a step-by-step approach to building a fully functional AI agent capable of performing complex tasks such as retrieving real-time data from the web, generating responses based on retrieved information from the knowledge base, and translating natural language queries into SQL database queries.\\n\\nAnother example is given in a Medium article where LangGraph's ability to build adaptable agents that can iteratively plan and execute tasks is highlighted. \\n\\nThese examples demonstrate how LangGraph can be used to create autonomous agents that are capable of performing diverse tasks and adapting to new situations.\", additional_kwargs={}, response_metadata={'model': 'llama3.1', 'created_at': '2024-12-26T20:13:13.59495096Z', 'done': True, 'done_reason': 'stop', 'total_duration': 1454702000, 'load_duration': 14867078, 'prompt_eval_count': 680, 'prompt_eval_duration': 14000000, 'eval_count': 182, 'eval_duration': 1418000000, 'message': {'role': 'assistant', 'content': \"Based on my research using the tool call response, it appears that building an autonomous agent with LangGraph is a feasible task. \\n\\nOne example of how to do this can be seen in a blog post where an author integrates three powerful tools within the LangGraph framework: Web Search, Retrieval-Augmented Generation (RAG), and Natural Language to SQL (NL2SQL). This guide provides a step-by-step approach to building a fully functional AI agent capable of performing complex tasks such as retrieving real-time data from the web, generating responses based on retrieved information from the knowledge base, and translating natural language queries into SQL database queries.\\n\\nAnother example is given in a Medium article where LangGraph's ability to build adaptable agents that can iteratively plan and execute tasks is highlighted. \\n\\nThese examples demonstrate how LangGraph can be used to create autonomous agents that are capable of performing diverse tasks and adapting to new situations.\", 'images': None, 'tool_calls': None}}, id='run-055bdd6e-ad69-431b-aca5-3adc7c231ae8-0', usage_metadata={'input_tokens': 680, 'output_tokens': 182, 'total_tokens': 862})], 'ask_human': False}}, 'thread_id': '1', 'step': 8, 'parents': {}}, created_at='2024-12-26T20:13:13.596034+00:00', parent_config={'configurable': {'thread_id': '1', 'checkpoint_ns': '', 'checkpoint_id': '1efc3c5d-5010-6e6d-8007-788f289adafe'}}, tasks=()),\n",
       " StateSnapshot(values={'messages': [HumanMessage(content=\"I'm learning LangGraph. Could you do some research on it for me?\", additional_kwargs={}, response_metadata={}, id='aed4823d-5a2d-41cf-8f7e-603938b4db17'), AIMessage(content='', additional_kwargs={}, response_metadata={'model': 'llama3.1', 'created_at': '2024-12-26T20:12:34.999707563Z', 'done': True, 'done_reason': 'stop', 'total_duration': 1576525740, 'load_duration': 1329386328, 'prompt_eval_count': 293, 'prompt_eval_duration': 85000000, 'eval_count': 22, 'eval_duration': 160000000, 'message': {'role': 'assistant', 'content': '', 'images': None, 'tool_calls': None}}, id='run-8fd437f0-f8f8-486b-bc26-e860e7887c9e-0', tool_calls=[{'name': 'tavily_search_results_json', 'args': {'query': 'LangGraph'}, 'id': '72b91089-8c32-408d-9b97-420ab2337a25', 'type': 'tool_call'}], usage_metadata={'input_tokens': 293, 'output_tokens': 22, 'total_tokens': 315}), ToolMessage(content='[{\"url\": \"https://www.langchain.com/langgraph\", \"content\": \"LangGraph is a framework for building and scaling agentic applications with LangChain Platform. It supports diverse control flows, human-agent collaboration, streaming, and deployment options for complex tasks.\"}, {\"url\": \"https://www.datacamp.com/tutorial/langgraph-tutorial\", \"content\": \"LangGraph is a library within the LangChain ecosystem that simplifies the development of complex, multi-agent large language model (LLM) applications. Learn how to use LangGraph to create stateful, flexible, and scalable systems with nodes, edges, and state management.\"}]', name='tavily_search_results_json', id='d4c2c6c8-354e-45c7-8191-ec4702c354bc', tool_call_id='72b91089-8c32-408d-9b97-420ab2337a25', artifact={'query': 'LangGraph', 'follow_up_questions': None, 'answer': None, 'images': [], 'results': [{'title': 'LangGraph - LangChain', 'url': 'https://www.langchain.com/langgraph', 'content': 'LangGraph is a framework for building and scaling agentic applications with LangChain Platform. It supports diverse control flows, human-agent collaboration, streaming, and deployment options for complex tasks.', 'score': 0.9284155, 'raw_content': None}, {'title': 'LangGraph Tutorial: What Is LangGraph and How to Use It?', 'url': 'https://www.datacamp.com/tutorial/langgraph-tutorial', 'content': 'LangGraph is a library within the LangChain ecosystem that simplifies the development of complex, multi-agent large language model (LLM) applications. Learn how to use LangGraph to create stateful, flexible, and scalable systems with nodes, edges, and state management.', 'score': 0.9255605, 'raw_content': None}], 'response_time': 1.57}), AIMessage(content='Based on my research using the tool call response, it appears that LangGraph is a framework for building and scaling agentic applications with the LangChain Platform. It supports diverse control flows, human-agent collaboration, streaming, and deployment options for complex tasks.\\n\\nAdditionally, LangGraph is also a library within the LangChain ecosystem that simplifies the development of complex, multi-agent large language model (LLM) applications. It allows users to create stateful, flexible, and scalable systems with nodes, edges, and state management.\\n\\nIf you would like more information or have specific questions about using LangGraph, feel free to ask!', additional_kwargs={}, response_metadata={'model': 'llama3.1', 'created_at': '2024-12-26T20:12:38.591405667Z', 'done': True, 'done_reason': 'stop', 'total_duration': 1291181772, 'load_duration': 29791739, 'prompt_eval_count': 234, 'prompt_eval_duration': 8000000, 'eval_count': 125, 'eval_duration': 941000000, 'message': {'role': 'assistant', 'content': 'Based on my research using the tool call response, it appears that LangGraph is a framework for building and scaling agentic applications with the LangChain Platform. It supports diverse control flows, human-agent collaboration, streaming, and deployment options for complex tasks.\\n\\nAdditionally, LangGraph is also a library within the LangChain ecosystem that simplifies the development of complex, multi-agent large language model (LLM) applications. It allows users to create stateful, flexible, and scalable systems with nodes, edges, and state management.\\n\\nIf you would like more information or have specific questions about using LangGraph, feel free to ask!', 'images': None, 'tool_calls': None}}, id='run-782b9567-134d-4ca2-b2e3-96710334a259-0', usage_metadata={'input_tokens': 234, 'output_tokens': 125, 'total_tokens': 359}), HumanMessage(content=\"Ya that's helpful. Maybe I'll build an autonomous agent with it!\", additional_kwargs={}, response_metadata={}, id='9340d181-146a-4503-97c2-889f89419b60'), AIMessage(content='', additional_kwargs={}, response_metadata={'model': 'llama3.1', 'created_at': '2024-12-26T20:13:09.33323679Z', 'done': True, 'done_reason': 'stop', 'total_duration': 258834916, 'load_duration': 13967123, 'prompt_eval_count': 603, 'prompt_eval_duration': 17000000, 'eval_count': 27, 'eval_duration': 224000000, 'message': {'role': 'assistant', 'content': '', 'images': None, 'tool_calls': None}}, id='run-850f1025-150b-437b-9287-d3f3bbaf2118-0', tool_calls=[{'name': 'tavily_search_results_json', 'args': {'query': 'building an autonomous agent with LangGraph'}, 'id': '6db96730-b881-43aa-9a29-be1aac329082', 'type': 'tool_call'}], usage_metadata={'input_tokens': 603, 'output_tokens': 27, 'total_tokens': 630}), ToolMessage(content='[{\"url\": \"https://blog.futuresmart.ai/langgraph-agent-with-rag-and-nl2sql\", \"content\": \"In this blog post, we will walk you through the process of creating a custom AI agent with three powerful tools: Web Search, Retrieval-Augmented Generation (RAG), and Natural Language to SQL (NL2SQL), all integrated within the LangGraph framework. This guide is designed to provide you with a practical, step-by-step approach to building a fully functional AI agent capable of performing complex tasks such as retrieving real-time data from the web, generating responses based on retrieved information from the knowledge base, and translating natural language queries into SQL database queries. By following this tutorial, you\\'ve built an AI agent capable of performing diverse tasks such as retrieving real-time data, answering questions based on document-based knowledge, and executing SQL queries directly from natural language commands.\"}, {\"url\": \"https://medium.com/@Shrishml/a-primer-on-ai-agents-with-langgraph-understand-all-about-it-0534345190dc\", \"content\": \"This design highlights LangGraph\\'s ability to build adaptable agents that can iteratively plan and execute tasks. ... Task-driven Autonomous Agent Utilizing GPT-4, Pinecone, and LangChain for\"}]', name='tavily_search_results_json', id='27ec7452-1171-4d60-845b-aa2a7f2d1548', tool_call_id='6db96730-b881-43aa-9a29-be1aac329082', artifact={'query': 'building an autonomous agent with LangGraph', 'follow_up_questions': None, 'answer': None, 'images': [], 'results': [{'title': 'Build AI Agents Using LangGraph with RAG, NL2SQL, Web Search', 'url': 'https://blog.futuresmart.ai/langgraph-agent-with-rag-and-nl2sql', 'content': \"In this blog post, we will walk you through the process of creating a custom AI agent with three powerful tools: Web Search, Retrieval-Augmented Generation (RAG), and Natural Language to SQL (NL2SQL), all integrated within the LangGraph framework. This guide is designed to provide you with a practical, step-by-step approach to building a fully functional AI agent capable of performing complex tasks such as retrieving real-time data from the web, generating responses based on retrieved information from the knowledge base, and translating natural language queries into SQL database queries. By following this tutorial, you've built an AI agent capable of performing diverse tasks such as retrieving real-time data, answering questions based on document-based knowledge, and executing SQL queries directly from natural language commands.\", 'score': 0.8358192, 'raw_content': None}, {'title': 'A primer on AI Agents with LangGraph, understand all about it', 'url': 'https://medium.com/@Shrishml/a-primer-on-ai-agents-with-langgraph-understand-all-about-it-0534345190dc', 'content': \"This design highlights LangGraph's ability to build adaptable agents that can iteratively plan and execute tasks. ... Task-driven Autonomous Agent Utilizing GPT-4, Pinecone, and LangChain for\", 'score': 0.8156003, 'raw_content': None}], 'response_time': 2.14})], 'ask_human': False}, next=('chatbot',), config={'configurable': {'thread_id': '1', 'checkpoint_ns': '', 'checkpoint_id': '1efc3c5d-5010-6e6d-8007-788f289adafe'}}, metadata={'source': 'loop', 'writes': {'tools': {'messages': [ToolMessage(content='[{\"url\": \"https://blog.futuresmart.ai/langgraph-agent-with-rag-and-nl2sql\", \"content\": \"In this blog post, we will walk you through the process of creating a custom AI agent with three powerful tools: Web Search, Retrieval-Augmented Generation (RAG), and Natural Language to SQL (NL2SQL), all integrated within the LangGraph framework. This guide is designed to provide you with a practical, step-by-step approach to building a fully functional AI agent capable of performing complex tasks such as retrieving real-time data from the web, generating responses based on retrieved information from the knowledge base, and translating natural language queries into SQL database queries. By following this tutorial, you\\'ve built an AI agent capable of performing diverse tasks such as retrieving real-time data, answering questions based on document-based knowledge, and executing SQL queries directly from natural language commands.\"}, {\"url\": \"https://medium.com/@Shrishml/a-primer-on-ai-agents-with-langgraph-understand-all-about-it-0534345190dc\", \"content\": \"This design highlights LangGraph\\'s ability to build adaptable agents that can iteratively plan and execute tasks. ... Task-driven Autonomous Agent Utilizing GPT-4, Pinecone, and LangChain for\"}]', name='tavily_search_results_json', id='27ec7452-1171-4d60-845b-aa2a7f2d1548', tool_call_id='6db96730-b881-43aa-9a29-be1aac329082', artifact={'query': 'building an autonomous agent with LangGraph', 'follow_up_questions': None, 'answer': None, 'images': [], 'results': [{'title': 'Build AI Agents Using LangGraph with RAG, NL2SQL, Web Search', 'url': 'https://blog.futuresmart.ai/langgraph-agent-with-rag-and-nl2sql', 'content': \"In this blog post, we will walk you through the process of creating a custom AI agent with three powerful tools: Web Search, Retrieval-Augmented Generation (RAG), and Natural Language to SQL (NL2SQL), all integrated within the LangGraph framework. This guide is designed to provide you with a practical, step-by-step approach to building a fully functional AI agent capable of performing complex tasks such as retrieving real-time data from the web, generating responses based on retrieved information from the knowledge base, and translating natural language queries into SQL database queries. By following this tutorial, you've built an AI agent capable of performing diverse tasks such as retrieving real-time data, answering questions based on document-based knowledge, and executing SQL queries directly from natural language commands.\", 'score': 0.8358192, 'raw_content': None}, {'title': 'A primer on AI Agents with LangGraph, understand all about it', 'url': 'https://medium.com/@Shrishml/a-primer-on-ai-agents-with-langgraph-understand-all-about-it-0534345190dc', 'content': \"This design highlights LangGraph's ability to build adaptable agents that can iteratively plan and execute tasks. ... Task-driven Autonomous Agent Utilizing GPT-4, Pinecone, and LangChain for\", 'score': 0.8156003, 'raw_content': None}], 'response_time': 2.14})]}}, 'thread_id': '1', 'step': 7, 'parents': {}}, created_at='2024-12-26T20:13:12.136371+00:00', parent_config={'configurable': {'thread_id': '1', 'checkpoint_ns': '', 'checkpoint_id': '1efc3c5d-3556-6b0e-8006-2ef01d1021f4'}}, tasks=(PregelTask(id='8891d46f-d5d9-0026-5314-e097c0b2b237', name='chatbot', path=('__pregel_pull', 'chatbot'), error=None, interrupts=(), state=None, result={'messages': [AIMessage(content=\"Based on my research using the tool call response, it appears that building an autonomous agent with LangGraph is a feasible task. \\n\\nOne example of how to do this can be seen in a blog post where an author integrates three powerful tools within the LangGraph framework: Web Search, Retrieval-Augmented Generation (RAG), and Natural Language to SQL (NL2SQL). This guide provides a step-by-step approach to building a fully functional AI agent capable of performing complex tasks such as retrieving real-time data from the web, generating responses based on retrieved information from the knowledge base, and translating natural language queries into SQL database queries.\\n\\nAnother example is given in a Medium article where LangGraph's ability to build adaptable agents that can iteratively plan and execute tasks is highlighted. \\n\\nThese examples demonstrate how LangGraph can be used to create autonomous agents that are capable of performing diverse tasks and adapting to new situations.\", additional_kwargs={}, response_metadata={'model': 'llama3.1', 'created_at': '2024-12-26T20:13:13.59495096Z', 'done': True, 'done_reason': 'stop', 'total_duration': 1454702000, 'load_duration': 14867078, 'prompt_eval_count': 680, 'prompt_eval_duration': 14000000, 'eval_count': 182, 'eval_duration': 1418000000, 'message': {'role': 'assistant', 'content': \"Based on my research using the tool call response, it appears that building an autonomous agent with LangGraph is a feasible task. \\n\\nOne example of how to do this can be seen in a blog post where an author integrates three powerful tools within the LangGraph framework: Web Search, Retrieval-Augmented Generation (RAG), and Natural Language to SQL (NL2SQL). This guide provides a step-by-step approach to building a fully functional AI agent capable of performing complex tasks such as retrieving real-time data from the web, generating responses based on retrieved information from the knowledge base, and translating natural language queries into SQL database queries.\\n\\nAnother example is given in a Medium article where LangGraph's ability to build adaptable agents that can iteratively plan and execute tasks is highlighted. \\n\\nThese examples demonstrate how LangGraph can be used to create autonomous agents that are capable of performing diverse tasks and adapting to new situations.\", 'images': None, 'tool_calls': None}}, id='run-055bdd6e-ad69-431b-aca5-3adc7c231ae8-0', usage_metadata={'input_tokens': 680, 'output_tokens': 182, 'total_tokens': 862})], 'ask_human': False}),)),\n",
       " StateSnapshot(values={'messages': [HumanMessage(content=\"I'm learning LangGraph. Could you do some research on it for me?\", additional_kwargs={}, response_metadata={}, id='aed4823d-5a2d-41cf-8f7e-603938b4db17'), AIMessage(content='', additional_kwargs={}, response_metadata={'model': 'llama3.1', 'created_at': '2024-12-26T20:12:34.999707563Z', 'done': True, 'done_reason': 'stop', 'total_duration': 1576525740, 'load_duration': 1329386328, 'prompt_eval_count': 293, 'prompt_eval_duration': 85000000, 'eval_count': 22, 'eval_duration': 160000000, 'message': {'role': 'assistant', 'content': '', 'images': None, 'tool_calls': None}}, id='run-8fd437f0-f8f8-486b-bc26-e860e7887c9e-0', tool_calls=[{'name': 'tavily_search_results_json', 'args': {'query': 'LangGraph'}, 'id': '72b91089-8c32-408d-9b97-420ab2337a25', 'type': 'tool_call'}], usage_metadata={'input_tokens': 293, 'output_tokens': 22, 'total_tokens': 315}), ToolMessage(content='[{\"url\": \"https://www.langchain.com/langgraph\", \"content\": \"LangGraph is a framework for building and scaling agentic applications with LangChain Platform. It supports diverse control flows, human-agent collaboration, streaming, and deployment options for complex tasks.\"}, {\"url\": \"https://www.datacamp.com/tutorial/langgraph-tutorial\", \"content\": \"LangGraph is a library within the LangChain ecosystem that simplifies the development of complex, multi-agent large language model (LLM) applications. Learn how to use LangGraph to create stateful, flexible, and scalable systems with nodes, edges, and state management.\"}]', name='tavily_search_results_json', id='d4c2c6c8-354e-45c7-8191-ec4702c354bc', tool_call_id='72b91089-8c32-408d-9b97-420ab2337a25', artifact={'query': 'LangGraph', 'follow_up_questions': None, 'answer': None, 'images': [], 'results': [{'title': 'LangGraph - LangChain', 'url': 'https://www.langchain.com/langgraph', 'content': 'LangGraph is a framework for building and scaling agentic applications with LangChain Platform. It supports diverse control flows, human-agent collaboration, streaming, and deployment options for complex tasks.', 'score': 0.9284155, 'raw_content': None}, {'title': 'LangGraph Tutorial: What Is LangGraph and How to Use It?', 'url': 'https://www.datacamp.com/tutorial/langgraph-tutorial', 'content': 'LangGraph is a library within the LangChain ecosystem that simplifies the development of complex, multi-agent large language model (LLM) applications. Learn how to use LangGraph to create stateful, flexible, and scalable systems with nodes, edges, and state management.', 'score': 0.9255605, 'raw_content': None}], 'response_time': 1.57}), AIMessage(content='Based on my research using the tool call response, it appears that LangGraph is a framework for building and scaling agentic applications with the LangChain Platform. It supports diverse control flows, human-agent collaboration, streaming, and deployment options for complex tasks.\\n\\nAdditionally, LangGraph is also a library within the LangChain ecosystem that simplifies the development of complex, multi-agent large language model (LLM) applications. It allows users to create stateful, flexible, and scalable systems with nodes, edges, and state management.\\n\\nIf you would like more information or have specific questions about using LangGraph, feel free to ask!', additional_kwargs={}, response_metadata={'model': 'llama3.1', 'created_at': '2024-12-26T20:12:38.591405667Z', 'done': True, 'done_reason': 'stop', 'total_duration': 1291181772, 'load_duration': 29791739, 'prompt_eval_count': 234, 'prompt_eval_duration': 8000000, 'eval_count': 125, 'eval_duration': 941000000, 'message': {'role': 'assistant', 'content': 'Based on my research using the tool call response, it appears that LangGraph is a framework for building and scaling agentic applications with the LangChain Platform. It supports diverse control flows, human-agent collaboration, streaming, and deployment options for complex tasks.\\n\\nAdditionally, LangGraph is also a library within the LangChain ecosystem that simplifies the development of complex, multi-agent large language model (LLM) applications. It allows users to create stateful, flexible, and scalable systems with nodes, edges, and state management.\\n\\nIf you would like more information or have specific questions about using LangGraph, feel free to ask!', 'images': None, 'tool_calls': None}}, id='run-782b9567-134d-4ca2-b2e3-96710334a259-0', usage_metadata={'input_tokens': 234, 'output_tokens': 125, 'total_tokens': 359}), HumanMessage(content=\"Ya that's helpful. Maybe I'll build an autonomous agent with it!\", additional_kwargs={}, response_metadata={}, id='9340d181-146a-4503-97c2-889f89419b60'), AIMessage(content='', additional_kwargs={}, response_metadata={'model': 'llama3.1', 'created_at': '2024-12-26T20:13:09.33323679Z', 'done': True, 'done_reason': 'stop', 'total_duration': 258834916, 'load_duration': 13967123, 'prompt_eval_count': 603, 'prompt_eval_duration': 17000000, 'eval_count': 27, 'eval_duration': 224000000, 'message': {'role': 'assistant', 'content': '', 'images': None, 'tool_calls': None}}, id='run-850f1025-150b-437b-9287-d3f3bbaf2118-0', tool_calls=[{'name': 'tavily_search_results_json', 'args': {'query': 'building an autonomous agent with LangGraph'}, 'id': '6db96730-b881-43aa-9a29-be1aac329082', 'type': 'tool_call'}], usage_metadata={'input_tokens': 603, 'output_tokens': 27, 'total_tokens': 630})], 'ask_human': False}, next=('tools',), config={'configurable': {'thread_id': '1', 'checkpoint_ns': '', 'checkpoint_id': '1efc3c5d-3556-6b0e-8006-2ef01d1021f4'}}, metadata={'source': 'loop', 'writes': {'chatbot': {'messages': [AIMessage(content='', additional_kwargs={}, response_metadata={'model': 'llama3.1', 'created_at': '2024-12-26T20:13:09.33323679Z', 'done': True, 'done_reason': 'stop', 'total_duration': 258834916, 'load_duration': 13967123, 'prompt_eval_count': 603, 'prompt_eval_duration': 17000000, 'eval_count': 27, 'eval_duration': 224000000, 'message': {'role': 'assistant', 'content': '', 'images': None, 'tool_calls': None}}, id='run-850f1025-150b-437b-9287-d3f3bbaf2118-0', tool_calls=[{'name': 'tavily_search_results_json', 'args': {'query': 'building an autonomous agent with LangGraph'}, 'id': '6db96730-b881-43aa-9a29-be1aac329082', 'type': 'tool_call'}], usage_metadata={'input_tokens': 603, 'output_tokens': 27, 'total_tokens': 630})], 'ask_human': False}}, 'thread_id': '1', 'step': 6, 'parents': {}}, created_at='2024-12-26T20:13:09.333874+00:00', parent_config={'configurable': {'thread_id': '1', 'checkpoint_ns': '', 'checkpoint_id': '1efc3c5d-32d9-68bc-8005-200cf043e93c'}}, tasks=(PregelTask(id='7eb54165-1c9a-f157-28e8-5cc30d04b117', name='tools', path=('__pregel_pull', 'tools'), error=None, interrupts=(), state=None, result={'messages': [ToolMessage(content='[{\"url\": \"https://blog.futuresmart.ai/langgraph-agent-with-rag-and-nl2sql\", \"content\": \"In this blog post, we will walk you through the process of creating a custom AI agent with three powerful tools: Web Search, Retrieval-Augmented Generation (RAG), and Natural Language to SQL (NL2SQL), all integrated within the LangGraph framework. This guide is designed to provide you with a practical, step-by-step approach to building a fully functional AI agent capable of performing complex tasks such as retrieving real-time data from the web, generating responses based on retrieved information from the knowledge base, and translating natural language queries into SQL database queries. By following this tutorial, you\\'ve built an AI agent capable of performing diverse tasks such as retrieving real-time data, answering questions based on document-based knowledge, and executing SQL queries directly from natural language commands.\"}, {\"url\": \"https://medium.com/@Shrishml/a-primer-on-ai-agents-with-langgraph-understand-all-about-it-0534345190dc\", \"content\": \"This design highlights LangGraph\\'s ability to build adaptable agents that can iteratively plan and execute tasks. ... Task-driven Autonomous Agent Utilizing GPT-4, Pinecone, and LangChain for\"}]', name='tavily_search_results_json', id='27ec7452-1171-4d60-845b-aa2a7f2d1548', tool_call_id='6db96730-b881-43aa-9a29-be1aac329082', artifact={'query': 'building an autonomous agent with LangGraph', 'follow_up_questions': None, 'answer': None, 'images': [], 'results': [{'title': 'Build AI Agents Using LangGraph with RAG, NL2SQL, Web Search', 'url': 'https://blog.futuresmart.ai/langgraph-agent-with-rag-and-nl2sql', 'content': \"In this blog post, we will walk you through the process of creating a custom AI agent with three powerful tools: Web Search, Retrieval-Augmented Generation (RAG), and Natural Language to SQL (NL2SQL), all integrated within the LangGraph framework. This guide is designed to provide you with a practical, step-by-step approach to building a fully functional AI agent capable of performing complex tasks such as retrieving real-time data from the web, generating responses based on retrieved information from the knowledge base, and translating natural language queries into SQL database queries. By following this tutorial, you've built an AI agent capable of performing diverse tasks such as retrieving real-time data, answering questions based on document-based knowledge, and executing SQL queries directly from natural language commands.\", 'score': 0.8358192, 'raw_content': None}, {'title': 'A primer on AI Agents with LangGraph, understand all about it', 'url': 'https://medium.com/@Shrishml/a-primer-on-ai-agents-with-langgraph-understand-all-about-it-0534345190dc', 'content': \"This design highlights LangGraph's ability to build adaptable agents that can iteratively plan and execute tasks. ... Task-driven Autonomous Agent Utilizing GPT-4, Pinecone, and LangChain for\", 'score': 0.8156003, 'raw_content': None}], 'response_time': 2.14})]}),)),\n",
       " StateSnapshot(values={'messages': [HumanMessage(content=\"I'm learning LangGraph. Could you do some research on it for me?\", additional_kwargs={}, response_metadata={}, id='aed4823d-5a2d-41cf-8f7e-603938b4db17'), AIMessage(content='', additional_kwargs={}, response_metadata={'model': 'llama3.1', 'created_at': '2024-12-26T20:12:34.999707563Z', 'done': True, 'done_reason': 'stop', 'total_duration': 1576525740, 'load_duration': 1329386328, 'prompt_eval_count': 293, 'prompt_eval_duration': 85000000, 'eval_count': 22, 'eval_duration': 160000000, 'message': {'role': 'assistant', 'content': '', 'images': None, 'tool_calls': None}}, id='run-8fd437f0-f8f8-486b-bc26-e860e7887c9e-0', tool_calls=[{'name': 'tavily_search_results_json', 'args': {'query': 'LangGraph'}, 'id': '72b91089-8c32-408d-9b97-420ab2337a25', 'type': 'tool_call'}], usage_metadata={'input_tokens': 293, 'output_tokens': 22, 'total_tokens': 315}), ToolMessage(content='[{\"url\": \"https://www.langchain.com/langgraph\", \"content\": \"LangGraph is a framework for building and scaling agentic applications with LangChain Platform. It supports diverse control flows, human-agent collaboration, streaming, and deployment options for complex tasks.\"}, {\"url\": \"https://www.datacamp.com/tutorial/langgraph-tutorial\", \"content\": \"LangGraph is a library within the LangChain ecosystem that simplifies the development of complex, multi-agent large language model (LLM) applications. Learn how to use LangGraph to create stateful, flexible, and scalable systems with nodes, edges, and state management.\"}]', name='tavily_search_results_json', id='d4c2c6c8-354e-45c7-8191-ec4702c354bc', tool_call_id='72b91089-8c32-408d-9b97-420ab2337a25', artifact={'query': 'LangGraph', 'follow_up_questions': None, 'answer': None, 'images': [], 'results': [{'title': 'LangGraph - LangChain', 'url': 'https://www.langchain.com/langgraph', 'content': 'LangGraph is a framework for building and scaling agentic applications with LangChain Platform. It supports diverse control flows, human-agent collaboration, streaming, and deployment options for complex tasks.', 'score': 0.9284155, 'raw_content': None}, {'title': 'LangGraph Tutorial: What Is LangGraph and How to Use It?', 'url': 'https://www.datacamp.com/tutorial/langgraph-tutorial', 'content': 'LangGraph is a library within the LangChain ecosystem that simplifies the development of complex, multi-agent large language model (LLM) applications. Learn how to use LangGraph to create stateful, flexible, and scalable systems with nodes, edges, and state management.', 'score': 0.9255605, 'raw_content': None}], 'response_time': 1.57}), AIMessage(content='Based on my research using the tool call response, it appears that LangGraph is a framework for building and scaling agentic applications with the LangChain Platform. It supports diverse control flows, human-agent collaboration, streaming, and deployment options for complex tasks.\\n\\nAdditionally, LangGraph is also a library within the LangChain ecosystem that simplifies the development of complex, multi-agent large language model (LLM) applications. It allows users to create stateful, flexible, and scalable systems with nodes, edges, and state management.\\n\\nIf you would like more information or have specific questions about using LangGraph, feel free to ask!', additional_kwargs={}, response_metadata={'model': 'llama3.1', 'created_at': '2024-12-26T20:12:38.591405667Z', 'done': True, 'done_reason': 'stop', 'total_duration': 1291181772, 'load_duration': 29791739, 'prompt_eval_count': 234, 'prompt_eval_duration': 8000000, 'eval_count': 125, 'eval_duration': 941000000, 'message': {'role': 'assistant', 'content': 'Based on my research using the tool call response, it appears that LangGraph is a framework for building and scaling agentic applications with the LangChain Platform. It supports diverse control flows, human-agent collaboration, streaming, and deployment options for complex tasks.\\n\\nAdditionally, LangGraph is also a library within the LangChain ecosystem that simplifies the development of complex, multi-agent large language model (LLM) applications. It allows users to create stateful, flexible, and scalable systems with nodes, edges, and state management.\\n\\nIf you would like more information or have specific questions about using LangGraph, feel free to ask!', 'images': None, 'tool_calls': None}}, id='run-782b9567-134d-4ca2-b2e3-96710334a259-0', usage_metadata={'input_tokens': 234, 'output_tokens': 125, 'total_tokens': 359}), HumanMessage(content=\"Ya that's helpful. Maybe I'll build an autonomous agent with it!\", additional_kwargs={}, response_metadata={}, id='9340d181-146a-4503-97c2-889f89419b60')], 'ask_human': False}, next=('chatbot',), config={'configurable': {'thread_id': '1', 'checkpoint_ns': '', 'checkpoint_id': '1efc3c5d-32d9-68bc-8005-200cf043e93c'}}, metadata={'source': 'loop', 'writes': None, 'thread_id': '1', 'step': 5, 'parents': {}}, created_at='2024-12-26T20:13:09.072906+00:00', parent_config={'configurable': {'thread_id': '1', 'checkpoint_ns': '', 'checkpoint_id': '1efc3c5d-32d8-613e-8004-73d76518e7e1'}}, tasks=(PregelTask(id='45e79a2f-0e2b-9d47-757b-d3eea42cbc7c', name='chatbot', path=('__pregel_pull', 'chatbot'), error=None, interrupts=(), state=None, result={'messages': [AIMessage(content='', additional_kwargs={}, response_metadata={'model': 'llama3.1', 'created_at': '2024-12-26T20:13:09.33323679Z', 'done': True, 'done_reason': 'stop', 'total_duration': 258834916, 'load_duration': 13967123, 'prompt_eval_count': 603, 'prompt_eval_duration': 17000000, 'eval_count': 27, 'eval_duration': 224000000, 'message': {'role': 'assistant', 'content': '', 'images': None, 'tool_calls': None}}, id='run-850f1025-150b-437b-9287-d3f3bbaf2118-0', tool_calls=[{'name': 'tavily_search_results_json', 'args': {'query': 'building an autonomous agent with LangGraph'}, 'id': '6db96730-b881-43aa-9a29-be1aac329082', 'type': 'tool_call'}], usage_metadata={'input_tokens': 603, 'output_tokens': 27, 'total_tokens': 630})], 'ask_human': False}),)),\n",
       " StateSnapshot(values={'messages': [HumanMessage(content=\"I'm learning LangGraph. Could you do some research on it for me?\", additional_kwargs={}, response_metadata={}, id='aed4823d-5a2d-41cf-8f7e-603938b4db17'), AIMessage(content='', additional_kwargs={}, response_metadata={'model': 'llama3.1', 'created_at': '2024-12-26T20:12:34.999707563Z', 'done': True, 'done_reason': 'stop', 'total_duration': 1576525740, 'load_duration': 1329386328, 'prompt_eval_count': 293, 'prompt_eval_duration': 85000000, 'eval_count': 22, 'eval_duration': 160000000, 'message': {'role': 'assistant', 'content': '', 'images': None, 'tool_calls': None}}, id='run-8fd437f0-f8f8-486b-bc26-e860e7887c9e-0', tool_calls=[{'name': 'tavily_search_results_json', 'args': {'query': 'LangGraph'}, 'id': '72b91089-8c32-408d-9b97-420ab2337a25', 'type': 'tool_call'}], usage_metadata={'input_tokens': 293, 'output_tokens': 22, 'total_tokens': 315}), ToolMessage(content='[{\"url\": \"https://www.langchain.com/langgraph\", \"content\": \"LangGraph is a framework for building and scaling agentic applications with LangChain Platform. It supports diverse control flows, human-agent collaboration, streaming, and deployment options for complex tasks.\"}, {\"url\": \"https://www.datacamp.com/tutorial/langgraph-tutorial\", \"content\": \"LangGraph is a library within the LangChain ecosystem that simplifies the development of complex, multi-agent large language model (LLM) applications. Learn how to use LangGraph to create stateful, flexible, and scalable systems with nodes, edges, and state management.\"}]', name='tavily_search_results_json', id='d4c2c6c8-354e-45c7-8191-ec4702c354bc', tool_call_id='72b91089-8c32-408d-9b97-420ab2337a25', artifact={'query': 'LangGraph', 'follow_up_questions': None, 'answer': None, 'images': [], 'results': [{'title': 'LangGraph - LangChain', 'url': 'https://www.langchain.com/langgraph', 'content': 'LangGraph is a framework for building and scaling agentic applications with LangChain Platform. It supports diverse control flows, human-agent collaboration, streaming, and deployment options for complex tasks.', 'score': 0.9284155, 'raw_content': None}, {'title': 'LangGraph Tutorial: What Is LangGraph and How to Use It?', 'url': 'https://www.datacamp.com/tutorial/langgraph-tutorial', 'content': 'LangGraph is a library within the LangChain ecosystem that simplifies the development of complex, multi-agent large language model (LLM) applications. Learn how to use LangGraph to create stateful, flexible, and scalable systems with nodes, edges, and state management.', 'score': 0.9255605, 'raw_content': None}], 'response_time': 1.57}), AIMessage(content='Based on my research using the tool call response, it appears that LangGraph is a framework for building and scaling agentic applications with the LangChain Platform. It supports diverse control flows, human-agent collaboration, streaming, and deployment options for complex tasks.\\n\\nAdditionally, LangGraph is also a library within the LangChain ecosystem that simplifies the development of complex, multi-agent large language model (LLM) applications. It allows users to create stateful, flexible, and scalable systems with nodes, edges, and state management.\\n\\nIf you would like more information or have specific questions about using LangGraph, feel free to ask!', additional_kwargs={}, response_metadata={'model': 'llama3.1', 'created_at': '2024-12-26T20:12:38.591405667Z', 'done': True, 'done_reason': 'stop', 'total_duration': 1291181772, 'load_duration': 29791739, 'prompt_eval_count': 234, 'prompt_eval_duration': 8000000, 'eval_count': 125, 'eval_duration': 941000000, 'message': {'role': 'assistant', 'content': 'Based on my research using the tool call response, it appears that LangGraph is a framework for building and scaling agentic applications with the LangChain Platform. It supports diverse control flows, human-agent collaboration, streaming, and deployment options for complex tasks.\\n\\nAdditionally, LangGraph is also a library within the LangChain ecosystem that simplifies the development of complex, multi-agent large language model (LLM) applications. It allows users to create stateful, flexible, and scalable systems with nodes, edges, and state management.\\n\\nIf you would like more information or have specific questions about using LangGraph, feel free to ask!', 'images': None, 'tool_calls': None}}, id='run-782b9567-134d-4ca2-b2e3-96710334a259-0', usage_metadata={'input_tokens': 234, 'output_tokens': 125, 'total_tokens': 359})], 'ask_human': False}, next=('__start__',), config={'configurable': {'thread_id': '1', 'checkpoint_ns': '', 'checkpoint_id': '1efc3c5d-32d8-613e-8004-73d76518e7e1'}}, metadata={'source': 'input', 'writes': {'__start__': {'messages': [['user', \"Ya that's helpful. Maybe I'll build an autonomous agent with it!\"]]}}, 'thread_id': '1', 'step': 4, 'parents': {}}, created_at='2024-12-26T20:13:09.072301+00:00', parent_config={'configurable': {'thread_id': '1', 'checkpoint_ns': '', 'checkpoint_id': '1efc3c5c-102a-6424-8003-2e2f22c1a34a'}}, tasks=(PregelTask(id='628f6fa0-a606-aa49-c81e-a4990e6e1894', name='__start__', path=('__pregel_pull', '__start__'), error=None, interrupts=(), state=None, result={'messages': [['user', \"Ya that's helpful. Maybe I'll build an autonomous agent with it!\"]]}),)),\n",
       " StateSnapshot(values={'messages': [HumanMessage(content=\"I'm learning LangGraph. Could you do some research on it for me?\", additional_kwargs={}, response_metadata={}, id='aed4823d-5a2d-41cf-8f7e-603938b4db17'), AIMessage(content='', additional_kwargs={}, response_metadata={'model': 'llama3.1', 'created_at': '2024-12-26T20:12:34.999707563Z', 'done': True, 'done_reason': 'stop', 'total_duration': 1576525740, 'load_duration': 1329386328, 'prompt_eval_count': 293, 'prompt_eval_duration': 85000000, 'eval_count': 22, 'eval_duration': 160000000, 'message': {'role': 'assistant', 'content': '', 'images': None, 'tool_calls': None}}, id='run-8fd437f0-f8f8-486b-bc26-e860e7887c9e-0', tool_calls=[{'name': 'tavily_search_results_json', 'args': {'query': 'LangGraph'}, 'id': '72b91089-8c32-408d-9b97-420ab2337a25', 'type': 'tool_call'}], usage_metadata={'input_tokens': 293, 'output_tokens': 22, 'total_tokens': 315}), ToolMessage(content='[{\"url\": \"https://www.langchain.com/langgraph\", \"content\": \"LangGraph is a framework for building and scaling agentic applications with LangChain Platform. It supports diverse control flows, human-agent collaboration, streaming, and deployment options for complex tasks.\"}, {\"url\": \"https://www.datacamp.com/tutorial/langgraph-tutorial\", \"content\": \"LangGraph is a library within the LangChain ecosystem that simplifies the development of complex, multi-agent large language model (LLM) applications. Learn how to use LangGraph to create stateful, flexible, and scalable systems with nodes, edges, and state management.\"}]', name='tavily_search_results_json', id='d4c2c6c8-354e-45c7-8191-ec4702c354bc', tool_call_id='72b91089-8c32-408d-9b97-420ab2337a25', artifact={'query': 'LangGraph', 'follow_up_questions': None, 'answer': None, 'images': [], 'results': [{'title': 'LangGraph - LangChain', 'url': 'https://www.langchain.com/langgraph', 'content': 'LangGraph is a framework for building and scaling agentic applications with LangChain Platform. It supports diverse control flows, human-agent collaboration, streaming, and deployment options for complex tasks.', 'score': 0.9284155, 'raw_content': None}, {'title': 'LangGraph Tutorial: What Is LangGraph and How to Use It?', 'url': 'https://www.datacamp.com/tutorial/langgraph-tutorial', 'content': 'LangGraph is a library within the LangChain ecosystem that simplifies the development of complex, multi-agent large language model (LLM) applications. Learn how to use LangGraph to create stateful, flexible, and scalable systems with nodes, edges, and state management.', 'score': 0.9255605, 'raw_content': None}], 'response_time': 1.57}), AIMessage(content='Based on my research using the tool call response, it appears that LangGraph is a framework for building and scaling agentic applications with the LangChain Platform. It supports diverse control flows, human-agent collaboration, streaming, and deployment options for complex tasks.\\n\\nAdditionally, LangGraph is also a library within the LangChain ecosystem that simplifies the development of complex, multi-agent large language model (LLM) applications. It allows users to create stateful, flexible, and scalable systems with nodes, edges, and state management.\\n\\nIf you would like more information or have specific questions about using LangGraph, feel free to ask!', additional_kwargs={}, response_metadata={'model': 'llama3.1', 'created_at': '2024-12-26T20:12:38.591405667Z', 'done': True, 'done_reason': 'stop', 'total_duration': 1291181772, 'load_duration': 29791739, 'prompt_eval_count': 234, 'prompt_eval_duration': 8000000, 'eval_count': 125, 'eval_duration': 941000000, 'message': {'role': 'assistant', 'content': 'Based on my research using the tool call response, it appears that LangGraph is a framework for building and scaling agentic applications with the LangChain Platform. It supports diverse control flows, human-agent collaboration, streaming, and deployment options for complex tasks.\\n\\nAdditionally, LangGraph is also a library within the LangChain ecosystem that simplifies the development of complex, multi-agent large language model (LLM) applications. It allows users to create stateful, flexible, and scalable systems with nodes, edges, and state management.\\n\\nIf you would like more information or have specific questions about using LangGraph, feel free to ask!', 'images': None, 'tool_calls': None}}, id='run-782b9567-134d-4ca2-b2e3-96710334a259-0', usage_metadata={'input_tokens': 234, 'output_tokens': 125, 'total_tokens': 359})], 'ask_human': False}, next=(), config={'configurable': {'thread_id': '1', 'checkpoint_ns': '', 'checkpoint_id': '1efc3c5c-102a-6424-8003-2e2f22c1a34a'}}, metadata={'source': 'loop', 'writes': {'chatbot': {'messages': [AIMessage(content='Based on my research using the tool call response, it appears that LangGraph is a framework for building and scaling agentic applications with the LangChain Platform. It supports diverse control flows, human-agent collaboration, streaming, and deployment options for complex tasks.\\n\\nAdditionally, LangGraph is also a library within the LangChain ecosystem that simplifies the development of complex, multi-agent large language model (LLM) applications. It allows users to create stateful, flexible, and scalable systems with nodes, edges, and state management.\\n\\nIf you would like more information or have specific questions about using LangGraph, feel free to ask!', additional_kwargs={}, response_metadata={'model': 'llama3.1', 'created_at': '2024-12-26T20:12:38.591405667Z', 'done': True, 'done_reason': 'stop', 'total_duration': 1291181772, 'load_duration': 29791739, 'prompt_eval_count': 234, 'prompt_eval_duration': 8000000, 'eval_count': 125, 'eval_duration': 941000000, 'message': {'role': 'assistant', 'content': 'Based on my research using the tool call response, it appears that LangGraph is a framework for building and scaling agentic applications with the LangChain Platform. It supports diverse control flows, human-agent collaboration, streaming, and deployment options for complex tasks.\\n\\nAdditionally, LangGraph is also a library within the LangChain ecosystem that simplifies the development of complex, multi-agent large language model (LLM) applications. It allows users to create stateful, flexible, and scalable systems with nodes, edges, and state management.\\n\\nIf you would like more information or have specific questions about using LangGraph, feel free to ask!', 'images': None, 'tool_calls': None}}, id='run-782b9567-134d-4ca2-b2e3-96710334a259-0', usage_metadata={'input_tokens': 234, 'output_tokens': 125, 'total_tokens': 359})], 'ask_human': False}}, 'thread_id': '1', 'step': 3, 'parents': {}}, created_at='2024-12-26T20:12:38.592398+00:00', parent_config={'configurable': {'thread_id': '1', 'checkpoint_ns': '', 'checkpoint_id': '1efc3c5c-03ce-6b79-8002-5669b99de64e'}}, tasks=()),\n",
       " StateSnapshot(values={'messages': [HumanMessage(content=\"I'm learning LangGraph. Could you do some research on it for me?\", additional_kwargs={}, response_metadata={}, id='aed4823d-5a2d-41cf-8f7e-603938b4db17'), AIMessage(content='', additional_kwargs={}, response_metadata={'model': 'llama3.1', 'created_at': '2024-12-26T20:12:34.999707563Z', 'done': True, 'done_reason': 'stop', 'total_duration': 1576525740, 'load_duration': 1329386328, 'prompt_eval_count': 293, 'prompt_eval_duration': 85000000, 'eval_count': 22, 'eval_duration': 160000000, 'message': {'role': 'assistant', 'content': '', 'images': None, 'tool_calls': None}}, id='run-8fd437f0-f8f8-486b-bc26-e860e7887c9e-0', tool_calls=[{'name': 'tavily_search_results_json', 'args': {'query': 'LangGraph'}, 'id': '72b91089-8c32-408d-9b97-420ab2337a25', 'type': 'tool_call'}], usage_metadata={'input_tokens': 293, 'output_tokens': 22, 'total_tokens': 315}), ToolMessage(content='[{\"url\": \"https://www.langchain.com/langgraph\", \"content\": \"LangGraph is a framework for building and scaling agentic applications with LangChain Platform. It supports diverse control flows, human-agent collaboration, streaming, and deployment options for complex tasks.\"}, {\"url\": \"https://www.datacamp.com/tutorial/langgraph-tutorial\", \"content\": \"LangGraph is a library within the LangChain ecosystem that simplifies the development of complex, multi-agent large language model (LLM) applications. Learn how to use LangGraph to create stateful, flexible, and scalable systems with nodes, edges, and state management.\"}]', name='tavily_search_results_json', id='d4c2c6c8-354e-45c7-8191-ec4702c354bc', tool_call_id='72b91089-8c32-408d-9b97-420ab2337a25', artifact={'query': 'LangGraph', 'follow_up_questions': None, 'answer': None, 'images': [], 'results': [{'title': 'LangGraph - LangChain', 'url': 'https://www.langchain.com/langgraph', 'content': 'LangGraph is a framework for building and scaling agentic applications with LangChain Platform. It supports diverse control flows, human-agent collaboration, streaming, and deployment options for complex tasks.', 'score': 0.9284155, 'raw_content': None}, {'title': 'LangGraph Tutorial: What Is LangGraph and How to Use It?', 'url': 'https://www.datacamp.com/tutorial/langgraph-tutorial', 'content': 'LangGraph is a library within the LangChain ecosystem that simplifies the development of complex, multi-agent large language model (LLM) applications. Learn how to use LangGraph to create stateful, flexible, and scalable systems with nodes, edges, and state management.', 'score': 0.9255605, 'raw_content': None}], 'response_time': 1.57})], 'ask_human': False}, next=('chatbot',), config={'configurable': {'thread_id': '1', 'checkpoint_ns': '', 'checkpoint_id': '1efc3c5c-03ce-6b79-8002-5669b99de64e'}}, metadata={'source': 'loop', 'writes': {'tools': {'messages': [ToolMessage(content='[{\"url\": \"https://www.langchain.com/langgraph\", \"content\": \"LangGraph is a framework for building and scaling agentic applications with LangChain Platform. It supports diverse control flows, human-agent collaboration, streaming, and deployment options for complex tasks.\"}, {\"url\": \"https://www.datacamp.com/tutorial/langgraph-tutorial\", \"content\": \"LangGraph is a library within the LangChain ecosystem that simplifies the development of complex, multi-agent large language model (LLM) applications. Learn how to use LangGraph to create stateful, flexible, and scalable systems with nodes, edges, and state management.\"}]', name='tavily_search_results_json', id='d4c2c6c8-354e-45c7-8191-ec4702c354bc', tool_call_id='72b91089-8c32-408d-9b97-420ab2337a25', artifact={'query': 'LangGraph', 'follow_up_questions': None, 'answer': None, 'images': [], 'results': [{'title': 'LangGraph - LangChain', 'url': 'https://www.langchain.com/langgraph', 'content': 'LangGraph is a framework for building and scaling agentic applications with LangChain Platform. It supports diverse control flows, human-agent collaboration, streaming, and deployment options for complex tasks.', 'score': 0.9284155, 'raw_content': None}, {'title': 'LangGraph Tutorial: What Is LangGraph and How to Use It?', 'url': 'https://www.datacamp.com/tutorial/langgraph-tutorial', 'content': 'LangGraph is a library within the LangChain ecosystem that simplifies the development of complex, multi-agent large language model (LLM) applications. Learn how to use LangGraph to create stateful, flexible, and scalable systems with nodes, edges, and state management.', 'score': 0.9255605, 'raw_content': None}], 'response_time': 1.57})]}}, 'thread_id': '1', 'step': 2, 'parents': {}}, created_at='2024-12-26T20:12:37.296559+00:00', parent_config={'configurable': {'thread_id': '1', 'checkpoint_ns': '', 'checkpoint_id': '1efc3c5b-ede9-6253-8001-486cfa2292b9'}}, tasks=(PregelTask(id='90dc96ac-465f-90ee-0787-02f99babd0f6', name='chatbot', path=('__pregel_pull', 'chatbot'), error=None, interrupts=(), state=None, result={'messages': [AIMessage(content='Based on my research using the tool call response, it appears that LangGraph is a framework for building and scaling agentic applications with the LangChain Platform. It supports diverse control flows, human-agent collaboration, streaming, and deployment options for complex tasks.\\n\\nAdditionally, LangGraph is also a library within the LangChain ecosystem that simplifies the development of complex, multi-agent large language model (LLM) applications. It allows users to create stateful, flexible, and scalable systems with nodes, edges, and state management.\\n\\nIf you would like more information or have specific questions about using LangGraph, feel free to ask!', additional_kwargs={}, response_metadata={'model': 'llama3.1', 'created_at': '2024-12-26T20:12:38.591405667Z', 'done': True, 'done_reason': 'stop', 'total_duration': 1291181772, 'load_duration': 29791739, 'prompt_eval_count': 234, 'prompt_eval_duration': 8000000, 'eval_count': 125, 'eval_duration': 941000000, 'message': {'role': 'assistant', 'content': 'Based on my research using the tool call response, it appears that LangGraph is a framework for building and scaling agentic applications with the LangChain Platform. It supports diverse control flows, human-agent collaboration, streaming, and deployment options for complex tasks.\\n\\nAdditionally, LangGraph is also a library within the LangChain ecosystem that simplifies the development of complex, multi-agent large language model (LLM) applications. It allows users to create stateful, flexible, and scalable systems with nodes, edges, and state management.\\n\\nIf you would like more information or have specific questions about using LangGraph, feel free to ask!', 'images': None, 'tool_calls': None}}, id='run-782b9567-134d-4ca2-b2e3-96710334a259-0', usage_metadata={'input_tokens': 234, 'output_tokens': 125, 'total_tokens': 359})], 'ask_human': False}),)),\n",
       " StateSnapshot(values={'messages': [HumanMessage(content=\"I'm learning LangGraph. Could you do some research on it for me?\", additional_kwargs={}, response_metadata={}, id='aed4823d-5a2d-41cf-8f7e-603938b4db17'), AIMessage(content='', additional_kwargs={}, response_metadata={'model': 'llama3.1', 'created_at': '2024-12-26T20:12:34.999707563Z', 'done': True, 'done_reason': 'stop', 'total_duration': 1576525740, 'load_duration': 1329386328, 'prompt_eval_count': 293, 'prompt_eval_duration': 85000000, 'eval_count': 22, 'eval_duration': 160000000, 'message': {'role': 'assistant', 'content': '', 'images': None, 'tool_calls': None}}, id='run-8fd437f0-f8f8-486b-bc26-e860e7887c9e-0', tool_calls=[{'name': 'tavily_search_results_json', 'args': {'query': 'LangGraph'}, 'id': '72b91089-8c32-408d-9b97-420ab2337a25', 'type': 'tool_call'}], usage_metadata={'input_tokens': 293, 'output_tokens': 22, 'total_tokens': 315})], 'ask_human': False}, next=('tools',), config={'configurable': {'thread_id': '1', 'checkpoint_ns': '', 'checkpoint_id': '1efc3c5b-ede9-6253-8001-486cfa2292b9'}}, metadata={'source': 'loop', 'writes': {'chatbot': {'messages': [AIMessage(content='', additional_kwargs={}, response_metadata={'model': 'llama3.1', 'created_at': '2024-12-26T20:12:34.999707563Z', 'done': True, 'done_reason': 'stop', 'total_duration': 1576525740, 'load_duration': 1329386328, 'prompt_eval_count': 293, 'prompt_eval_duration': 85000000, 'eval_count': 22, 'eval_duration': 160000000, 'message': {'role': 'assistant', 'content': '', 'images': None, 'tool_calls': None}}, id='run-8fd437f0-f8f8-486b-bc26-e860e7887c9e-0', tool_calls=[{'name': 'tavily_search_results_json', 'args': {'query': 'LangGraph'}, 'id': '72b91089-8c32-408d-9b97-420ab2337a25', 'type': 'tool_call'}], usage_metadata={'input_tokens': 293, 'output_tokens': 22, 'total_tokens': 315})], 'ask_human': False}}, 'thread_id': '1', 'step': 1, 'parents': {}}, created_at='2024-12-26T20:12:35.000565+00:00', parent_config={'configurable': {'thread_id': '1', 'checkpoint_ns': '', 'checkpoint_id': '1efc3c5b-ded6-6614-8000-9ab567fee451'}}, tasks=(PregelTask(id='6f982cb3-b85a-3965-374c-7e2f7fd7edc7', name='tools', path=('__pregel_pull', 'tools'), error=None, interrupts=(), state=None, result={'messages': [ToolMessage(content='[{\"url\": \"https://www.langchain.com/langgraph\", \"content\": \"LangGraph is a framework for building and scaling agentic applications with LangChain Platform. It supports diverse control flows, human-agent collaboration, streaming, and deployment options for complex tasks.\"}, {\"url\": \"https://www.datacamp.com/tutorial/langgraph-tutorial\", \"content\": \"LangGraph is a library within the LangChain ecosystem that simplifies the development of complex, multi-agent large language model (LLM) applications. Learn how to use LangGraph to create stateful, flexible, and scalable systems with nodes, edges, and state management.\"}]', name='tavily_search_results_json', id='d4c2c6c8-354e-45c7-8191-ec4702c354bc', tool_call_id='72b91089-8c32-408d-9b97-420ab2337a25', artifact={'query': 'LangGraph', 'follow_up_questions': None, 'answer': None, 'images': [], 'results': [{'title': 'LangGraph - LangChain', 'url': 'https://www.langchain.com/langgraph', 'content': 'LangGraph is a framework for building and scaling agentic applications with LangChain Platform. It supports diverse control flows, human-agent collaboration, streaming, and deployment options for complex tasks.', 'score': 0.9284155, 'raw_content': None}, {'title': 'LangGraph Tutorial: What Is LangGraph and How to Use It?', 'url': 'https://www.datacamp.com/tutorial/langgraph-tutorial', 'content': 'LangGraph is a library within the LangChain ecosystem that simplifies the development of complex, multi-agent large language model (LLM) applications. Learn how to use LangGraph to create stateful, flexible, and scalable systems with nodes, edges, and state management.', 'score': 0.9255605, 'raw_content': None}], 'response_time': 1.57})]}),)),\n",
       " StateSnapshot(values={'messages': [HumanMessage(content=\"I'm learning LangGraph. Could you do some research on it for me?\", additional_kwargs={}, response_metadata={}, id='aed4823d-5a2d-41cf-8f7e-603938b4db17')]}, next=('chatbot',), config={'configurable': {'thread_id': '1', 'checkpoint_ns': '', 'checkpoint_id': '1efc3c5b-ded6-6614-8000-9ab567fee451'}}, metadata={'source': 'loop', 'writes': None, 'thread_id': '1', 'step': 0, 'parents': {}}, created_at='2024-12-26T20:12:33.420028+00:00', parent_config={'configurable': {'thread_id': '1', 'checkpoint_ns': '', 'checkpoint_id': '1efc3c5b-ded5-6123-bfff-b1cf7832635e'}}, tasks=(PregelTask(id='86b6195f-4797-2a47-e6e5-35e0c4aba292', name='chatbot', path=('__pregel_pull', 'chatbot'), error=None, interrupts=(), state=None, result={'messages': [AIMessage(content='', additional_kwargs={}, response_metadata={'model': 'llama3.1', 'created_at': '2024-12-26T20:12:34.999707563Z', 'done': True, 'done_reason': 'stop', 'total_duration': 1576525740, 'load_duration': 1329386328, 'prompt_eval_count': 293, 'prompt_eval_duration': 85000000, 'eval_count': 22, 'eval_duration': 160000000, 'message': {'role': 'assistant', 'content': '', 'images': None, 'tool_calls': None}}, id='run-8fd437f0-f8f8-486b-bc26-e860e7887c9e-0', tool_calls=[{'name': 'tavily_search_results_json', 'args': {'query': 'LangGraph'}, 'id': '72b91089-8c32-408d-9b97-420ab2337a25', 'type': 'tool_call'}], usage_metadata={'input_tokens': 293, 'output_tokens': 22, 'total_tokens': 315})], 'ask_human': False}),)),\n",
       " StateSnapshot(values={'messages': []}, next=('__start__',), config={'configurable': {'thread_id': '1', 'checkpoint_ns': '', 'checkpoint_id': '1efc3c5b-ded5-6123-bfff-b1cf7832635e'}}, metadata={'source': 'input', 'writes': {'__start__': {'messages': [['user', \"I'm learning LangGraph. Could you do some research on it for me?\"]]}}, 'thread_id': '1', 'step': -1, 'parents': {}}, created_at='2024-12-26T20:12:33.419494+00:00', parent_config=None, tasks=(PregelTask(id='4c87c9ad-76bc-9917-e6a9-5d1ec3e0a04e', name='__start__', path=('__pregel_pull', '__start__'), error=None, interrupts=(), state=None, result={'messages': [['user', \"I'm learning LangGraph. Could you do some research on it for me?\"]]}),))]"
      ]
     },
     "execution_count": 140,
     "metadata": {},
     "output_type": "execute_result"
    }
   ],
   "source": [
    "[i for i in graph.get_state_history(config)]"
   ]
  },
  {
   "cell_type": "code",
   "execution_count": 141,
   "metadata": {},
   "outputs": [
    {
     "name": "stdout",
     "output_type": "stream",
     "text": [
      "('tools',)\n",
      "{'configurable': {'thread_id': '1', 'checkpoint_ns': '', 'checkpoint_id': '1efc3c5d-3556-6b0e-8006-2ef01d1021f4'}}\n"
     ]
    }
   ],
   "source": [
    "print(to_replay.next)\n",
    "print(to_replay.config)"
   ]
  },
  {
   "cell_type": "code",
   "execution_count": 142,
   "metadata": {},
   "outputs": [
    {
     "name": "stdout",
     "output_type": "stream",
     "text": [
      "==================================\u001b[1m Ai Message \u001b[0m==================================\n",
      "Tool Calls:\n",
      "  tavily_search_results_json (6db96730-b881-43aa-9a29-be1aac329082)\n",
      " Call ID: 6db96730-b881-43aa-9a29-be1aac329082\n",
      "  Args:\n",
      "    query: building an autonomous agent with LangGraph\n",
      "=================================\u001b[1m Tool Message \u001b[0m=================================\n",
      "Name: tavily_search_results_json\n",
      "\n",
      "[{\"url\": \"https://blog.futuresmart.ai/langgraph-agent-with-rag-and-nl2sql\", \"content\": \"In this blog post, we will walk you through the process of creating a custom AI agent with three powerful tools: Web Search, Retrieval-Augmented Generation (RAG), and Natural Language to SQL (NL2SQL), all integrated within the LangGraph framework. This guide is designed to provide you with a practical, step-by-step approach to building a fully functional AI agent capable of performing complex tasks such as retrieving real-time data from the web, generating responses based on retrieved information from the knowledge base, and translating natural language queries into SQL database queries. By following this tutorial, you've built an AI agent capable of performing diverse tasks such as retrieving real-time data, answering questions based on document-based knowledge, and executing SQL queries directly from natural language commands.\"}, {\"url\": \"https://www.solulab.com/build-ai-agents-with-langgraph/\", \"content\": \"AI Development AI Agent Development This blog will provide a detailed guide on How to build AI agents with LangGraph to help you develop your own AI apps. For moving further with the development of AI agents you need to know What is LangGraph? Fundamentally AI agents with LangGraph enable the development of applications by specifying three essential elements: The most important process of creating an AI agent by using LangGraph is to configure your development environment. Getting ready for development, therefore, is part of the initial process of developing an AI agent with the use of LangGraph. This is when you would include your logic in an AI agent based on the StateGraph that you developed. AI Development AI Agent Development\"}]\n",
      "==================================\u001b[1m Ai Message \u001b[0m==================================\n",
      "\n",
      "Based on my research using the tool call response, it appears that building an autonomous agent with LangGraph involves integrating powerful tools such as Retrieval-Augmented Generation (RAG) and Natural Language to SQL (NL2SQL) within the framework.\n",
      "\n",
      "One resource suggests creating a custom AI agent by following a step-by-step approach that includes retrieving real-time data from the web, generating responses based on retrieved information, and translating natural language queries into SQL database queries.\n",
      "\n",
      "Another resource provides a guide on how to build AI agents with LangGraph, covering the essential elements of developing applications with this framework. It emphasizes the importance of configuring your development environment and specifying logic in an AI agent based on a StateGraph that you developed.\n",
      "\n",
      "If you would like more information or have specific questions about building an autonomous agent with LangGraph, feel free to ask!\n"
     ]
    }
   ],
   "source": [
    "# The `checkpoint_id` in the `to_replay.config` corresponds to a state we've persisted to our checkpointer.\n",
    "for event in graph.stream(None, to_replay.config, stream_mode=\"values\"):\n",
    "    if \"messages\" in event:\n",
    "        event[\"messages\"][-1].pretty_print()"
   ]
  },
  {
   "cell_type": "code",
   "execution_count": null,
   "metadata": {},
   "outputs": [],
   "source": []
  }
 ],
 "metadata": {
  "kernelspec": {
   "display_name": "langgraph",
   "language": "python",
   "name": "python3"
  },
  "language_info": {
   "codemirror_mode": {
    "name": "ipython",
    "version": 3
   },
   "file_extension": ".py",
   "mimetype": "text/x-python",
   "name": "python",
   "nbconvert_exporter": "python",
   "pygments_lexer": "ipython3",
   "version": "3.11.11"
  }
 },
 "nbformat": 4,
 "nbformat_minor": 2
}
