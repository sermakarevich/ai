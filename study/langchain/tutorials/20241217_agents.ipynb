{
 "cells": [
  {
   "cell_type": "code",
   "execution_count": 13,
   "metadata": {},
   "outputs": [
    {
     "data": {
      "text/plain": [
       "True"
      ]
     },
     "execution_count": 13,
     "metadata": {},
     "output_type": "execute_result"
    }
   ],
   "source": [
    "from dotenv import load_dotenv\n",
    "load_dotenv('/home/sergii/.env', override=True)"
   ]
  },
  {
   "cell_type": "code",
   "execution_count": 15,
   "metadata": {},
   "outputs": [],
   "source": [
    "from langchain_ollama import ChatOllama\n",
    "from langchain_community.tools.tavily_search import TavilySearchResults\n",
    "from langchain_core.messages import HumanMessage\n",
    "from langgraph.checkpoint.memory import MemorySaver\n",
    "from langgraph.prebuilt import create_react_agent"
   ]
  },
  {
   "cell_type": "code",
   "execution_count": 22,
   "metadata": {},
   "outputs": [],
   "source": [
    "# ?? create_react_agent"
   ]
  },
  {
   "cell_type": "code",
   "execution_count": 33,
   "metadata": {},
   "outputs": [],
   "source": [
    "# Create the agent\n",
    "memory = MemorySaver()\n",
    "model = ChatOllama(model=\"llama3.3\")\n",
    "search = TavilySearchResults(max_results=2)\n",
    "tools = [search]\n",
    "agent_executor = create_react_agent(model, tools, checkpointer=memory)"
   ]
  },
  {
   "cell_type": "code",
   "execution_count": 34,
   "metadata": {},
   "outputs": [
    {
     "data": {
      "image/png": "[encoded data removed]",
      "text/plain": [
       "<langgraph.graph.state.CompiledStateGraph object at 0x703eac392410>"
      ]
     },
     "execution_count": 34,
     "metadata": {},
     "output_type": "execute_result"
    }
   ],
   "source": [
    "agent_executor"
   ]
  },
  {
   "cell_type": "code",
   "execution_count": 23,
   "metadata": {},
   "outputs": [
    {
     "name": "stdout",
     "output_type": "stream",
     "text": [
      "{'agent': {'messages': [AIMessage(content='', additional_kwargs={}, response_metadata={'model': 'llama3.1', 'created_at': '2024-12-17T15:36:07.82294883Z', 'done': True, 'done_reason': 'stop', 'total_duration': 1591120703, 'load_duration': 1335979173, 'prompt_eval_count': 197, 'prompt_eval_duration': 71000000, 'eval_count': 25, 'eval_duration': 181000000, 'message': Message(role='assistant', content='', images=None, tool_calls=[ToolCall(function=Function(name='tavily_search_results_json', arguments={'query': 'current events in San Francisco'}))])}, id='run-d1a41bf3-96cf-4ba0-9605-c93d3de9b09f-0', tool_calls=[{'name': 'tavily_search_results_json', 'args': {'query': 'current events in San Francisco'}, 'id': '1d5513cd-e10b-48eb-b70d-f79c9703c37a', 'type': 'tool_call'}], usage_metadata={'input_tokens': 197, 'output_tokens': 25, 'total_tokens': 222})]}}\n",
      "----\n",
      "{'tools': {'messages': [ToolMessage(content='[{\"url\": \"https://sfstandard.com/news/\", \"content\": \"Disrupt 1st Day of California Legislative Session\\\\nPolice Locate Missing 15-Year-Old Last Seen in San Francisco\\\\nGolden Gate Bridge’s Suicide Net Is Finally Complete\\\\n3 Charged in Killing of Oakland Police Officer Tuan Le\\\\n$68B California Deficit, AI Regulation Top Agenda as Lawmakers Return to Sacramento\\\\nCaltrain Hits Car in Burlingame, Injuring 1 and Causing Delays\\\\nATM Thieves Target San Francisco Bank and Oakland Grocery Store\\\\nCalifornia Starts 2024 With Below-Normal Snowpack, but Big Storm Headed for Sierra\\\\n4 Cars Set on Fire in San Francisco’s Bernal Heights, Rattling Residents\\\\nOakland Police Make Arrests in Killing of Undercover Cop\\\\nSan Francisco Building Inspector Who Inspected His Own Home Gets Fired, Faces Charges\\\\n1 Dead, 2 Injured in Rollover Car Crash in San Francisco\\\\nMurder Case of Elderly San Francisco Woman Beaten to Death Still in Limbo After 5 Years\\\\nHe Beat Addiction and Homelessness To Become an IT Tech. Then He Started Making Ghost Guns\\\\nMan Killed by Fireworks in San Francisco on New Year’s Day\\\\nWoman Shot in Car on Market Street in Downtown San Francisco\\\\n9 Injured as BART Train Derails and Catches Fire, Causes Major Delays\\\\n2024 Brings Stiffer Penalties for Fentanyl Dealers in California as Overdose Crisis Rages\\\\nCalifornia Law Banning Most Guns in Public Will Take Effect Jan. 1 as Legal Fight News\\\\nCalifornia Lawmaker Brings Back Amsterdam-Style Cannabis Cafe Bill After Newsom Veto\\\\nCelebrity Real Estate Agent Selling Bay Area Home for $110 Million\\\\nUC Berkeley Clears People’s Park, Sparking Arrests. What’s Behind the Protests?\\\\nSan Francisco Housing Fight: 2 Lawmakers Urge Suing State\\\\nJewish Protesters Calling for Cease-Fire in Gaza Over It Continues\\\\nAverage PG&E Bill To Jump $35 a Month This Year\"}, {\"url\": \"https://www.cbsnews.com/sanfrancisco/local-news/\", \"content\": \"First Alert Weather\\\\nwith Paul Heggen\\\\nCurrent Conditions\\\\nMore Weather\\\\nKPIX-TV Schedule\\\\nView All Programs\\\\nKPIX+-TV Schedule\\\\nView All Programs\\\\nOur Newsletter\\\\nLatest Videos\\\\nwith Paul Heggen\\\\nThe Alameda County Community Food Bank announced that the Stephen and Ayesha Curry Eat.Learn. A jury on Friday found a homeless man not guilty in the beating with a metal pipe of a former San Francisco businessman, an attack that was caught on video and fueled debate about crime and homelessness in the city.\\\\n A jury on Friday found a homeless man not guilty in the beating with a metal pipe of a former San Francisco businessman, an attack that was caught on video and fueled debate about crime and homelessness in the city.\\\\n A jury on Friday found a homeless man not guilty in the beating with a metal pipe of a former San Francisco businessman, an attack that was caught on video and fueled debate about crime and homelessness in the city.\\\\n Anze Kopitar had a goal and an assist as the Los Angeles Kings beat the San Jose Sharks 4-1.\\\\nBay Area Crime\\\\nEighteen people were arrested by San Francisco police in anti-shoplifting operations this week in the city, according to police.\\\\n\"}]', name='tavily_search_results_json', id='bec8232f-e3b0-4059-b859-528d19b0a023', tool_call_id='1d5513cd-e10b-48eb-b70d-f79c9703c37a', artifact={'query': 'current events in San Francisco', 'follow_up_questions': None, 'answer': None, 'images': [], 'results': [{'title': 'News - The San Francisco Standard', 'url': 'https://sfstandard.com/news/', 'content': 'Disrupt 1st Day of California Legislative Session\\nPolice Locate Missing 15-Year-Old Last Seen in San Francisco\\nGolden Gate Bridge’s Suicide Net Is Finally Complete\\n3 Charged in Killing of Oakland Police Officer Tuan Le\\n$68B California Deficit, AI Regulation Top Agenda as Lawmakers Return to Sacramento\\nCaltrain Hits Car in Burlingame, Injuring 1 and Causing Delays\\nATM Thieves Target San Francisco Bank and Oakland Grocery Store\\nCalifornia Starts 2024 With Below-Normal Snowpack, but Big Storm Headed for Sierra\\n4 Cars Set on Fire in San Francisco’s Bernal Heights, Rattling Residents\\nOakland Police Make Arrests in Killing of Undercover Cop\\nSan Francisco Building Inspector Who Inspected His Own Home Gets Fired, Faces Charges\\n1 Dead, 2 Injured in Rollover Car Crash in San Francisco\\nMurder Case of Elderly San Francisco Woman Beaten to Death Still in Limbo After 5 Years\\nHe Beat Addiction and Homelessness To Become an IT Tech. Then He Started Making Ghost Guns\\nMan Killed by Fireworks in San Francisco on New Year’s Day\\nWoman Shot in Car on Market Street in Downtown San Francisco\\n9 Injured as BART Train Derails and Catches Fire, Causes Major Delays\\n2024 Brings Stiffer Penalties for Fentanyl Dealers in California as Overdose Crisis Rages\\nCalifornia Law Banning Most Guns in Public Will Take Effect Jan. 1 as Legal Fight News\\nCalifornia Lawmaker Brings Back Amsterdam-Style Cannabis Cafe Bill After Newsom Veto\\nCelebrity Real Estate Agent Selling Bay Area Home for $110 Million\\nUC Berkeley Clears People’s Park, Sparking Arrests. What’s Behind the Protests?\\nSan Francisco Housing Fight: 2 Lawmakers Urge Suing State\\nJewish Protesters Calling for Cease-Fire in Gaza Over It Continues\\nAverage PG&E Bill To Jump $35 a Month This Year', 'score': 0.94355595, 'raw_content': None}, {'title': 'Breaking News from KPIX-TV - CBS San Francisco', 'url': 'https://www.cbsnews.com/sanfrancisco/local-news/', 'content': 'First Alert Weather\\nwith Paul Heggen\\nCurrent Conditions\\nMore Weather\\nKPIX-TV Schedule\\nView All Programs\\nKPIX+-TV Schedule\\nView All Programs\\nOur Newsletter\\nLatest Videos\\nwith Paul Heggen\\nThe Alameda County Community Food Bank announced that the Stephen and Ayesha Curry Eat.Learn. A jury on Friday found a homeless man not guilty in the beating with a metal pipe of a former San Francisco businessman, an attack that was caught on video and fueled debate about crime and homelessness in the city.\\n A jury on Friday found a homeless man not guilty in the beating with a metal pipe of a former San Francisco businessman, an attack that was caught on video and fueled debate about crime and homelessness in the city.\\n A jury on Friday found a homeless man not guilty in the beating with a metal pipe of a former San Francisco businessman, an attack that was caught on video and fueled debate about crime and homelessness in the city.\\n Anze Kopitar had a goal and an assist as the Los Angeles Kings beat the San Jose Sharks 4-1.\\nBay Area Crime\\nEighteen people were arrested by San Francisco police in anti-shoplifting operations this week in the city, according to police.\\n', 'score': 0.77424216, 'raw_content': None}], 'response_time': 2.46})]}}\n",
      "----\n",
      "{'agent': {'messages': [AIMessage(content=\"Hello Bob! I'm happy to help. Based on the current events in San Francisco that I've found:\\n\\n* A jury recently found a homeless man not guilty in the beating with a metal pipe of a former San Francisco businessman.\\n* The Golden Gate Bridge's Suicide Net is finally complete, which aims to reduce suicides at the iconic landmark.\\n* There have been some incidents involving crime and homelessness in the city, including an attack on a former San Francisco businessman that was caught on video.\\n* The San Francisco Building Inspector who inspected his own home has been fired and faces charges.\\n* There have also been some accidents and incidents around the Bay Area, such as a car crash on New Year's Day and a BART train derailment.\\n\\nI hope this information is helpful, Bob! Is there anything specific you'd like to know more about?\", additional_kwargs={}, response_metadata={'model': 'llama3.1', 'created_at': '2024-12-17T15:36:12.798599338Z', 'done': True, 'done_reason': 'stop', 'total_duration': 1709817450, 'load_duration': 22997451, 'prompt_eval_count': 798, 'prompt_eval_duration': 61000000, 'eval_count': 169, 'eval_duration': 1315000000, 'message': Message(role='assistant', content=\"Hello Bob! I'm happy to help. Based on the current events in San Francisco that I've found:\\n\\n* A jury recently found a homeless man not guilty in the beating with a metal pipe of a former San Francisco businessman.\\n* The Golden Gate Bridge's Suicide Net is finally complete, which aims to reduce suicides at the iconic landmark.\\n* There have been some incidents involving crime and homelessness in the city, including an attack on a former San Francisco businessman that was caught on video.\\n* The San Francisco Building Inspector who inspected his own home has been fired and faces charges.\\n* There have also been some accidents and incidents around the Bay Area, such as a car crash on New Year's Day and a BART train derailment.\\n\\nI hope this information is helpful, Bob! Is there anything specific you'd like to know more about?\", images=None, tool_calls=None)}, id='run-3f3027b5-9162-4fc2-b45b-7ef5536c1a7e-0', usage_metadata={'input_tokens': 798, 'output_tokens': 169, 'total_tokens': 967})]}}\n",
      "----\n"
     ]
    }
   ],
   "source": [
    "\n",
    "# Use the agent\n",
    "config = {\"configurable\": {\"thread_id\": \"abc1234\"}}\n",
    "for chunk in agent_executor.stream(\n",
    "    {\"messages\": [HumanMessage(content=\"hi im bob! and i live in sf\")]}, config\n",
    "):\n",
    "    print(chunk)\n",
    "    print(\"----\")"
   ]
  },
  {
   "cell_type": "code",
   "execution_count": 24,
   "metadata": {},
   "outputs": [
    {
     "name": "stdout",
     "output_type": "stream",
     "text": [
      "{'agent': {'messages': [AIMessage(content='', additional_kwargs={}, response_metadata={'model': 'llama3.1', 'created_at': '2024-12-17T15:36:45.444524047Z', 'done': True, 'done_reason': 'stop', 'total_duration': 251427536, 'load_duration': 13622333, 'prompt_eval_count': 1114, 'prompt_eval_duration': 18000000, 'eval_count': 25, 'eval_duration': 214000000, 'message': Message(role='assistant', content='', images=None, tool_calls=[ToolCall(function=Function(name='tavily_search_results_json', arguments={'query': 'current weather in San Francisco'}))])}, id='run-418fd631-3ba2-4d8c-94d5-97018f7e7644-0', tool_calls=[{'name': 'tavily_search_results_json', 'args': {'query': 'current weather in San Francisco'}, 'id': 'b8fa190e-462d-4cac-b8c9-af7fa68e378d', 'type': 'tool_call'}], usage_metadata={'input_tokens': 1114, 'output_tokens': 25, 'total_tokens': 1139})]}}\n",
      "----\n",
      "{'tools': {'messages': [ToolMessage(content='[{\"url\": \"https://www.weatherapi.com/\", \"content\": \"{\\'location\\': {\\'name\\': \\'San Francisco\\', \\'region\\': \\'California\\', \\'country\\': \\'United States of America\\', \\'lat\\': 37.775, \\'lon\\': -122.4183, \\'tz_id\\': \\'America/Los_Angeles\\', \\'localtime_epoch\\': 1734449729, \\'localtime\\': \\'2024-12-17 07:35\\'}, \\'current\\': {\\'last_updated_epoch\\': 1734449400, \\'last_updated\\': \\'2024-12-17 07:30\\', \\'temp_c\\': 10.6, \\'temp_f\\': 51.1, \\'is_day\\': 1, \\'condition\\': {\\'text\\': \\'Mist\\', \\'icon\\': \\'//cdn.weatherapi.com/weather/64x64/day/143.png\\', \\'code\\': 1030}, \\'wind_mph\\': 4.7, \\'wind_kph\\': 7.6, \\'wind_degree\\': 46, \\'wind_dir\\': \\'NE\\', \\'pressure_mb\\': 1026.0, \\'pressure_in\\': 30.31, \\'precip_mm\\': 0.0, \\'precip_in\\': 0.0, \\'humidity\\': 89, \\'cloud\\': 100, \\'feelslike_c\\': 9.8, \\'feelslike_f\\': 49.6, \\'windchill_c\\': 10.1, \\'windchill_f\\': 50.2, \\'heatindex_c\\': 10.2, \\'heatindex_f\\': 50.4, \\'dewpoint_c\\': 9.9, \\'dewpoint_f\\': 49.8, \\'vis_km\\': 2.0, \\'vis_miles\\': 1.0, \\'uv\\': 0.0, \\'gust_mph\\': 8.0, \\'gust_kph\\': 12.9}}\"}, {\"url\": \"https://forecast.weather.gov/MapClick.php?lat=37.7800771&lon=-122.4201615\", \"content\": \"Current conditions at SAN FRANCISCO DOWNTOWN (SFOC1) Lat: 37.77056°NLon: 122.42694°WElev: 150.0ft. NA. 52°F. 11°C. ... San Francisco CA 37.77°N 122.41°W (Elev. 131 ft) Last Update: 2:33 pm PST Dec 11, 2024. Forecast Valid: 12am PST Dec 12, 2024-6pm PST Dec 18, 2024 . Forecast Discussion . Additional Resources. Radar & Satellite Image\"}]', name='tavily_search_results_json', id='2e3644ea-ea7d-49ff-88c3-8850e01755a5', tool_call_id='b8fa190e-462d-4cac-b8c9-af7fa68e378d', artifact={'query': 'current weather in San Francisco', 'follow_up_questions': None, 'answer': None, 'images': [], 'results': [{'title': 'Weather in San Francisco', 'url': 'https://www.weatherapi.com/', 'content': \"{'location': {'name': 'San Francisco', 'region': 'California', 'country': 'United States of America', 'lat': 37.775, 'lon': -122.4183, 'tz_id': 'America/Los_Angeles', 'localtime_epoch': 1734449729, 'localtime': '2024-12-17 07:35'}, 'current': {'last_updated_epoch': 1734449400, 'last_updated': '2024-12-17 07:30', 'temp_c': 10.6, 'temp_f': 51.1, 'is_day': 1, 'condition': {'text': 'Mist', 'icon': '//cdn.weatherapi.com/weather/64x64/day/143.png', 'code': 1030}, 'wind_mph': 4.7, 'wind_kph': 7.6, 'wind_degree': 46, 'wind_dir': 'NE', 'pressure_mb': 1026.0, 'pressure_in': 30.31, 'precip_mm': 0.0, 'precip_in': 0.0, 'humidity': 89, 'cloud': 100, 'feelslike_c': 9.8, 'feelslike_f': 49.6, 'windchill_c': 10.1, 'windchill_f': 50.2, 'heatindex_c': 10.2, 'heatindex_f': 50.4, 'dewpoint_c': 9.9, 'dewpoint_f': 49.8, 'vis_km': 2.0, 'vis_miles': 1.0, 'uv': 0.0, 'gust_mph': 8.0, 'gust_kph': 12.9}}\", 'score': 0.9865022, 'raw_content': None}, {'title': 'National Weather Service', 'url': 'https://forecast.weather.gov/MapClick.php?lat=37.7800771&lon=-122.4201615', 'content': 'Current conditions at SAN FRANCISCO DOWNTOWN (SFOC1) Lat: 37.77056°NLon: 122.42694°WElev: 150.0ft. NA. 52°F. 11°C. ... San Francisco CA 37.77°N 122.41°W (Elev. 131 ft) Last Update: 2:33 pm PST Dec 11, 2024. Forecast Valid: 12am PST Dec 12, 2024-6pm PST Dec 18, 2024 . Forecast Discussion . Additional Resources. Radar & Satellite Image', 'score': 0.9863105, 'raw_content': None}], 'response_time': 2.71})]}}\n",
      "----\n",
      "{'agent': {'messages': [AIMessage(content=\"The current weather in San Francisco is misty with a temperature of 10.6°C (51.1°F). The wind speed is around 7.6 km/h (4.7 mph) from the northeast, and the humidity is at 89%. It's feeling cool with a feels-like temperature of 9.8°C (49.6°F), and there are no precipitation chances in the next hour.\", additional_kwargs={}, response_metadata={'model': 'llama3.1', 'created_at': '2024-12-17T15:36:49.572034022Z', 'done': True, 'done_reason': 'stop', 'total_duration': 800497028, 'load_duration': 16323345, 'prompt_eval_count': 1591, 'prompt_eval_duration': 74000000, 'eval_count': 86, 'eval_duration': 697000000, 'message': Message(role='assistant', content=\"The current weather in San Francisco is misty with a temperature of 10.6°C (51.1°F). The wind speed is around 7.6 km/h (4.7 mph) from the northeast, and the humidity is at 89%. It's feeling cool with a feels-like temperature of 9.8°C (49.6°F), and there are no precipitation chances in the next hour.\", images=None, tool_calls=None)}, id='run-12e05672-79a0-4e71-a039-4aede8ae60d9-0', usage_metadata={'input_tokens': 1591, 'output_tokens': 86, 'total_tokens': 1677})]}}\n",
      "----\n"
     ]
    }
   ],
   "source": [
    "for chunk in agent_executor.stream(\n",
    "    {\"messages\": [HumanMessage(content=\"whats the weather where I live?\")]}, config\n",
    "):\n",
    "    print(chunk)\n",
    "    print(\"----\")"
   ]
  },
  {
   "cell_type": "code",
   "execution_count": 35,
   "metadata": {},
   "outputs": [
    {
     "name": "stderr",
     "output_type": "stream",
     "text": [
      "NotImplementedError in LogStreamCallbackHandler.on_llm_end callback: NotImplementedError('Trying to load an object that doesn\\'t implement serialization: {\\'lc\\': 1, \\'type\\': \\'not_implemented\\', \\'id\\': [\\'ollama\\', \\'_types\\', \\'Message\\'], \\'repr\\': \"Message(role=\\'assistant\\', content=\\'\\', images=None, tool_calls=[ToolCall(function=Function(name=\\'tavily_search_results_json\\', arguments={\\'query\\': \\'San Francisco weather\\'}))])\"}')\n"
     ]
    },
    {
     "name": "stdout",
     "output_type": "stream",
     "text": [
      "--\n",
      "Starting tool: tavily_search_results_json with inputs: {'query': 'San Francisco weather'}\n",
      "Done tool: tavily_search_results_json\n",
      "Tool output was: content='[{\"url\": \"https://www.weatherapi.com/\", \"content\": \"{\\'location\\': {\\'name\\': \\'San Francisco\\', \\'region\\': \\'California\\', \\'country\\': \\'United States of America\\', \\'lat\\': 37.775, \\'lon\\': -122.4183, \\'tz_id\\': \\'America/Los_Angeles\\', \\'localtime_epoch\\': 1734448840, \\'localtime\\': \\'2024-12-17 07:20\\'}, \\'current\\': {\\'last_updated_epoch\\': 1734448500, \\'last_updated\\': \\'2024-12-17 07:15\\', \\'temp_c\\': 10.6, \\'temp_f\\': 51.1, \\'is_day\\': 0, \\'condition\\': {\\'text\\': \\'Mist\\', \\'icon\\': \\'//cdn.weatherapi.com/weather/64x64/night/143.png\\', \\'code\\': 1030}, \\'wind_mph\\': 4.7, \\'wind_kph\\': 7.6, \\'wind_degree\\': 46, \\'wind_dir\\': \\'NE\\', \\'pressure_mb\\': 1026.0, \\'pressure_in\\': 30.31, \\'precip_mm\\': 0.0, \\'precip_in\\': 0.0, \\'humidity\\': 89, \\'cloud\\': 100, \\'feelslike_c\\': 9.8, \\'feelslike_f\\': 49.6, \\'windchill_c\\': 10.1, \\'windchill_f\\': 50.2, \\'heatindex_c\\': 10.2, \\'heatindex_f\\': 50.4, \\'dewpoint_c\\': 9.9, \\'dewpoint_f\\': 49.8, \\'vis_km\\': 2.0, \\'vis_miles\\': 1.0, \\'uv\\': 0.0, \\'gust_mph\\': 8.0, \\'gust_kph\\': 12.9}}\"}, {\"url\": \"https://www.msn.com/en-us/weather/topstories/december-17-2024-san-francisco-bay-area-weather-forecast/vi-AA1w1sgN\", \"content\": \"KRON San Francisco. December 17, 2024 San Francisco Bay Area weather forecast. Posted: December 17, 2024 | Last updated: December 17, 2024. KRON4 Meteorologist John Shrable has the latest weather\"}]' name='tavily_search_results_json' tool_call_id='6927b2e6-af14-4d4f-b248-b2e437222703' artifact={'query': 'San Francisco weather', 'follow_up_questions': None, 'answer': None, 'images': [], 'results': [{'title': 'Weather in San Francisco', 'url': 'https://www.weatherapi.com/', 'content': \"{'location': {'name': 'San Francisco', 'region': 'California', 'country': 'United States of America', 'lat': 37.775, 'lon': -122.4183, 'tz_id': 'America/Los_Angeles', 'localtime_epoch': 1734448840, 'localtime': '2024-12-17 07:20'}, 'current': {'last_updated_epoch': 1734448500, 'last_updated': '2024-12-17 07:15', 'temp_c': 10.6, 'temp_f': 51.1, 'is_day': 0, 'condition': {'text': 'Mist', 'icon': '//cdn.weatherapi.com/weather/64x64/night/143.png', 'code': 1030}, 'wind_mph': 4.7, 'wind_kph': 7.6, 'wind_degree': 46, 'wind_dir': 'NE', 'pressure_mb': 1026.0, 'pressure_in': 30.31, 'precip_mm': 0.0, 'precip_in': 0.0, 'humidity': 89, 'cloud': 100, 'feelslike_c': 9.8, 'feelslike_f': 49.6, 'windchill_c': 10.1, 'windchill_f': 50.2, 'heatindex_c': 10.2, 'heatindex_f': 50.4, 'dewpoint_c': 9.9, 'dewpoint_f': 49.8, 'vis_km': 2.0, 'vis_miles': 1.0, 'uv': 0.0, 'gust_mph': 8.0, 'gust_kph': 12.9}}\", 'score': 0.9997736, 'raw_content': None}, {'title': 'December 17, 2024 San Francisco Bay Area weather forecast - MSN', 'url': 'https://www.msn.com/en-us/weather/topstories/december-17-2024-san-francisco-bay-area-weather-forecast/vi-AA1w1sgN', 'content': 'KRON San Francisco. December 17, 2024 San Francisco Bay Area weather forecast. Posted: December 17, 2024 | Last updated: December 17, 2024. KRON4 Meteorologist John Shrable has the latest weather', 'score': 0.999554, 'raw_content': None}], 'response_time': 3.34}\n",
      "--\n"
     ]
    },
    {
     "name": "stderr",
     "output_type": "stream",
     "text": [
      "NotImplementedError in LogStreamCallbackHandler.on_llm_end callback: NotImplementedError('Trying to load an object that doesn\\'t implement serialization: {\\'lc\\': 1, \\'type\\': \\'not_implemented\\', \\'id\\': [\\'ollama\\', \\'_types\\', \\'Message\\'], \\'repr\\': \"Message(role=\\'assistant\\', content=\\'The current weather in San Francisco is misty with a temperature of 51.1°F (10.6°C) and a humidity of 89%. The wind is blowing at 4.7 mph (7.6 kph) from the northeast, and there is no precipitation. It feels like 49.6°F (9.8°C) due to the wind chill.\\', images=None, tool_calls=None)\"}')\n"
     ]
    }
   ],
   "source": [
    "async for event in agent_executor.astream_events(\n",
    "    {\"messages\": [HumanMessage(content=\"whats the weather in sf?\")]}, version=\"v1\", config=config\n",
    "):\n",
    "    kind = event[\"event\"]\n",
    "    if kind == \"on_chain_start\":\n",
    "        if (\n",
    "            event[\"name\"] == \"Agent\"\n",
    "        ):  # Was assigned when creating the agent with `.with_config({\"run_name\": \"Agent\"})`\n",
    "            print(\n",
    "                f\"Starting agent: {event['name']} with input: {event['data'].get('input')}\"\n",
    "            )\n",
    "    elif kind == \"on_chain_end\":\n",
    "        if (\n",
    "            event[\"name\"] == \"Agent\"\n",
    "        ):  # Was assigned when creating the agent with `.with_config({\"run_name\": \"Agent\"})`\n",
    "            print()\n",
    "            print(\"--\")\n",
    "            print(\n",
    "                f\"Done agent: {event['name']} with output: {event['data'].get('output')['output']}\"\n",
    "            )\n",
    "    if kind == \"on_chat_model_stream\":\n",
    "        content = event[\"data\"][\"chunk\"].content\n",
    "        if content:\n",
    "            # Empty content in the context of OpenAI means\n",
    "            # that the model is asking for a tool to be invoked.\n",
    "            # So we only print non-empty content\n",
    "            print(content, end=\"|\")\n",
    "    elif kind == \"on_tool_start\":\n",
    "        print(\"--\")\n",
    "        print(\n",
    "            f\"Starting tool: {event['name']} with inputs: {event['data'].get('input')}\"\n",
    "        )\n",
    "    elif kind == \"on_tool_end\":\n",
    "        print(f\"Done tool: {event['name']}\")\n",
    "        print(f\"Tool output was: {event['data'].get('output')}\")\n",
    "        print(\"--\")"
   ]
  },
  {
   "cell_type": "code",
   "execution_count": null,
   "metadata": {},
   "outputs": [],
   "source": []
  }
 ],
 "metadata": {
  "kernelspec": {
   "display_name": "langchain",
   "language": "python",
   "name": "python3"
  },
  "language_info": {
   "codemirror_mode": {
    "name": "ipython",
    "version": 3
   },
   "file_extension": ".py",
   "mimetype": "text/x-python",
   "name": "python",
   "nbconvert_exporter": "python",
   "pygments_lexer": "ipython3",
   "version": "3.11.11"
  }
 },
 "nbformat": 4,
 "nbformat_minor": 2
}
